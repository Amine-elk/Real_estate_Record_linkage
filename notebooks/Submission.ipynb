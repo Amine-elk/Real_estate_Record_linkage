{
 "cells": [
  {
   "cell_type": "code",
   "execution_count": 1,
   "metadata": {},
   "outputs": [
    {
     "name": "stderr",
     "output_type": "stream",
     "text": [
      "[nltk_data] Downloading package stopwords to\n",
      "[nltk_data]     C:\\Users\\Amine\\AppData\\Roaming\\nltk_data...\n",
      "[nltk_data]   Package stopwords is already up-to-date!\n",
      "[nltk_data] Downloading package wordnet to\n",
      "[nltk_data]     C:\\Users\\Amine\\AppData\\Roaming\\nltk_data...\n",
      "[nltk_data]   Package wordnet is already up-to-date!\n",
      "[nltk_data] Downloading package punkt to\n",
      "[nltk_data]     C:\\Users\\Amine\\AppData\\Roaming\\nltk_data...\n",
      "[nltk_data]   Package punkt is already up-to-date!\n"
     ]
    }
   ],
   "source": [
    "import pandas as pd\n",
    "import matplotlib.pyplot as plt  # Import the plotting library\n",
    "import seaborn as sns\n",
    "\n",
    "import numpy as np\n",
    "\n",
    "\n",
    "from nltk.corpus import stopwords\n",
    "from nltk.tokenize import word_tokenize\n",
    "from nltk.stem import WordNetLemmatizer\n",
    "import string\n",
    "\n",
    "\n",
    "import re\n",
    "\n",
    "import json\n",
    "# download nltk corpus (first time only)\n",
    "import nltk\n",
    "\n",
    "nltk.download('stopwords')\n",
    "nltk.download('wordnet')\n",
    "nltk.download('punkt')\n",
    "\n",
    "\n",
    "\n",
    "\n",
    "def missing_values_table(df, table=True):\n",
    "    mis_val = df.isnull().sum()\n",
    "    \n",
    "    mis_val_percent = 100 * df.isnull().sum() / len(df)\n",
    "    \n",
    "    types = df.dtypes\n",
    "    types.replace({'object': 'str'}, inplace=True)\n",
    "    \n",
    "    mis_val_table = pd.concat([mis_val, mis_val_percent, types], axis=1)\n",
    "    \n",
    "    mis_val_table_ren_columns = mis_val_table.rename(\n",
    "        columns={0: 'Missing Values', 1: '% of Total Values', 2: 'Type'})\n",
    "    \n",
    "    mis_val_table_ren_columns = mis_val_table_ren_columns.sort_values('% of Total Values', ascending=False).round(1)\n",
    "    \n",
    "    print(\"Your selected dataframe has \" + str(df.shape[1]) + \" columns.\\n\")\n",
    "    \n",
    "    # Add plot\n",
    "    plt.figure(figsize=(13, 6))\n",
    "    sns.set(style=\"whitegrid\", color_codes=True)\n",
    "    sns.barplot(x=mis_val_table_ren_columns.index, y=mis_val_table_ren_columns[\"% of Total Values\"], data=mis_val_table_ren_columns)\n",
    "    plt.xticks(rotation=90)\n",
    "    plt.title(\"Missing values count\")\n",
    "    plt.show()\n",
    "    \n",
    "    if table:\n",
    "        return mis_val_table_ren_columns\n",
    "\n",
    "\n",
    "def drop_func(df, prc, lst_col_keep):\n",
    "    columns_to_drop = []  \n",
    "    mis_val_percent = 100 * df.isnull().sum() / len(df)\n",
    "    for col in df.columns:\n",
    "        if mis_val_percent[col] >= prc and col not in lst_col_keep:\n",
    "            columns_to_drop.append(col)\n",
    "    return columns_to_drop\n",
    "\n",
    "\n",
    "def check_sentence_for_word(sentence, lst):\n",
    "    result_list = []  \n",
    "    float_values = []  \n",
    "\n",
    "    words = sentence.split()  \n",
    "\n",
    "    for i, word in enumerate(words):\n",
    "        if word in lst:\n",
    "            if i > 0:  \n",
    "                before = words[i - 1]\n",
    "                if is_float(before):\n",
    "                    float_values.append(float(before))\n",
    "            if i < len(words) - 1:  \n",
    "                after = words[i + 1]\n",
    "                if is_float(after):\n",
    "                    float_values.append(float(after))\n",
    "\n",
    "    if float_values:\n",
    "        max_float = max(float_values)\n",
    "        result_list.append(max_float)\n",
    "\n",
    "    return first_element_or_nan(result_list)\n",
    "\n",
    "def is_float(word):\n",
    "    try:\n",
    "        float(word)\n",
    "        return True\n",
    "    except ValueError:\n",
    "        return False\n",
    "    \n",
    "    \n",
    "\n",
    "\n",
    "def first_element_or_nan(lst):\n",
    "    if lst:\n",
    "        return lst[0]\n",
    "    else:\n",
    "        return np.nan \n",
    "\n",
    "\n",
    "def split_measurement_strings(text):\n",
    "    \n",
    "    pattern = r'(\\d+)\\s*([m²])'\n",
    "\n",
    "    result = re.sub(pattern, r'\\1 \\2', text)\n",
    "\n",
    "    return result\n",
    "\n",
    "\n",
    "\n",
    "def preprocess_text_nltk(text):\n",
    "\n",
    "    # Tokenize the text\n",
    "    tokens = word_tokenize(text.lower())\n",
    "    # Remove stop words\n",
    "    filtered_tokens = [token for token in tokens if token not in stopwords.words('french')]\n",
    "    # Lemmatize the tokens\n",
    "    lemmatizer = WordNetLemmatizer()\n",
    "    lemmatized_tokens = [lemmatizer.lemmatize(token) for token in filtered_tokens]\n",
    "    # Join the tokens back into a string\n",
    "    processed_text = ' '.join(lemmatized_tokens)\n",
    "    \n",
    "    processed_text = split_measurement_strings(processed_text)\n",
    "    # remove ponct\n",
    "    exclude = set(string.punctuation)\n",
    "    processed_text = ''.join(ch for ch in processed_text if ch not in exclude)\n",
    "    return processed_text\n",
    "\n",
    "\n"
   ]
  },
  {
   "cell_type": "markdown",
   "metadata": {},
   "source": [
    "# Objectf:\n",
    "\n",
    "#### Le but de cette partie est d'analyser les données, d'observer comment elles sont liées les unes aux autres, de traiter les valeurs manquantes et de créer d'autres variables qui peuvent nous aider à résoudre notre problème."
   ]
  },
  {
   "cell_type": "code",
   "execution_count": 2,
   "metadata": {},
   "outputs": [],
   "source": [
    "# load & general data cleaning\n",
    "DATA_PATH = \"../data/raw_data_.csv\"\n",
    "\n",
    "data = pd.read_csv(DATA_PATH)\n",
    "\n",
    "# drop completely NA columns\n",
    "data.dropna(\n",
    "    how=\"all\",\n",
    "    axis=1,\n",
    "    inplace=True\n",
    ")\n",
    "\n",
    "# drop constant columns\n",
    "filter_const_cols = (data != data.iloc[0]).any(axis=0)\n",
    "data = data.loc[:, filter_const_cols]\n",
    "\n",
    "# drop ID\n",
    "data.drop(\n",
    "    labels=[\n",
    "        \"ID\",\n",
    "        \"URL\",  # we won't re scrap the website again\n",
    "        \"ZIP_CODE\"\n",
    "    ],\n",
    "    axis=1,\n",
    "    inplace=True\n",
    ")"
   ]
  },
  {
   "cell_type": "code",
   "execution_count": 3,
   "metadata": {},
   "outputs": [],
   "source": [
    "# columns to be leveraged later\n",
    "USELESS_COL = [\n",
    "    # \"CRAWL_SOURCE\", \n",
    "    \"IMAGES\", \n",
    "    # \"DESCRIPTION\",\n",
    "    # \"PUBLICATION_START_DATE\", \"LAST_CRAWL_DATE\", \n",
    "    \"LAST_PRICE_DECREASE_DATE\", \"HEATING_TYPES\"\n",
    "    # \"PRICE_EVENTS\",\n",
    "]\n",
    "data_useful = data.drop(labels=USELESS_COL, axis=1)\n",
    "\n",
    "data_useful['PUBLICATION_START_DATE'] = pd.to_datetime(data['PUBLICATION_START_DATE'])\n",
    "data_useful['LAST_CRAWL_DATE'] = pd.to_datetime(data['LAST_CRAWL_DATE'])\n",
    "\n",
    "data_useful['pub_strt_date_ym'] = data_useful['PUBLICATION_START_DATE'].dt.strftime('%Y-%m')\n",
    "data_useful['last_crawl_date_ym'] = data_useful['LAST_CRAWL_DATE'].dt.strftime('%Y-%m')\n",
    "\n",
    "def calculate_days(row):\n",
    "    date_difference = row['LAST_CRAWL_DATE'] - row['PUBLICATION_START_DATE']\n",
    "    return date_difference.days\n",
    "\n",
    "# Appliquer la fonction à chaque ligne pour calculer le nombre de jours\n",
    "data_useful['Days_Between'] = data_useful.apply(calculate_days, axis=1)"
   ]
  },
  {
   "cell_type": "code",
   "execution_count": 4,
   "metadata": {},
   "outputs": [],
   "source": [
    "lst_col_keep = []\n",
    "prc = 70\n",
    "columns_to_drop = drop_func(data_useful, prc, lst_col_keep)"
   ]
  },
  {
   "cell_type": "code",
   "execution_count": 5,
   "metadata": {},
   "outputs": [
    {
     "data": {
      "text/plain": [
       "['LAND_SURFACE',\n",
       " 'TERRACE_SURFACE',\n",
       " 'FURNISHED',\n",
       " 'GARDEN',\n",
       " 'SWIMMING_POOL',\n",
       " 'TERRACE',\n",
       " 'PARKING_COUNT',\n",
       " 'FLOOR_COUNT',\n",
       " 'CONSTRUCTION_YEAR',\n",
       " 'ELEVATOR',\n",
       " 'CARETAKER',\n",
       " 'RENTAL_EXPENSES',\n",
       " 'RENTAL_EXPENSES_INCLUDED',\n",
       " 'DEPOSIT',\n",
       " 'FEES',\n",
       " 'FEES_INCLUDED',\n",
       " 'AGENCIES_UNWANTED']"
      ]
     },
     "execution_count": 5,
     "metadata": {},
     "output_type": "execute_result"
    }
   ],
   "source": [
    "columns_to_drop"
   ]
  },
  {
   "cell_type": "code",
   "execution_count": 6,
   "metadata": {},
   "outputs": [],
   "source": [
    "data_useful = data_useful.drop(columns=columns_to_drop)"
   ]
  },
  {
   "cell_type": "code",
   "execution_count": 7,
   "metadata": {},
   "outputs": [
    {
     "name": "stdout",
     "output_type": "stream",
     "text": [
      "Your selected dataframe has 23 columns.\n",
      "\n"
     ]
    },
    {
     "data": {
      "image/png": "[encoded data removed]",
      "text/plain": [
       "<Figure size 1300x600 with 1 Axes>"
      ]
     },
     "metadata": {},
     "output_type": "display_data"
    },
    {
     "data": {
      "text/html": [
       "<div>\n",
       "<style scoped>\n",
       "    .dataframe tbody tr th:only-of-type {\n",
       "        vertical-align: middle;\n",
       "    }\n",
       "\n",
       "    .dataframe tbody tr th {\n",
       "        vertical-align: top;\n",
       "    }\n",
       "\n",
       "    .dataframe thead th {\n",
       "        text-align: right;\n",
       "    }\n",
       "</style>\n",
       "<table border=\"1\" class=\"dataframe\">\n",
       "  <thead>\n",
       "    <tr style=\"text-align: right;\">\n",
       "      <th></th>\n",
       "      <th>Missing Values</th>\n",
       "      <th>% of Total Values</th>\n",
       "      <th>Type</th>\n",
       "    </tr>\n",
       "  </thead>\n",
       "  <tbody>\n",
       "    <tr>\n",
       "      <th>HEATING_MODE</th>\n",
       "      <td>1511</td>\n",
       "      <td>69.8</td>\n",
       "      <td>str</td>\n",
       "    </tr>\n",
       "    <tr>\n",
       "      <th>FLOOR</th>\n",
       "      <td>1504</td>\n",
       "      <td>69.5</td>\n",
       "      <td>float64</td>\n",
       "    </tr>\n",
       "    <tr>\n",
       "      <th>BEDROOM_COUNT</th>\n",
       "      <td>1468</td>\n",
       "      <td>67.8</td>\n",
       "      <td>float64</td>\n",
       "    </tr>\n",
       "    <tr>\n",
       "      <th>OCCUPIED</th>\n",
       "      <td>955</td>\n",
       "      <td>44.1</td>\n",
       "      <td>str</td>\n",
       "    </tr>\n",
       "    <tr>\n",
       "      <th>ROOM_COUNT</th>\n",
       "      <td>329</td>\n",
       "      <td>15.2</td>\n",
       "      <td>float64</td>\n",
       "    </tr>\n",
       "    <tr>\n",
       "      <th>NEW_BUILD</th>\n",
       "      <td>191</td>\n",
       "      <td>8.8</td>\n",
       "      <td>str</td>\n",
       "    </tr>\n",
       "    <tr>\n",
       "      <th>PRICE_M2</th>\n",
       "      <td>173</td>\n",
       "      <td>8.0</td>\n",
       "      <td>float64</td>\n",
       "    </tr>\n",
       "    <tr>\n",
       "      <th>SURFACE</th>\n",
       "      <td>114</td>\n",
       "      <td>5.3</td>\n",
       "      <td>float64</td>\n",
       "    </tr>\n",
       "    <tr>\n",
       "      <th>DEALER_NAME</th>\n",
       "      <td>87</td>\n",
       "      <td>4.0</td>\n",
       "      <td>str</td>\n",
       "    </tr>\n",
       "    <tr>\n",
       "      <th>PRICE</th>\n",
       "      <td>60</td>\n",
       "      <td>2.8</td>\n",
       "      <td>float64</td>\n",
       "    </tr>\n",
       "    <tr>\n",
       "      <th>DESCRIPTION</th>\n",
       "      <td>4</td>\n",
       "      <td>0.2</td>\n",
       "      <td>str</td>\n",
       "    </tr>\n",
       "    <tr>\n",
       "      <th>last_crawl_date_ym</th>\n",
       "      <td>0</td>\n",
       "      <td>0.0</td>\n",
       "      <td>str</td>\n",
       "    </tr>\n",
       "    <tr>\n",
       "      <th>pub_strt_date_ym</th>\n",
       "      <td>0</td>\n",
       "      <td>0.0</td>\n",
       "      <td>str</td>\n",
       "    </tr>\n",
       "    <tr>\n",
       "      <th>LAST_CRAWL_DATE</th>\n",
       "      <td>0</td>\n",
       "      <td>0.0</td>\n",
       "      <td>datetime64[ns]</td>\n",
       "    </tr>\n",
       "    <tr>\n",
       "      <th>PUBLICATION_START_DATE</th>\n",
       "      <td>0</td>\n",
       "      <td>0.0</td>\n",
       "      <td>datetime64[ns]</td>\n",
       "    </tr>\n",
       "    <tr>\n",
       "      <th>DEALER_TYPE</th>\n",
       "      <td>0</td>\n",
       "      <td>0.0</td>\n",
       "      <td>str</td>\n",
       "    </tr>\n",
       "    <tr>\n",
       "      <th>CRAWL_SOURCE</th>\n",
       "      <td>0</td>\n",
       "      <td>0.0</td>\n",
       "      <td>str</td>\n",
       "    </tr>\n",
       "    <tr>\n",
       "      <th>EXCLUSIVE_MANDATE</th>\n",
       "      <td>0</td>\n",
       "      <td>0.0</td>\n",
       "      <td>bool</td>\n",
       "    </tr>\n",
       "    <tr>\n",
       "      <th>PRICE_EVENTS</th>\n",
       "      <td>0</td>\n",
       "      <td>0.0</td>\n",
       "      <td>str</td>\n",
       "    </tr>\n",
       "    <tr>\n",
       "      <th>PROPERTY_TYPE</th>\n",
       "      <td>0</td>\n",
       "      <td>0.0</td>\n",
       "      <td>str</td>\n",
       "    </tr>\n",
       "    <tr>\n",
       "      <th>MARKETING_TYPE</th>\n",
       "      <td>0</td>\n",
       "      <td>0.0</td>\n",
       "      <td>str</td>\n",
       "    </tr>\n",
       "    <tr>\n",
       "      <th>PARKING</th>\n",
       "      <td>0</td>\n",
       "      <td>0.0</td>\n",
       "      <td>bool</td>\n",
       "    </tr>\n",
       "    <tr>\n",
       "      <th>Days_Between</th>\n",
       "      <td>0</td>\n",
       "      <td>0.0</td>\n",
       "      <td>int64</td>\n",
       "    </tr>\n",
       "  </tbody>\n",
       "</table>\n",
       "</div>"
      ],
      "text/plain": [
       "                        Missing Values  % of Total Values            Type\n",
       "HEATING_MODE                      1511               69.8             str\n",
       "FLOOR                             1504               69.5         float64\n",
       "BEDROOM_COUNT                     1468               67.8         float64\n",
       "OCCUPIED                           955               44.1             str\n",
       "ROOM_COUNT                         329               15.2         float64\n",
       "NEW_BUILD                          191                8.8             str\n",
       "PRICE_M2                           173                8.0         float64\n",
       "SURFACE                            114                5.3         float64\n",
       "DEALER_NAME                         87                4.0             str\n",
       "PRICE                               60                2.8         float64\n",
       "DESCRIPTION                          4                0.2             str\n",
       "last_crawl_date_ym                   0                0.0             str\n",
       "pub_strt_date_ym                     0                0.0             str\n",
       "LAST_CRAWL_DATE                      0                0.0  datetime64[ns]\n",
       "PUBLICATION_START_DATE               0                0.0  datetime64[ns]\n",
       "DEALER_TYPE                          0                0.0             str\n",
       "CRAWL_SOURCE                         0                0.0             str\n",
       "EXCLUSIVE_MANDATE                    0                0.0            bool\n",
       "PRICE_EVENTS                         0                0.0             str\n",
       "PROPERTY_TYPE                        0                0.0             str\n",
       "MARKETING_TYPE                       0                0.0             str\n",
       "PARKING                              0                0.0            bool\n",
       "Days_Between                         0                0.0           int64"
      ]
     },
     "execution_count": 7,
     "metadata": {},
     "output_type": "execute_result"
    }
   ],
   "source": [
    "missing_values_table(data_useful)"
   ]
  },
  {
   "cell_type": "code",
   "execution_count": 8,
   "metadata": {},
   "outputs": [],
   "source": [
    "# create preprocess_text function\n",
    "def preprocess_text(text):\n",
    "    # Tokenize the text\n",
    "    tokens = word_tokenize(text.lower())\n",
    "    # Lemmatize the tokens\n",
    "    lemmatizer = WordNetLemmatizer()\n",
    "    lemmatized_tokens = [lemmatizer.lemmatize(token) for token in tokens]\n",
    "    # Join the tokens back into a string\n",
    "    processed_text = ' '.join(lemmatized_tokens)\n",
    "    \n",
    "    processed_text = split_measurement_strings(processed_text)\n",
    "\n",
    "    return processed_text"
   ]
  },
  {
   "cell_type": "code",
   "execution_count": 9,
   "metadata": {},
   "outputs": [],
   "source": [
    "df = data_useful.query(\"(SURFACE.isna()) & (PROPERTY_TYPE != 'PARKING')\")"
   ]
  },
  {
   "cell_type": "code",
   "execution_count": 10,
   "metadata": {},
   "outputs": [
    {
     "data": {
      "text/plain": [
       "APARTMENT    20\n",
       "PREMISES      9\n",
       "HOUSE         5\n",
       "BUILDING      2\n",
       "Name: PROPERTY_TYPE, dtype: int64"
      ]
     },
     "execution_count": 10,
     "metadata": {},
     "output_type": "execute_result"
    }
   ],
   "source": [
    "df['PROPERTY_TYPE'].value_counts()"
   ]
  },
  {
   "cell_type": "code",
   "execution_count": 11,
   "metadata": {},
   "outputs": [
    {
     "name": "stderr",
     "output_type": "stream",
     "text": [
      "C:\\Users\\Amine\\AppData\\Local\\Temp\\ipykernel_12020\\3109761167.py:1: SettingWithCopyWarning: \n",
      "A value is trying to be set on a copy of a slice from a DataFrame.\n",
      "Try using .loc[row_indexer,col_indexer] = value instead\n",
      "\n",
      "See the caveats in the documentation: https://pandas.pydata.org/pandas-docs/stable/user_guide/indexing.html#returning-a-view-versus-a-copy\n",
      "  df['DESCRIPTION'] = df['DESCRIPTION'].apply(preprocess_text)\n",
      "C:\\Users\\Amine\\AppData\\Local\\Temp\\ipykernel_12020\\3109761167.py:9: SettingWithCopyWarning: \n",
      "A value is trying to be set on a copy of a slice from a DataFrame.\n",
      "Try using .loc[row_indexer,col_indexer] = value instead\n",
      "\n",
      "See the caveats in the documentation: https://pandas.pydata.org/pandas-docs/stable/user_guide/indexing.html#returning-a-view-versus-a-copy\n",
      "  df['SURFACE'] = df.apply(fill_surface, axis=1)\n"
     ]
    }
   ],
   "source": [
    "df['DESCRIPTION'] = df['DESCRIPTION'].apply(preprocess_text)\n",
    "\n",
    "lst = ['m²']\n",
    "\n",
    "def fill_surface(row):\n",
    "    surface = check_sentence_for_word(row['DESCRIPTION'], lst)\n",
    "    return row['SURFACE'] if not pd.isna(row['SURFACE']) else surface\n",
    "\n",
    "df['SURFACE'] = df.apply(fill_surface, axis=1)\n"
   ]
  },
  {
   "cell_type": "code",
   "execution_count": 12,
   "metadata": {},
   "outputs": [],
   "source": [
    "updated_data_useful = data_useful.copy()\n",
    "updated_data_useful.loc[df.index] = df"
   ]
  },
  {
   "cell_type": "code",
   "execution_count": 13,
   "metadata": {},
   "outputs": [
    {
     "name": "stdout",
     "output_type": "stream",
     "text": [
      "Your selected dataframe has 23 columns.\n",
      "\n"
     ]
    },
    {
     "data": {
      "image/png": "[encoded data removed]",
      "text/plain": [
       "<Figure size 1300x600 with 1 Axes>"
      ]
     },
     "metadata": {},
     "output_type": "display_data"
    },
    {
     "data": {
      "text/html": [
       "<div>\n",
       "<style scoped>\n",
       "    .dataframe tbody tr th:only-of-type {\n",
       "        vertical-align: middle;\n",
       "    }\n",
       "\n",
       "    .dataframe tbody tr th {\n",
       "        vertical-align: top;\n",
       "    }\n",
       "\n",
       "    .dataframe thead th {\n",
       "        text-align: right;\n",
       "    }\n",
       "</style>\n",
       "<table border=\"1\" class=\"dataframe\">\n",
       "  <thead>\n",
       "    <tr style=\"text-align: right;\">\n",
       "      <th></th>\n",
       "      <th>Missing Values</th>\n",
       "      <th>% of Total Values</th>\n",
       "      <th>Type</th>\n",
       "    </tr>\n",
       "  </thead>\n",
       "  <tbody>\n",
       "    <tr>\n",
       "      <th>HEATING_MODE</th>\n",
       "      <td>1511</td>\n",
       "      <td>69.8</td>\n",
       "      <td>str</td>\n",
       "    </tr>\n",
       "    <tr>\n",
       "      <th>FLOOR</th>\n",
       "      <td>1504</td>\n",
       "      <td>69.5</td>\n",
       "      <td>float64</td>\n",
       "    </tr>\n",
       "    <tr>\n",
       "      <th>BEDROOM_COUNT</th>\n",
       "      <td>1468</td>\n",
       "      <td>67.8</td>\n",
       "      <td>float64</td>\n",
       "    </tr>\n",
       "    <tr>\n",
       "      <th>OCCUPIED</th>\n",
       "      <td>955</td>\n",
       "      <td>44.1</td>\n",
       "      <td>str</td>\n",
       "    </tr>\n",
       "    <tr>\n",
       "      <th>ROOM_COUNT</th>\n",
       "      <td>329</td>\n",
       "      <td>15.2</td>\n",
       "      <td>float64</td>\n",
       "    </tr>\n",
       "    <tr>\n",
       "      <th>NEW_BUILD</th>\n",
       "      <td>191</td>\n",
       "      <td>8.8</td>\n",
       "      <td>str</td>\n",
       "    </tr>\n",
       "    <tr>\n",
       "      <th>PRICE_M2</th>\n",
       "      <td>173</td>\n",
       "      <td>8.0</td>\n",
       "      <td>float64</td>\n",
       "    </tr>\n",
       "    <tr>\n",
       "      <th>DEALER_NAME</th>\n",
       "      <td>87</td>\n",
       "      <td>4.0</td>\n",
       "      <td>str</td>\n",
       "    </tr>\n",
       "    <tr>\n",
       "      <th>SURFACE</th>\n",
       "      <td>85</td>\n",
       "      <td>3.9</td>\n",
       "      <td>float64</td>\n",
       "    </tr>\n",
       "    <tr>\n",
       "      <th>PRICE</th>\n",
       "      <td>60</td>\n",
       "      <td>2.8</td>\n",
       "      <td>float64</td>\n",
       "    </tr>\n",
       "    <tr>\n",
       "      <th>DESCRIPTION</th>\n",
       "      <td>4</td>\n",
       "      <td>0.2</td>\n",
       "      <td>str</td>\n",
       "    </tr>\n",
       "    <tr>\n",
       "      <th>last_crawl_date_ym</th>\n",
       "      <td>0</td>\n",
       "      <td>0.0</td>\n",
       "      <td>str</td>\n",
       "    </tr>\n",
       "    <tr>\n",
       "      <th>pub_strt_date_ym</th>\n",
       "      <td>0</td>\n",
       "      <td>0.0</td>\n",
       "      <td>str</td>\n",
       "    </tr>\n",
       "    <tr>\n",
       "      <th>LAST_CRAWL_DATE</th>\n",
       "      <td>0</td>\n",
       "      <td>0.0</td>\n",
       "      <td>datetime64[ns]</td>\n",
       "    </tr>\n",
       "    <tr>\n",
       "      <th>PUBLICATION_START_DATE</th>\n",
       "      <td>0</td>\n",
       "      <td>0.0</td>\n",
       "      <td>datetime64[ns]</td>\n",
       "    </tr>\n",
       "    <tr>\n",
       "      <th>DEALER_TYPE</th>\n",
       "      <td>0</td>\n",
       "      <td>0.0</td>\n",
       "      <td>str</td>\n",
       "    </tr>\n",
       "    <tr>\n",
       "      <th>CRAWL_SOURCE</th>\n",
       "      <td>0</td>\n",
       "      <td>0.0</td>\n",
       "      <td>str</td>\n",
       "    </tr>\n",
       "    <tr>\n",
       "      <th>EXCLUSIVE_MANDATE</th>\n",
       "      <td>0</td>\n",
       "      <td>0.0</td>\n",
       "      <td>bool</td>\n",
       "    </tr>\n",
       "    <tr>\n",
       "      <th>PRICE_EVENTS</th>\n",
       "      <td>0</td>\n",
       "      <td>0.0</td>\n",
       "      <td>str</td>\n",
       "    </tr>\n",
       "    <tr>\n",
       "      <th>PROPERTY_TYPE</th>\n",
       "      <td>0</td>\n",
       "      <td>0.0</td>\n",
       "      <td>str</td>\n",
       "    </tr>\n",
       "    <tr>\n",
       "      <th>MARKETING_TYPE</th>\n",
       "      <td>0</td>\n",
       "      <td>0.0</td>\n",
       "      <td>str</td>\n",
       "    </tr>\n",
       "    <tr>\n",
       "      <th>PARKING</th>\n",
       "      <td>0</td>\n",
       "      <td>0.0</td>\n",
       "      <td>bool</td>\n",
       "    </tr>\n",
       "    <tr>\n",
       "      <th>Days_Between</th>\n",
       "      <td>0</td>\n",
       "      <td>0.0</td>\n",
       "      <td>int64</td>\n",
       "    </tr>\n",
       "  </tbody>\n",
       "</table>\n",
       "</div>"
      ],
      "text/plain": [
       "                        Missing Values  % of Total Values            Type\n",
       "HEATING_MODE                      1511               69.8             str\n",
       "FLOOR                             1504               69.5         float64\n",
       "BEDROOM_COUNT                     1468               67.8         float64\n",
       "OCCUPIED                           955               44.1             str\n",
       "ROOM_COUNT                         329               15.2         float64\n",
       "NEW_BUILD                          191                8.8             str\n",
       "PRICE_M2                           173                8.0         float64\n",
       "DEALER_NAME                         87                4.0             str\n",
       "SURFACE                             85                3.9         float64\n",
       "PRICE                               60                2.8         float64\n",
       "DESCRIPTION                          4                0.2             str\n",
       "last_crawl_date_ym                   0                0.0             str\n",
       "pub_strt_date_ym                     0                0.0             str\n",
       "LAST_CRAWL_DATE                      0                0.0  datetime64[ns]\n",
       "PUBLICATION_START_DATE               0                0.0  datetime64[ns]\n",
       "DEALER_TYPE                          0                0.0             str\n",
       "CRAWL_SOURCE                         0                0.0             str\n",
       "EXCLUSIVE_MANDATE                    0                0.0            bool\n",
       "PRICE_EVENTS                         0                0.0             str\n",
       "PROPERTY_TYPE                        0                0.0             str\n",
       "MARKETING_TYPE                       0                0.0             str\n",
       "PARKING                              0                0.0            bool\n",
       "Days_Between                         0                0.0           int64"
      ]
     },
     "execution_count": 13,
     "metadata": {},
     "output_type": "execute_result"
    }
   ],
   "source": [
    "missing_values_table(updated_data_useful)"
   ]
  },
  {
   "cell_type": "code",
   "execution_count": 14,
   "metadata": {},
   "outputs": [],
   "source": [
    "df_p = updated_data_useful.query(\"(SURFACE.isna()) & (PROPERTY_TYPE == 'PARKING')\")"
   ]
  },
  {
   "cell_type": "code",
   "execution_count": 15,
   "metadata": {},
   "outputs": [
    {
     "name": "stderr",
     "output_type": "stream",
     "text": [
      "C:\\Users\\Amine\\AppData\\Local\\Temp\\ipykernel_12020\\2647681271.py:5: SettingWithCopyWarning: \n",
      "A value is trying to be set on a copy of a slice from a DataFrame.\n",
      "Try using .loc[row_indexer,col_indexer] = value instead\n",
      "\n",
      "See the caveats in the documentation: https://pandas.pydata.org/pandas-docs/stable/user_guide/indexing.html#returning-a-view-versus-a-copy\n",
      "  df_p['SURFACE'] = df_p.apply(lambda row: fill_surface(row, updated_data_useful), axis=1)\n"
     ]
    }
   ],
   "source": [
    "def fill_surface(row, df):\n",
    "    mean_surface = round(df[df['PROPERTY_TYPE'] == 'PARKING']['SURFACE'].mean(), 2)\n",
    "    return row['SURFACE'] if not pd.isna(row['SURFACE']) else mean_surface\n",
    "\n",
    "df_p['SURFACE'] = df_p.apply(lambda row: fill_surface(row, updated_data_useful), axis=1)\n"
   ]
  },
  {
   "cell_type": "code",
   "execution_count": 16,
   "metadata": {},
   "outputs": [],
   "source": [
    "updated_data_useful_2 = updated_data_useful.copy()\n",
    "updated_data_useful_2.loc[df_p.index] = df_p"
   ]
  },
  {
   "cell_type": "code",
   "execution_count": 17,
   "metadata": {},
   "outputs": [
    {
     "name": "stdout",
     "output_type": "stream",
     "text": [
      "Your selected dataframe has 23 columns.\n",
      "\n"
     ]
    },
    {
     "data": {
      "image/png": "[encoded data removed]",
      "text/plain": [
       "<Figure size 1300x600 with 1 Axes>"
      ]
     },
     "metadata": {},
     "output_type": "display_data"
    }
   ],
   "source": [
    "missing_values_table(updated_data_useful_2, False)"
   ]
  },
  {
   "cell_type": "code",
   "execution_count": 18,
   "metadata": {},
   "outputs": [],
   "source": [
    "# filling price for missig values Apprt's price\n",
    "\n",
    "df_missing_price = updated_data_useful_2.query(\"(MARKETING_TYPE == 'RENT') & (PROPERTY_TYPE.isin(['PREMISES', 'BUILDING'])) & (PRICE.isna())\")"
   ]
  },
  {
   "cell_type": "code",
   "execution_count": 19,
   "metadata": {},
   "outputs": [
    {
     "name": "stderr",
     "output_type": "stream",
     "text": [
      "C:\\Users\\Amine\\AppData\\Local\\Temp\\ipykernel_12020\\1984082234.py:6: SettingWithCopyWarning: \n",
      "A value is trying to be set on a copy of a slice from a DataFrame.\n",
      "Try using .loc[row_indexer,col_indexer] = value instead\n",
      "\n",
      "See the caveats in the documentation: https://pandas.pydata.org/pandas-docs/stable/user_guide/indexing.html#returning-a-view-versus-a-copy\n",
      "  df_missing_price['PRICE'] = df_missing_price['PRICE_EVENTS'].apply(calculate_mean_price)\n"
     ]
    }
   ],
   "source": [
    "def calculate_mean_price(json_string):\n",
    "    data_list = json.loads(json_string)\n",
    "    prices = [entry['price'] for entry in data_list]\n",
    "    return sum(prices) / len(prices)\n",
    "\n",
    "df_missing_price['PRICE'] = df_missing_price['PRICE_EVENTS'].apply(calculate_mean_price)"
   ]
  },
  {
   "cell_type": "code",
   "execution_count": 20,
   "metadata": {},
   "outputs": [],
   "source": [
    "updated_data_useful_3 = updated_data_useful_2.copy()\n",
    "updated_data_useful_3.loc[df_missing_price.index] = df_missing_price"
   ]
  },
  {
   "cell_type": "code",
   "execution_count": 21,
   "metadata": {},
   "outputs": [
    {
     "name": "stdout",
     "output_type": "stream",
     "text": [
      "Your selected dataframe has 23 columns.\n",
      "\n"
     ]
    },
    {
     "data": {
      "image/png": "[encoded data removed]",
      "text/plain": [
       "<Figure size 1300x600 with 1 Axes>"
      ]
     },
     "metadata": {},
     "output_type": "display_data"
    },
    {
     "data": {
      "text/html": [
       "<div>\n",
       "<style scoped>\n",
       "    .dataframe tbody tr th:only-of-type {\n",
       "        vertical-align: middle;\n",
       "    }\n",
       "\n",
       "    .dataframe tbody tr th {\n",
       "        vertical-align: top;\n",
       "    }\n",
       "\n",
       "    .dataframe thead th {\n",
       "        text-align: right;\n",
       "    }\n",
       "</style>\n",
       "<table border=\"1\" class=\"dataframe\">\n",
       "  <thead>\n",
       "    <tr style=\"text-align: right;\">\n",
       "      <th></th>\n",
       "      <th>Missing Values</th>\n",
       "      <th>% of Total Values</th>\n",
       "      <th>Type</th>\n",
       "    </tr>\n",
       "  </thead>\n",
       "  <tbody>\n",
       "    <tr>\n",
       "      <th>HEATING_MODE</th>\n",
       "      <td>1511</td>\n",
       "      <td>69.8</td>\n",
       "      <td>str</td>\n",
       "    </tr>\n",
       "    <tr>\n",
       "      <th>FLOOR</th>\n",
       "      <td>1504</td>\n",
       "      <td>69.5</td>\n",
       "      <td>float64</td>\n",
       "    </tr>\n",
       "    <tr>\n",
       "      <th>BEDROOM_COUNT</th>\n",
       "      <td>1468</td>\n",
       "      <td>67.8</td>\n",
       "      <td>float64</td>\n",
       "    </tr>\n",
       "    <tr>\n",
       "      <th>OCCUPIED</th>\n",
       "      <td>955</td>\n",
       "      <td>44.1</td>\n",
       "      <td>str</td>\n",
       "    </tr>\n",
       "    <tr>\n",
       "      <th>ROOM_COUNT</th>\n",
       "      <td>329</td>\n",
       "      <td>15.2</td>\n",
       "      <td>float64</td>\n",
       "    </tr>\n",
       "    <tr>\n",
       "      <th>NEW_BUILD</th>\n",
       "      <td>191</td>\n",
       "      <td>8.8</td>\n",
       "      <td>str</td>\n",
       "    </tr>\n",
       "    <tr>\n",
       "      <th>PRICE_M2</th>\n",
       "      <td>173</td>\n",
       "      <td>8.0</td>\n",
       "      <td>float64</td>\n",
       "    </tr>\n",
       "    <tr>\n",
       "      <th>DEALER_NAME</th>\n",
       "      <td>87</td>\n",
       "      <td>4.0</td>\n",
       "      <td>str</td>\n",
       "    </tr>\n",
       "    <tr>\n",
       "      <th>SURFACE</th>\n",
       "      <td>7</td>\n",
       "      <td>0.3</td>\n",
       "      <td>float64</td>\n",
       "    </tr>\n",
       "    <tr>\n",
       "      <th>DESCRIPTION</th>\n",
       "      <td>4</td>\n",
       "      <td>0.2</td>\n",
       "      <td>str</td>\n",
       "    </tr>\n",
       "    <tr>\n",
       "      <th>PRICE</th>\n",
       "      <td>1</td>\n",
       "      <td>0.0</td>\n",
       "      <td>float64</td>\n",
       "    </tr>\n",
       "    <tr>\n",
       "      <th>last_crawl_date_ym</th>\n",
       "      <td>0</td>\n",
       "      <td>0.0</td>\n",
       "      <td>str</td>\n",
       "    </tr>\n",
       "    <tr>\n",
       "      <th>pub_strt_date_ym</th>\n",
       "      <td>0</td>\n",
       "      <td>0.0</td>\n",
       "      <td>str</td>\n",
       "    </tr>\n",
       "    <tr>\n",
       "      <th>LAST_CRAWL_DATE</th>\n",
       "      <td>0</td>\n",
       "      <td>0.0</td>\n",
       "      <td>datetime64[ns]</td>\n",
       "    </tr>\n",
       "    <tr>\n",
       "      <th>PUBLICATION_START_DATE</th>\n",
       "      <td>0</td>\n",
       "      <td>0.0</td>\n",
       "      <td>datetime64[ns]</td>\n",
       "    </tr>\n",
       "    <tr>\n",
       "      <th>DEALER_TYPE</th>\n",
       "      <td>0</td>\n",
       "      <td>0.0</td>\n",
       "      <td>str</td>\n",
       "    </tr>\n",
       "    <tr>\n",
       "      <th>CRAWL_SOURCE</th>\n",
       "      <td>0</td>\n",
       "      <td>0.0</td>\n",
       "      <td>str</td>\n",
       "    </tr>\n",
       "    <tr>\n",
       "      <th>EXCLUSIVE_MANDATE</th>\n",
       "      <td>0</td>\n",
       "      <td>0.0</td>\n",
       "      <td>bool</td>\n",
       "    </tr>\n",
       "    <tr>\n",
       "      <th>PRICE_EVENTS</th>\n",
       "      <td>0</td>\n",
       "      <td>0.0</td>\n",
       "      <td>str</td>\n",
       "    </tr>\n",
       "    <tr>\n",
       "      <th>PROPERTY_TYPE</th>\n",
       "      <td>0</td>\n",
       "      <td>0.0</td>\n",
       "      <td>str</td>\n",
       "    </tr>\n",
       "    <tr>\n",
       "      <th>MARKETING_TYPE</th>\n",
       "      <td>0</td>\n",
       "      <td>0.0</td>\n",
       "      <td>str</td>\n",
       "    </tr>\n",
       "    <tr>\n",
       "      <th>PARKING</th>\n",
       "      <td>0</td>\n",
       "      <td>0.0</td>\n",
       "      <td>bool</td>\n",
       "    </tr>\n",
       "    <tr>\n",
       "      <th>Days_Between</th>\n",
       "      <td>0</td>\n",
       "      <td>0.0</td>\n",
       "      <td>int64</td>\n",
       "    </tr>\n",
       "  </tbody>\n",
       "</table>\n",
       "</div>"
      ],
      "text/plain": [
       "                        Missing Values  % of Total Values            Type\n",
       "HEATING_MODE                      1511               69.8             str\n",
       "FLOOR                             1504               69.5         float64\n",
       "BEDROOM_COUNT                     1468               67.8         float64\n",
       "OCCUPIED                           955               44.1             str\n",
       "ROOM_COUNT                         329               15.2         float64\n",
       "NEW_BUILD                          191                8.8             str\n",
       "PRICE_M2                           173                8.0         float64\n",
       "DEALER_NAME                         87                4.0             str\n",
       "SURFACE                              7                0.3         float64\n",
       "DESCRIPTION                          4                0.2             str\n",
       "PRICE                                1                0.0         float64\n",
       "last_crawl_date_ym                   0                0.0             str\n",
       "pub_strt_date_ym                     0                0.0             str\n",
       "LAST_CRAWL_DATE                      0                0.0  datetime64[ns]\n",
       "PUBLICATION_START_DATE               0                0.0  datetime64[ns]\n",
       "DEALER_TYPE                          0                0.0             str\n",
       "CRAWL_SOURCE                         0                0.0             str\n",
       "EXCLUSIVE_MANDATE                    0                0.0            bool\n",
       "PRICE_EVENTS                         0                0.0             str\n",
       "PROPERTY_TYPE                        0                0.0             str\n",
       "MARKETING_TYPE                       0                0.0             str\n",
       "PARKING                              0                0.0            bool\n",
       "Days_Between                         0                0.0           int64"
      ]
     },
     "execution_count": 21,
     "metadata": {},
     "output_type": "execute_result"
    }
   ],
   "source": [
    "missing_values_table(updated_data_useful_3)"
   ]
  },
  {
   "cell_type": "markdown",
   "metadata": {},
   "source": [
    "### NEW_BUILD feature\n"
   ]
  },
  {
   "cell_type": "markdown",
   "metadata": {},
   "source": [
    "#### On va essayer de voir les valeurs manquantes de la variable NEW_BUILD et sa relation avec PROPRITY_TYPE "
   ]
  },
  {
   "cell_type": "code",
   "execution_count": 22,
   "metadata": {},
   "outputs": [
    {
     "name": "stdout",
     "output_type": "stream",
     "text": [
      "On a 8.83 % de valeurs manquantes, une 191 de valeurs manquantes.\n"
     ]
    }
   ],
   "source": [
    "print(f'On a {round((updated_data_useful_3[\"NEW_BUILD\"].isna().sum() / len(updated_data_useful_3)) * 100, 2)} % de valeurs manquantes, une {updated_data_useful_3[\"NEW_BUILD\"].isna().sum()} de valeurs manquantes.')\n",
    "\n"
   ]
  },
  {
   "cell_type": "markdown",
   "metadata": {},
   "source": [
    "#### Nous allons essayer de comprendre pourquoi, et posser une hypothèse."
   ]
  },
  {
   "cell_type": "code",
   "execution_count": 23,
   "metadata": {},
   "outputs": [
    {
     "data": {
      "image/png": "[encoded data removed]",
      "text/plain": [
       "<Figure size 800x400 with 1 Axes>"
      ]
     },
     "metadata": {},
     "output_type": "display_data"
    },
    {
     "data": {
      "text/plain": [
       "PARKING      188\n",
       "APARTMENT      3\n",
       "Name: PROPERTY_TYPE, dtype: int64"
      ]
     },
     "execution_count": 23,
     "metadata": {},
     "output_type": "execute_result"
    }
   ],
   "source": [
    "missing_build_counts = updated_data_useful_3.query(\"NEW_BUILD.isna()\")['PROPERTY_TYPE'].value_counts()\n",
    "\n",
    "plt.figure(figsize=(8, 4))\n",
    "sns.barplot(x=missing_build_counts.index, y=missing_build_counts.values, palette=\"Set3\")\n",
    "plt.xlabel(\"PROPERTY_TYPE\")\n",
    "plt.ylabel(\"Count of Missing NEW_BUILD\")\n",
    "plt.title(\"Count of Missing NEW_BUILD by PROPERTY_TYPE\")\n",
    "plt.xticks(rotation=45)  \n",
    "plt.show()\n",
    "\n",
    "missing_build_counts"
   ]
  },
  {
   "cell_type": "markdown",
   "metadata": {},
   "source": [
    "#### Nous remarquons que la plupart des valeurs manquantes sont des parkings, ce qui signifie que l'information dans NEW_BUILD n'est pas intéressante pour le type de propriété tel qu'un parking, ce qui explique pourquoi la personne rédigeant l'annonce n'est pas intéressée à le mentionner."
   ]
  },
  {
   "cell_type": "markdown",
   "metadata": {},
   "source": [
    "#### Pour ce faire, nous allons remplir cette valeur avec \"-1\" et supprimer les lignes d'appartement. Certes, ce n'est pas la meilleure solution, mais en supposant que dans la majorité des cas, si ce n'est tous, nous n'avons que les parkings sans cette valeur."
   ]
  },
  {
   "cell_type": "code",
   "execution_count": 24,
   "metadata": {},
   "outputs": [],
   "source": [
    "df_new_build = updated_data_useful_3.query(\"NEW_BUILD.isna() & PROPERTY_TYPE == 'PARKING'\")"
   ]
  },
  {
   "cell_type": "code",
   "execution_count": 25,
   "metadata": {},
   "outputs": [
    {
     "name": "stderr",
     "output_type": "stream",
     "text": [
      "C:\\Users\\Amine\\AppData\\Local\\Temp\\ipykernel_12020\\2781219201.py:1: SettingWithCopyWarning: \n",
      "A value is trying to be set on a copy of a slice from a DataFrame\n",
      "\n",
      "See the caveats in the documentation: https://pandas.pydata.org/pandas-docs/stable/user_guide/indexing.html#returning-a-view-versus-a-copy\n",
      "  df_new_build[\"NEW_BUILD\"].fillna(-1, inplace=True)\n"
     ]
    }
   ],
   "source": [
    "df_new_build[\"NEW_BUILD\"].fillna(-1, inplace=True)"
   ]
  },
  {
   "cell_type": "code",
   "execution_count": 26,
   "metadata": {},
   "outputs": [],
   "source": [
    "updated_data_useful_4 = updated_data_useful_3.copy()\n",
    "updated_data_useful_4.loc[df_new_build.index] = df_new_build"
   ]
  },
  {
   "cell_type": "markdown",
   "metadata": {},
   "source": [
    "### DEALER_NAME et DEALER_TYPE feature\n"
   ]
  },
  {
   "cell_type": "code",
   "execution_count": 27,
   "metadata": {},
   "outputs": [
    {
     "data": {
      "text/plain": [
       "Building Partners                     144\n",
       "Imax Levallois-Perret                  98\n",
       "BNP Paribas Immobilier                 50\n",
       "Evolis Idf Ouest                       44\n",
       "BUILDING PARTNERS LEVALLOIS PERRET     43\n",
       "                                     ... \n",
       "Jll Agence De Saint Denis               1\n",
       "Arthur Loyd Paris Ile De France         1\n",
       "ATRIUM GESTION                          1\n",
       "Pro Comm - Essache Immobilier           1\n",
       "Normann Immobilier                      1\n",
       "Name: DEALER_NAME, Length: 553, dtype: int64"
      ]
     },
     "execution_count": 27,
     "metadata": {},
     "output_type": "execute_result"
    }
   ],
   "source": [
    "updated_data_useful_4['DEALER_NAME'].value_counts()"
   ]
  },
  {
   "cell_type": "markdown",
   "metadata": {},
   "source": [
    "#### Nous constatons qu'il y a une forte présence de **Building Partners**, **Imax Levallois-Perret**, **BNP Paribas Immobilier**, **Evolis Idf Ouest**, **BUILDING PARTNERS LEVALLOIS PERRET**, cette variable peut être utile dans notre clustrage."
   ]
  },
  {
   "cell_type": "markdown",
   "metadata": {},
   "source": [
    "#### Ce pendant elle contient des valeurs manquantes, 87 valeurs environ 4%. Nous examinerons sa relation avec DEALER_TYPE, qui ne contient aucune valeur manquante."
   ]
  },
  {
   "cell_type": "code",
   "execution_count": 28,
   "metadata": {},
   "outputs": [
    {
     "data": {
      "text/plain": [
       "0"
      ]
     },
     "execution_count": 28,
     "metadata": {},
     "output_type": "execute_result"
    }
   ],
   "source": [
    "# Verifier une autre fois les valeurs manquantes\n",
    "updated_data_useful_4['DEALER_TYPE'].isna().sum()"
   ]
  },
  {
   "cell_type": "code",
   "execution_count": 29,
   "metadata": {},
   "outputs": [
    {
     "data": {
      "text/plain": [
       "PRIVATE    87\n",
       "Name: DEALER_TYPE, dtype: int64"
      ]
     },
     "execution_count": 29,
     "metadata": {},
     "output_type": "execute_result"
    }
   ],
   "source": [
    "updated_data_useful_4[updated_data_useful_4['DEALER_NAME'].isna()]['DEALER_TYPE'].value_counts()"
   ]
  },
  {
   "cell_type": "markdown",
   "metadata": {},
   "source": [
    "#### Nous constatons que toutes les valeurs manquantes de DEALER_NAME sont DEALER_TYPE == 'PRIVATE', nous pouvons donc supposer qu'il est tout à fait normal que les particuliers n'aient pas de DEALER_NAME.\n",
    "#### En partant de cette hypothèse, nous compléterons les valeurs manquantes de DEALER_NAME par une nouvelle valeur **\"PARTICULAR\"**."
   ]
  },
  {
   "cell_type": "code",
   "execution_count": 30,
   "metadata": {},
   "outputs": [],
   "source": [
    "updated_data_useful_4['DEALER_NAME'].fillna('PARTICULAR', inplace=True)"
   ]
  },
  {
   "cell_type": "markdown",
   "metadata": {},
   "source": [
    "### ROOM_COUNT feature"
   ]
  },
  {
   "cell_type": "markdown",
   "metadata": {},
   "source": [
    "#### Cette variable contient 329 valeurs manquantes, soit environ 15,2 % de l'ensemble de données. Il est un peu difficile d'extraire cette information de la variable description, j'ai donc décidé d'entraîner un modèle de ML pour prédire les valeurs manquantes en fonction des variables dont nous disposons. Notebook **model_imput_room.ipynb**"
   ]
  },
  {
   "cell_type": "code",
   "execution_count": 31,
   "metadata": {},
   "outputs": [
    {
     "name": "stdout",
     "output_type": "stream",
     "text": [
      "Your selected dataframe has 23 columns.\n",
      "\n"
     ]
    },
    {
     "data": {
      "image/png": "[encoded data removed]",
      "text/plain": [
       "<Figure size 1300x600 with 1 Axes>"
      ]
     },
     "metadata": {},
     "output_type": "display_data"
    }
   ],
   "source": [
    "missing_values_table(updated_data_useful_4, False)"
   ]
  },
  {
   "cell_type": "code",
   "execution_count": 32,
   "metadata": {},
   "outputs": [],
   "source": [
    "updated_data_useful_4 = updated_data_useful_4.drop(columns=['HEATING_MODE', 'FLOOR', 'BEDROOM_COUNT', 'OCCUPIED', 'PRICE_M2'])"
   ]
  },
  {
   "cell_type": "code",
   "execution_count": 33,
   "metadata": {},
   "outputs": [
    {
     "name": "stdout",
     "output_type": "stream",
     "text": [
      "Your selected dataframe has 18 columns.\n",
      "\n"
     ]
    },
    {
     "data": {
      "image/png": "[encoded data removed]",
      "text/plain": [
       "<Figure size 1300x600 with 1 Axes>"
      ]
     },
     "metadata": {},
     "output_type": "display_data"
    },
    {
     "data": {
      "text/html": [
       "<div>\n",
       "<style scoped>\n",
       "    .dataframe tbody tr th:only-of-type {\n",
       "        vertical-align: middle;\n",
       "    }\n",
       "\n",
       "    .dataframe tbody tr th {\n",
       "        vertical-align: top;\n",
       "    }\n",
       "\n",
       "    .dataframe thead th {\n",
       "        text-align: right;\n",
       "    }\n",
       "</style>\n",
       "<table border=\"1\" class=\"dataframe\">\n",
       "  <thead>\n",
       "    <tr style=\"text-align: right;\">\n",
       "      <th></th>\n",
       "      <th>Missing Values</th>\n",
       "      <th>% of Total Values</th>\n",
       "      <th>Type</th>\n",
       "    </tr>\n",
       "  </thead>\n",
       "  <tbody>\n",
       "    <tr>\n",
       "      <th>ROOM_COUNT</th>\n",
       "      <td>329</td>\n",
       "      <td>15.2</td>\n",
       "      <td>float64</td>\n",
       "    </tr>\n",
       "    <tr>\n",
       "      <th>SURFACE</th>\n",
       "      <td>7</td>\n",
       "      <td>0.3</td>\n",
       "      <td>float64</td>\n",
       "    </tr>\n",
       "    <tr>\n",
       "      <th>DESCRIPTION</th>\n",
       "      <td>4</td>\n",
       "      <td>0.2</td>\n",
       "      <td>str</td>\n",
       "    </tr>\n",
       "    <tr>\n",
       "      <th>NEW_BUILD</th>\n",
       "      <td>3</td>\n",
       "      <td>0.1</td>\n",
       "      <td>str</td>\n",
       "    </tr>\n",
       "    <tr>\n",
       "      <th>PRICE</th>\n",
       "      <td>1</td>\n",
       "      <td>0.0</td>\n",
       "      <td>float64</td>\n",
       "    </tr>\n",
       "    <tr>\n",
       "      <th>CRAWL_SOURCE</th>\n",
       "      <td>0</td>\n",
       "      <td>0.0</td>\n",
       "      <td>str</td>\n",
       "    </tr>\n",
       "    <tr>\n",
       "      <th>DEALER_TYPE</th>\n",
       "      <td>0</td>\n",
       "      <td>0.0</td>\n",
       "      <td>str</td>\n",
       "    </tr>\n",
       "    <tr>\n",
       "      <th>last_crawl_date_ym</th>\n",
       "      <td>0</td>\n",
       "      <td>0.0</td>\n",
       "      <td>str</td>\n",
       "    </tr>\n",
       "    <tr>\n",
       "      <th>pub_strt_date_ym</th>\n",
       "      <td>0</td>\n",
       "      <td>0.0</td>\n",
       "      <td>str</td>\n",
       "    </tr>\n",
       "    <tr>\n",
       "      <th>LAST_CRAWL_DATE</th>\n",
       "      <td>0</td>\n",
       "      <td>0.0</td>\n",
       "      <td>datetime64[ns]</td>\n",
       "    </tr>\n",
       "    <tr>\n",
       "      <th>PUBLICATION_START_DATE</th>\n",
       "      <td>0</td>\n",
       "      <td>0.0</td>\n",
       "      <td>datetime64[ns]</td>\n",
       "    </tr>\n",
       "    <tr>\n",
       "      <th>PRICE_EVENTS</th>\n",
       "      <td>0</td>\n",
       "      <td>0.0</td>\n",
       "      <td>str</td>\n",
       "    </tr>\n",
       "    <tr>\n",
       "      <th>DEALER_NAME</th>\n",
       "      <td>0</td>\n",
       "      <td>0.0</td>\n",
       "      <td>str</td>\n",
       "    </tr>\n",
       "    <tr>\n",
       "      <th>EXCLUSIVE_MANDATE</th>\n",
       "      <td>0</td>\n",
       "      <td>0.0</td>\n",
       "      <td>bool</td>\n",
       "    </tr>\n",
       "    <tr>\n",
       "      <th>PROPERTY_TYPE</th>\n",
       "      <td>0</td>\n",
       "      <td>0.0</td>\n",
       "      <td>str</td>\n",
       "    </tr>\n",
       "    <tr>\n",
       "      <th>MARKETING_TYPE</th>\n",
       "      <td>0</td>\n",
       "      <td>0.0</td>\n",
       "      <td>str</td>\n",
       "    </tr>\n",
       "    <tr>\n",
       "      <th>PARKING</th>\n",
       "      <td>0</td>\n",
       "      <td>0.0</td>\n",
       "      <td>bool</td>\n",
       "    </tr>\n",
       "    <tr>\n",
       "      <th>Days_Between</th>\n",
       "      <td>0</td>\n",
       "      <td>0.0</td>\n",
       "      <td>int64</td>\n",
       "    </tr>\n",
       "  </tbody>\n",
       "</table>\n",
       "</div>"
      ],
      "text/plain": [
       "                        Missing Values  % of Total Values            Type\n",
       "ROOM_COUNT                         329               15.2         float64\n",
       "SURFACE                              7                0.3         float64\n",
       "DESCRIPTION                          4                0.2             str\n",
       "NEW_BUILD                            3                0.1             str\n",
       "PRICE                                1                0.0         float64\n",
       "CRAWL_SOURCE                         0                0.0             str\n",
       "DEALER_TYPE                          0                0.0             str\n",
       "last_crawl_date_ym                   0                0.0             str\n",
       "pub_strt_date_ym                     0                0.0             str\n",
       "LAST_CRAWL_DATE                      0                0.0  datetime64[ns]\n",
       "PUBLICATION_START_DATE               0                0.0  datetime64[ns]\n",
       "PRICE_EVENTS                         0                0.0             str\n",
       "DEALER_NAME                          0                0.0             str\n",
       "EXCLUSIVE_MANDATE                    0                0.0            bool\n",
       "PROPERTY_TYPE                        0                0.0             str\n",
       "MARKETING_TYPE                       0                0.0             str\n",
       "PARKING                              0                0.0            bool\n",
       "Days_Between                         0                0.0           int64"
      ]
     },
     "execution_count": 33,
     "metadata": {},
     "output_type": "execute_result"
    }
   ],
   "source": [
    "missing_values_table(updated_data_useful_4)"
   ]
  },
  {
   "cell_type": "code",
   "execution_count": 34,
   "metadata": {},
   "outputs": [],
   "source": [
    "updated_data_useful_4.to_csv('sub_data.csv')"
   ]
  },
  {
   "cell_type": "markdown",
   "metadata": {},
   "source": [
    "----------------------------------------------------------------------------------------------------------------------------------------------------------"
   ]
  },
  {
   "cell_type": "markdown",
   "metadata": {},
   "source": [
    "### Objectif:"
   ]
  },
  {
   "cell_type": "markdown",
   "metadata": {},
   "source": [
    "Le but de cette partie est d'entraîner un modèle de machine learning pour remplir les valeurs manquantes de la variable <mark>ROOM_COUNT</mark>, en fait nous allons considérer un problème supervisé avec <mark>ROOM_COUNT</mark> comme variable cible.\n",
    "- Nous avons commencé par construire notre base de données, qui se compose de 5 variables explicatives et de la variable cible.\n",
    "- Nous avons divisé notre base de données en données de test, les lignes avec des valeurs manquantes de la variable cible, et le reste de la base de données, qui consiste pour l'essentiel en notre base de données d'entrainnement et de validation.\n",
    "- Après avoir construit et validé notre modèle (Random Forest), nous avons prédit les valeurs manquantes de la variable cible avec ce dérnier."
   ]
  },
  {
   "cell_type": "code",
   "execution_count": 35,
   "metadata": {},
   "outputs": [],
   "source": [
    "#import data\n",
    "\n",
    "data = pd.read_csv('..\\data\\sub_data.csv')\n",
    "\n",
    "\n",
    "# Preparation of data\n",
    "target = 'ROOM_COUNT' # Variable cible qu'on veut remplir à la fin\n",
    "model_var = ['PROPERTY_TYPE', 'NEW_BUILD', 'SURFACE', 'PRICE', 'EXCLUSIVE_MANDATE', 'MARKETING_TYPE'] # nos variables que nous avons choisi\n",
    "model_data = data[model_var + [target]]"
   ]
  },
  {
   "cell_type": "code",
   "execution_count": 36,
   "metadata": {},
   "outputs": [],
   "source": [
    "# Fonction pour supprimer les lignes avec des valeurs manquantes\n",
    "\n",
    "def drop_rows_with_missing_values(data, columns_to_check):\n",
    "    \n",
    "    missing_values = data[columns_to_check].isnull().any(axis=1)\n",
    "\n",
    "    data_cleaned = data[~missing_values]\n",
    "\n",
    "    return data_cleaned"
   ]
  },
  {
   "cell_type": "code",
   "execution_count": 37,
   "metadata": {},
   "outputs": [],
   "source": [
    "model_data = drop_rows_with_missing_values(model_data, model_var)"
   ]
  },
  {
   "cell_type": "code",
   "execution_count": 38,
   "metadata": {},
   "outputs": [],
   "source": [
    "# model_data.dropna(subset=['NEW_BUILD', 'SURFACE', 'PRICE'], inplace=True)"
   ]
  },
  {
   "cell_type": "code",
   "execution_count": 39,
   "metadata": {},
   "outputs": [
    {
     "data": {
      "text/plain": [
       "PROPERTY_TYPE          0\n",
       "NEW_BUILD              0\n",
       "SURFACE                0\n",
       "PRICE                  0\n",
       "EXCLUSIVE_MANDATE      0\n",
       "MARKETING_TYPE         0\n",
       "ROOM_COUNT           325\n",
       "dtype: int64"
      ]
     },
     "execution_count": 39,
     "metadata": {},
     "output_type": "execute_result"
    }
   ],
   "source": [
    "model_data.isna().sum()"
   ]
  },
  {
   "cell_type": "code",
   "execution_count": 40,
   "metadata": {},
   "outputs": [],
   "source": [
    "# Dans cette section, nous essayons d'encoder nos variables catégorielles."
   ]
  },
  {
   "cell_type": "code",
   "execution_count": 41,
   "metadata": {},
   "outputs": [],
   "source": [
    "from sklearn.preprocessing import OrdinalEncoder\n",
    "\n",
    "enc = OrdinalEncoder()\n",
    "enc.fit(model_data[[\"PROPERTY_TYPE\"]])\n",
    "model_data[[\"PROPERTY_TYPE\"]] = enc.transform(model_data[[\"PROPERTY_TYPE\"]])"
   ]
  },
  {
   "cell_type": "code",
   "execution_count": 42,
   "metadata": {},
   "outputs": [],
   "source": [
    "\n",
    "model_data[\"EXCLUSIVE_MANDATE\"] = model_data[\"EXCLUSIVE_MANDATE\"].astype(int)"
   ]
  },
  {
   "cell_type": "code",
   "execution_count": 43,
   "metadata": {},
   "outputs": [],
   "source": [
    "model_data['NEW_BUILD'] = model_data['NEW_BUILD'].map({'True': 1, 'False': 0, '-1': -1})"
   ]
  },
  {
   "cell_type": "code",
   "execution_count": 44,
   "metadata": {},
   "outputs": [],
   "source": [
    "model_data['MARKETING_TYPE'] = model_data['MARKETING_TYPE'].map({'RENT': 1, 'SALE': 0})"
   ]
  },
  {
   "cell_type": "markdown",
   "metadata": {},
   "source": [
    "#### Notre dataset resemble à cela : "
   ]
  },
  {
   "cell_type": "code",
   "execution_count": 45,
   "metadata": {},
   "outputs": [
    {
     "data": {
      "text/html": [
       "<div>\n",
       "<style scoped>\n",
       "    .dataframe tbody tr th:only-of-type {\n",
       "        vertical-align: middle;\n",
       "    }\n",
       "\n",
       "    .dataframe tbody tr th {\n",
       "        vertical-align: top;\n",
       "    }\n",
       "\n",
       "    .dataframe thead th {\n",
       "        text-align: right;\n",
       "    }\n",
       "</style>\n",
       "<table border=\"1\" class=\"dataframe\">\n",
       "  <thead>\n",
       "    <tr style=\"text-align: right;\">\n",
       "      <th></th>\n",
       "      <th>PROPERTY_TYPE</th>\n",
       "      <th>NEW_BUILD</th>\n",
       "      <th>SURFACE</th>\n",
       "      <th>PRICE</th>\n",
       "      <th>EXCLUSIVE_MANDATE</th>\n",
       "      <th>MARKETING_TYPE</th>\n",
       "      <th>ROOM_COUNT</th>\n",
       "    </tr>\n",
       "  </thead>\n",
       "  <tbody>\n",
       "    <tr>\n",
       "      <th>0</th>\n",
       "      <td>0.0</td>\n",
       "      <td>0</td>\n",
       "      <td>72.0</td>\n",
       "      <td>1979.0</td>\n",
       "      <td>0</td>\n",
       "      <td>1</td>\n",
       "      <td>3.0</td>\n",
       "    </tr>\n",
       "    <tr>\n",
       "      <th>1</th>\n",
       "      <td>0.0</td>\n",
       "      <td>0</td>\n",
       "      <td>48.0</td>\n",
       "      <td>429000.0</td>\n",
       "      <td>0</td>\n",
       "      <td>0</td>\n",
       "      <td>2.0</td>\n",
       "    </tr>\n",
       "    <tr>\n",
       "      <th>2</th>\n",
       "      <td>0.0</td>\n",
       "      <td>0</td>\n",
       "      <td>267.0</td>\n",
       "      <td>4970000.0</td>\n",
       "      <td>0</td>\n",
       "      <td>0</td>\n",
       "      <td>6.0</td>\n",
       "    </tr>\n",
       "    <tr>\n",
       "      <th>3</th>\n",
       "      <td>4.0</td>\n",
       "      <td>0</td>\n",
       "      <td>50.0</td>\n",
       "      <td>89.0</td>\n",
       "      <td>0</td>\n",
       "      <td>1</td>\n",
       "      <td>0.0</td>\n",
       "    </tr>\n",
       "    <tr>\n",
       "      <th>4</th>\n",
       "      <td>2.0</td>\n",
       "      <td>0</td>\n",
       "      <td>330.0</td>\n",
       "      <td>2790000.0</td>\n",
       "      <td>0</td>\n",
       "      <td>0</td>\n",
       "      <td>8.0</td>\n",
       "    </tr>\n",
       "  </tbody>\n",
       "</table>\n",
       "</div>"
      ],
      "text/plain": [
       "   PROPERTY_TYPE  NEW_BUILD  SURFACE      PRICE  EXCLUSIVE_MANDATE  \\\n",
       "0            0.0          0     72.0     1979.0                  0   \n",
       "1            0.0          0     48.0   429000.0                  0   \n",
       "2            0.0          0    267.0  4970000.0                  0   \n",
       "3            4.0          0     50.0       89.0                  0   \n",
       "4            2.0          0    330.0  2790000.0                  0   \n",
       "\n",
       "   MARKETING_TYPE  ROOM_COUNT  \n",
       "0               1         3.0  \n",
       "1               0         2.0  \n",
       "2               0         6.0  \n",
       "3               1         0.0  \n",
       "4               0         8.0  "
      ]
     },
     "execution_count": 45,
     "metadata": {},
     "output_type": "execute_result"
    }
   ],
   "source": [
    "model_data.head()"
   ]
  },
  {
   "cell_type": "code",
   "execution_count": 46,
   "metadata": {},
   "outputs": [],
   "source": [
    "# Nous allons essayer d'extraire la base test avec les valeurs manquantes, et la base d'entr et de validation sans valeurs manquantes.\n",
    "\n",
    "data_with_missing = model_data[model_data[target].isna()]\n",
    "data_without_missing = model_data.dropna(subset=[target])"
   ]
  },
  {
   "cell_type": "code",
   "execution_count": 47,
   "metadata": {},
   "outputs": [],
   "source": [
    "X = data_without_missing.drop(columns=[target])\n",
    "y = data_without_missing[target]"
   ]
  },
  {
   "cell_type": "code",
   "execution_count": 48,
   "metadata": {},
   "outputs": [],
   "source": [
    "# diviser X et y en ensembles de training et testing\n",
    "\n",
    "from sklearn.model_selection import train_test_split\n",
    "\n",
    "X_train, X_test, y_train, y_test = train_test_split(X, y, test_size = 0.2, random_state = 0)"
   ]
  },
  {
   "cell_type": "code",
   "execution_count": 49,
   "metadata": {},
   "outputs": [
    {
     "data": {
      "text/plain": [
       "PROPERTY_TYPE        0\n",
       "NEW_BUILD            0\n",
       "SURFACE              0\n",
       "PRICE                0\n",
       "EXCLUSIVE_MANDATE    0\n",
       "MARKETING_TYPE       0\n",
       "dtype: int64"
      ]
     },
     "execution_count": 49,
     "metadata": {},
     "output_type": "execute_result"
    }
   ],
   "source": [
    "X.isna().sum()"
   ]
  },
  {
   "cell_type": "code",
   "execution_count": 50,
   "metadata": {},
   "outputs": [
    {
     "data": {
      "text/html": [
       "<style>#sk-container-id-1 {color: black;background-color: white;}#sk-container-id-1 pre{padding: 0;}#sk-container-id-1 div.sk-toggleable {background-color: white;}#sk-container-id-1 label.sk-toggleable__label {cursor: pointer;display: block;width: 100%;margin-bottom: 0;padding: 0.3em;box-sizing: border-box;text-align: center;}#sk-container-id-1 label.sk-toggleable__label-arrow:before {content: \"▸\";float: left;margin-right: 0.25em;color: #696969;}#sk-container-id-1 label.sk-toggleable__label-arrow:hover:before {color: black;}#sk-container-id-1 div.sk-estimator:hover label.sk-toggleable__label-arrow:before {color: black;}#sk-container-id-1 div.sk-toggleable__content {max-height: 0;max-width: 0;overflow: hidden;text-align: left;background-color: #f0f8ff;}#sk-container-id-1 div.sk-toggleable__content pre {margin: 0.2em;color: black;border-radius: 0.25em;background-color: #f0f8ff;}#sk-container-id-1 input.sk-toggleable__control:checked~div.sk-toggleable__content {max-height: 200px;max-width: 100%;overflow: auto;}#sk-container-id-1 input.sk-toggleable__control:checked~label.sk-toggleable__label-arrow:before {content: \"▾\";}#sk-container-id-1 div.sk-estimator input.sk-toggleable__control:checked~label.sk-toggleable__label {background-color: #d4ebff;}#sk-container-id-1 div.sk-label input.sk-toggleable__control:checked~label.sk-toggleable__label {background-color: #d4ebff;}#sk-container-id-1 input.sk-hidden--visually {border: 0;clip: rect(1px 1px 1px 1px);clip: rect(1px, 1px, 1px, 1px);height: 1px;margin: -1px;overflow: hidden;padding: 0;position: absolute;width: 1px;}#sk-container-id-1 div.sk-estimator {font-family: monospace;background-color: #f0f8ff;border: 1px dotted black;border-radius: 0.25em;box-sizing: border-box;margin-bottom: 0.5em;}#sk-container-id-1 div.sk-estimator:hover {background-color: #d4ebff;}#sk-container-id-1 div.sk-parallel-item::after {content: \"\";width: 100%;border-bottom: 1px solid gray;flex-grow: 1;}#sk-container-id-1 div.sk-label:hover label.sk-toggleable__label {background-color: #d4ebff;}#sk-container-id-1 div.sk-serial::before {content: \"\";position: absolute;border-left: 1px solid gray;box-sizing: border-box;top: 0;bottom: 0;left: 50%;z-index: 0;}#sk-container-id-1 div.sk-serial {display: flex;flex-direction: column;align-items: center;background-color: white;padding-right: 0.2em;padding-left: 0.2em;position: relative;}#sk-container-id-1 div.sk-item {position: relative;z-index: 1;}#sk-container-id-1 div.sk-parallel {display: flex;align-items: stretch;justify-content: center;background-color: white;position: relative;}#sk-container-id-1 div.sk-item::before, #sk-container-id-1 div.sk-parallel-item::before {content: \"\";position: absolute;border-left: 1px solid gray;box-sizing: border-box;top: 0;bottom: 0;left: 50%;z-index: -1;}#sk-container-id-1 div.sk-parallel-item {display: flex;flex-direction: column;z-index: 1;position: relative;background-color: white;}#sk-container-id-1 div.sk-parallel-item:first-child::after {align-self: flex-end;width: 50%;}#sk-container-id-1 div.sk-parallel-item:last-child::after {align-self: flex-start;width: 50%;}#sk-container-id-1 div.sk-parallel-item:only-child::after {width: 0;}#sk-container-id-1 div.sk-dashed-wrapped {border: 1px dashed gray;margin: 0 0.4em 0.5em 0.4em;box-sizing: border-box;padding-bottom: 0.4em;background-color: white;}#sk-container-id-1 div.sk-label label {font-family: monospace;font-weight: bold;display: inline-block;line-height: 1.2em;}#sk-container-id-1 div.sk-label-container {text-align: center;}#sk-container-id-1 div.sk-container {/* jupyter's `normalize.less` sets `[hidden] { display: none; }` but bootstrap.min.css set `[hidden] { display: none !important; }` so we also need the `!important` here to be able to override the default hidden behavior on the sphinx rendered scikit-learn.org. See: https://github.com/scikit-learn/scikit-learn/issues/21755 */display: inline-block !important;position: relative;}#sk-container-id-1 div.sk-text-repr-fallback {display: none;}</style><div id=\"sk-container-id-1\" class=\"sk-top-container\"><div class=\"sk-text-repr-fallback\"><pre>RandomForestClassifier(n_jobs=-1, random_state=123)</pre><b>In a Jupyter environment, please rerun this cell to show the HTML representation or trust the notebook. <br />On GitHub, the HTML representation is unable to render, please try loading this page with nbviewer.org.</b></div><div class=\"sk-container\" hidden><div class=\"sk-item\"><div class=\"sk-estimator sk-toggleable\"><input class=\"sk-toggleable__control sk-hidden--visually\" id=\"sk-estimator-id-1\" type=\"checkbox\" checked><label for=\"sk-estimator-id-1\" class=\"sk-toggleable__label sk-toggleable__label-arrow\">RandomForestClassifier</label><div class=\"sk-toggleable__content\"><pre>RandomForestClassifier(n_jobs=-1, random_state=123)</pre></div></div></div></div></div>"
      ],
      "text/plain": [
       "RandomForestClassifier(n_jobs=-1, random_state=123)"
      ]
     },
     "execution_count": 50,
     "metadata": {},
     "output_type": "execute_result"
    }
   ],
   "source": [
    "# Model \n",
    "\n",
    "from sklearn.ensemble import RandomForestClassifier\n",
    "\n",
    "clf = RandomForestClassifier(bootstrap=True, ccp_alpha=0.0, class_weight=None,\n",
    "                       criterion='gini', max_depth=None, max_features='sqrt',\n",
    "                       max_leaf_nodes=None, max_samples=None,\n",
    "                       min_impurity_decrease=0.0, min_samples_leaf=1,\n",
    "                       min_samples_split=2, min_weight_fraction_leaf=0.0,\n",
    "                       n_estimators=100, n_jobs=-1, oob_score=False,\n",
    "                       random_state=123, verbose=0, warm_start=False)\n",
    "\n",
    "clf.fit(X_train, y_train)"
   ]
  },
  {
   "cell_type": "code",
   "execution_count": 51,
   "metadata": {},
   "outputs": [],
   "source": [
    "y_pred_test = clf.predict(X_test)"
   ]
  },
  {
   "cell_type": "code",
   "execution_count": 52,
   "metadata": {},
   "outputs": [
    {
     "name": "stdout",
     "output_type": "stream",
     "text": [
      "Model accuracy score: 0.9344\n"
     ]
    }
   ],
   "source": [
    "from sklearn.metrics import accuracy_score\n",
    "\n",
    "print('Model accuracy score: {0:0.4f}'. format(accuracy_score(y_test, y_pred_test)))"
   ]
  },
  {
   "cell_type": "code",
   "execution_count": 53,
   "metadata": {},
   "outputs": [
    {
     "name": "stdout",
     "output_type": "stream",
     "text": [
      "Model balanced accuracy score: 0.8532\n"
     ]
    }
   ],
   "source": [
    "from sklearn.metrics import balanced_accuracy_score\n",
    "\n",
    "print('Model balanced accuracy score: {0:0.4f}'. format(balanced_accuracy_score(y_test, y_pred_test)))"
   ]
  },
  {
   "cell_type": "markdown",
   "metadata": {},
   "source": [
    "#### Nous avons essayé de travailler avec une balanced accuracy parce qu'il y a un déséquilibre dans notre variable cible.\n",
    "#### Comme nous pouvons le constater, notre accuracy est très bonne. (85%)"
   ]
  },
  {
   "cell_type": "code",
   "execution_count": 54,
   "metadata": {},
   "outputs": [],
   "source": [
    "# Prédire les valeurs cibles manquantes\n",
    "X_with_missing = data_with_missing.drop(columns=[target])\n",
    "predicted_values = clf.predict(X_with_missing)"
   ]
  },
  {
   "cell_type": "code",
   "execution_count": 55,
   "metadata": {},
   "outputs": [
    {
     "name": "stderr",
     "output_type": "stream",
     "text": [
      "C:\\Users\\Amine\\AppData\\Local\\Temp\\ipykernel_12020\\2077759636.py:1: SettingWithCopyWarning: \n",
      "A value is trying to be set on a copy of a slice from a DataFrame.\n",
      "Try using .loc[row_indexer,col_indexer] = value instead\n",
      "\n",
      "See the caveats in the documentation: https://pandas.pydata.org/pandas-docs/stable/user_guide/indexing.html#returning-a-view-versus-a-copy\n",
      "  data_with_missing[target] = predicted_values\n"
     ]
    }
   ],
   "source": [
    "data_with_missing[target] = predicted_values\n",
    "\n",
    "final_data = pd.concat([data_with_missing, data_without_missing])"
   ]
  },
  {
   "cell_type": "code",
   "execution_count": 56,
   "metadata": {},
   "outputs": [
    {
     "data": {
      "text/html": [
       "<div>\n",
       "<style scoped>\n",
       "    .dataframe tbody tr th:only-of-type {\n",
       "        vertical-align: middle;\n",
       "    }\n",
       "\n",
       "    .dataframe tbody tr th {\n",
       "        vertical-align: top;\n",
       "    }\n",
       "\n",
       "    .dataframe thead th {\n",
       "        text-align: right;\n",
       "    }\n",
       "</style>\n",
       "<table border=\"1\" class=\"dataframe\">\n",
       "  <thead>\n",
       "    <tr style=\"text-align: right;\">\n",
       "      <th></th>\n",
       "      <th>PROPERTY_TYPE</th>\n",
       "      <th>NEW_BUILD</th>\n",
       "      <th>SURFACE</th>\n",
       "      <th>PRICE</th>\n",
       "      <th>EXCLUSIVE_MANDATE</th>\n",
       "      <th>MARKETING_TYPE</th>\n",
       "      <th>ROOM_COUNT</th>\n",
       "    </tr>\n",
       "  </thead>\n",
       "  <tbody>\n",
       "    <tr>\n",
       "      <th>7</th>\n",
       "      <td>3.0</td>\n",
       "      <td>-1</td>\n",
       "      <td>16.00</td>\n",
       "      <td>60.0</td>\n",
       "      <td>0</td>\n",
       "      <td>1</td>\n",
       "      <td>1.0</td>\n",
       "    </tr>\n",
       "    <tr>\n",
       "      <th>8</th>\n",
       "      <td>3.0</td>\n",
       "      <td>-1</td>\n",
       "      <td>11.00</td>\n",
       "      <td>100.0</td>\n",
       "      <td>0</td>\n",
       "      <td>1</td>\n",
       "      <td>1.0</td>\n",
       "    </tr>\n",
       "    <tr>\n",
       "      <th>10</th>\n",
       "      <td>4.0</td>\n",
       "      <td>0</td>\n",
       "      <td>95.00</td>\n",
       "      <td>64500.0</td>\n",
       "      <td>0</td>\n",
       "      <td>0</td>\n",
       "      <td>0.0</td>\n",
       "    </tr>\n",
       "    <tr>\n",
       "      <th>17</th>\n",
       "      <td>4.0</td>\n",
       "      <td>0</td>\n",
       "      <td>1105.00</td>\n",
       "      <td>25783.0</td>\n",
       "      <td>0</td>\n",
       "      <td>1</td>\n",
       "      <td>0.0</td>\n",
       "    </tr>\n",
       "    <tr>\n",
       "      <th>18</th>\n",
       "      <td>3.0</td>\n",
       "      <td>-1</td>\n",
       "      <td>12.74</td>\n",
       "      <td>20000.0</td>\n",
       "      <td>0</td>\n",
       "      <td>0</td>\n",
       "      <td>1.0</td>\n",
       "    </tr>\n",
       "    <tr>\n",
       "      <th>...</th>\n",
       "      <td>...</td>\n",
       "      <td>...</td>\n",
       "      <td>...</td>\n",
       "      <td>...</td>\n",
       "      <td>...</td>\n",
       "      <td>...</td>\n",
       "      <td>...</td>\n",
       "    </tr>\n",
       "    <tr>\n",
       "      <th>2158</th>\n",
       "      <td>0.0</td>\n",
       "      <td>0</td>\n",
       "      <td>121.70</td>\n",
       "      <td>1250000.0</td>\n",
       "      <td>0</td>\n",
       "      <td>0</td>\n",
       "      <td>5.0</td>\n",
       "    </tr>\n",
       "    <tr>\n",
       "      <th>2159</th>\n",
       "      <td>0.0</td>\n",
       "      <td>0</td>\n",
       "      <td>50.00</td>\n",
       "      <td>465000.0</td>\n",
       "      <td>0</td>\n",
       "      <td>0</td>\n",
       "      <td>2.0</td>\n",
       "    </tr>\n",
       "    <tr>\n",
       "      <th>2160</th>\n",
       "      <td>0.0</td>\n",
       "      <td>0</td>\n",
       "      <td>31.00</td>\n",
       "      <td>1010.0</td>\n",
       "      <td>0</td>\n",
       "      <td>1</td>\n",
       "      <td>2.0</td>\n",
       "    </tr>\n",
       "    <tr>\n",
       "      <th>2161</th>\n",
       "      <td>0.0</td>\n",
       "      <td>0</td>\n",
       "      <td>67.00</td>\n",
       "      <td>719000.0</td>\n",
       "      <td>0</td>\n",
       "      <td>0</td>\n",
       "      <td>3.0</td>\n",
       "    </tr>\n",
       "    <tr>\n",
       "      <th>2163</th>\n",
       "      <td>0.0</td>\n",
       "      <td>0</td>\n",
       "      <td>40.00</td>\n",
       "      <td>438000.0</td>\n",
       "      <td>0</td>\n",
       "      <td>0</td>\n",
       "      <td>2.0</td>\n",
       "    </tr>\n",
       "  </tbody>\n",
       "</table>\n",
       "<p>2153 rows × 7 columns</p>\n",
       "</div>"
      ],
      "text/plain": [
       "      PROPERTY_TYPE  NEW_BUILD  SURFACE      PRICE  EXCLUSIVE_MANDATE  \\\n",
       "7               3.0         -1    16.00       60.0                  0   \n",
       "8               3.0         -1    11.00      100.0                  0   \n",
       "10              4.0          0    95.00    64500.0                  0   \n",
       "17              4.0          0  1105.00    25783.0                  0   \n",
       "18              3.0         -1    12.74    20000.0                  0   \n",
       "...             ...        ...      ...        ...                ...   \n",
       "2158            0.0          0   121.70  1250000.0                  0   \n",
       "2159            0.0          0    50.00   465000.0                  0   \n",
       "2160            0.0          0    31.00     1010.0                  0   \n",
       "2161            0.0          0    67.00   719000.0                  0   \n",
       "2163            0.0          0    40.00   438000.0                  0   \n",
       "\n",
       "      MARKETING_TYPE  ROOM_COUNT  \n",
       "7                  1         1.0  \n",
       "8                  1         1.0  \n",
       "10                 0         0.0  \n",
       "17                 1         0.0  \n",
       "18                 0         1.0  \n",
       "...              ...         ...  \n",
       "2158               0         5.0  \n",
       "2159               0         2.0  \n",
       "2160               1         2.0  \n",
       "2161               0         3.0  \n",
       "2163               0         2.0  \n",
       "\n",
       "[2153 rows x 7 columns]"
      ]
     },
     "execution_count": 56,
     "metadata": {},
     "output_type": "execute_result"
    }
   ],
   "source": [
    "final_data"
   ]
  },
  {
   "cell_type": "markdown",
   "metadata": {},
   "source": [
    "-------------------------------------------------------------------------------------------------------------------------------------------------------------------------------------------"
   ]
  },
  {
   "cell_type": "code",
   "execution_count": 57,
   "metadata": {},
   "outputs": [],
   "source": [
    "# Localiser et remplir\n",
    "data.loc[X_with_missing.index, \"ROOM_COUNT\"] = predicted_values"
   ]
  },
  {
   "cell_type": "code",
   "execution_count": 58,
   "metadata": {},
   "outputs": [],
   "source": [
    "## enregistrer les données dans un fichier 'new_data.csv'\n",
    "data.to_csv('new_data.csv')"
   ]
  },
  {
   "cell_type": "markdown",
   "metadata": {},
   "source": [
    "-------------------------------------------------------------------------------------------------------------------------------------------------------------------------------------------"
   ]
  },
  {
   "cell_type": "markdown",
   "metadata": {},
   "source": [
    "### Objectif :"
   ]
  },
  {
   "cell_type": "markdown",
   "metadata": {},
   "source": [
    "#### Cette partie décris la méthodologie, les algorithmes et les pistes d’améliorations.\n",
    "- Premièrement j'ai essayer de reduire la taille du problème en appliquant **K_means** sur ma base sans la variable '**Description**' pour avoir mes premiers clusters.\n",
    "- Ensuite, je me suis ensuite concentré sur la variable \"**Description**\", j'ai fait un peu de traitement de texte et j'ai calculé le cos similarité (cosine_similarity) entre chaque description et les autres (pairwise_distances). Une fois ce calcul effectué, j'ai construit mes seconds clusters.\n",
    "- Enfin, j'ai construit une matrice de similarité entre les variables de ma nouvelle base de données, cette fois-ci avec mes nouvelles variables de cluster. <mark>J'ai essayé de décrire plus en détail cette approche à la fin du notebook (**Merci ce la voir**)</mark>."
   ]
  },
  {
   "cell_type": "code",
   "execution_count": 59,
   "metadata": {},
   "outputs": [],
   "source": [
    "# imports\n",
    "from sklearn.metrics import pairwise_distances\n",
    "\n",
    "from sklearn.impute import SimpleImputer\n",
    "from sklearn.preprocessing import OneHotEncoder, OrdinalEncoder\n",
    "\n",
    "from sklearn.compose import make_column_transformer\n"
   ]
  },
  {
   "cell_type": "code",
   "execution_count": 60,
   "metadata": {},
   "outputs": [],
   "source": [
    "# load newest data\n",
    "DATA_PATH = \"../data/new_data.csv\"\n",
    "\n",
    "data = pd.read_csv(DATA_PATH)"
   ]
  },
  {
   "cell_type": "code",
   "execution_count": 61,
   "metadata": {},
   "outputs": [
    {
     "name": "stdout",
     "output_type": "stream",
     "text": [
      "Your selected dataframe has 20 columns.\n",
      "\n"
     ]
    },
    {
     "data": {
      "image/png": "[encoded data removed]",
      "text/plain": [
       "<Figure size 1300x600 with 1 Axes>"
      ]
     },
     "metadata": {},
     "output_type": "display_data"
    },
    {
     "data": {
      "text/html": [
       "<div>\n",
       "<style scoped>\n",
       "    .dataframe tbody tr th:only-of-type {\n",
       "        vertical-align: middle;\n",
       "    }\n",
       "\n",
       "    .dataframe tbody tr th {\n",
       "        vertical-align: top;\n",
       "    }\n",
       "\n",
       "    .dataframe thead th {\n",
       "        text-align: right;\n",
       "    }\n",
       "</style>\n",
       "<table border=\"1\" class=\"dataframe\">\n",
       "  <thead>\n",
       "    <tr style=\"text-align: right;\">\n",
       "      <th></th>\n",
       "      <th>Missing Values</th>\n",
       "      <th>% of Total Values</th>\n",
       "      <th>Type</th>\n",
       "    </tr>\n",
       "  </thead>\n",
       "  <tbody>\n",
       "    <tr>\n",
       "      <th>SURFACE</th>\n",
       "      <td>7</td>\n",
       "      <td>0.3</td>\n",
       "      <td>float64</td>\n",
       "    </tr>\n",
       "    <tr>\n",
       "      <th>DESCRIPTION</th>\n",
       "      <td>4</td>\n",
       "      <td>0.2</td>\n",
       "      <td>str</td>\n",
       "    </tr>\n",
       "    <tr>\n",
       "      <th>ROOM_COUNT</th>\n",
       "      <td>4</td>\n",
       "      <td>0.2</td>\n",
       "      <td>float64</td>\n",
       "    </tr>\n",
       "    <tr>\n",
       "      <th>NEW_BUILD</th>\n",
       "      <td>3</td>\n",
       "      <td>0.1</td>\n",
       "      <td>str</td>\n",
       "    </tr>\n",
       "    <tr>\n",
       "      <th>PRICE</th>\n",
       "      <td>1</td>\n",
       "      <td>0.0</td>\n",
       "      <td>float64</td>\n",
       "    </tr>\n",
       "    <tr>\n",
       "      <th>EXCLUSIVE_MANDATE</th>\n",
       "      <td>0</td>\n",
       "      <td>0.0</td>\n",
       "      <td>bool</td>\n",
       "    </tr>\n",
       "    <tr>\n",
       "      <th>last_crawl_date_ym</th>\n",
       "      <td>0</td>\n",
       "      <td>0.0</td>\n",
       "      <td>str</td>\n",
       "    </tr>\n",
       "    <tr>\n",
       "      <th>pub_strt_date_ym</th>\n",
       "      <td>0</td>\n",
       "      <td>0.0</td>\n",
       "      <td>str</td>\n",
       "    </tr>\n",
       "    <tr>\n",
       "      <th>LAST_CRAWL_DATE</th>\n",
       "      <td>0</td>\n",
       "      <td>0.0</td>\n",
       "      <td>str</td>\n",
       "    </tr>\n",
       "    <tr>\n",
       "      <th>PUBLICATION_START_DATE</th>\n",
       "      <td>0</td>\n",
       "      <td>0.0</td>\n",
       "      <td>str</td>\n",
       "    </tr>\n",
       "    <tr>\n",
       "      <th>DEALER_TYPE</th>\n",
       "      <td>0</td>\n",
       "      <td>0.0</td>\n",
       "      <td>str</td>\n",
       "    </tr>\n",
       "    <tr>\n",
       "      <th>DEALER_NAME</th>\n",
       "      <td>0</td>\n",
       "      <td>0.0</td>\n",
       "      <td>str</td>\n",
       "    </tr>\n",
       "    <tr>\n",
       "      <th>Unnamed: 0.1</th>\n",
       "      <td>0</td>\n",
       "      <td>0.0</td>\n",
       "      <td>int64</td>\n",
       "    </tr>\n",
       "    <tr>\n",
       "      <th>PRICE_EVENTS</th>\n",
       "      <td>0</td>\n",
       "      <td>0.0</td>\n",
       "      <td>str</td>\n",
       "    </tr>\n",
       "    <tr>\n",
       "      <th>Unnamed: 0</th>\n",
       "      <td>0</td>\n",
       "      <td>0.0</td>\n",
       "      <td>int64</td>\n",
       "    </tr>\n",
       "    <tr>\n",
       "      <th>MARKETING_TYPE</th>\n",
       "      <td>0</td>\n",
       "      <td>0.0</td>\n",
       "      <td>str</td>\n",
       "    </tr>\n",
       "    <tr>\n",
       "      <th>PARKING</th>\n",
       "      <td>0</td>\n",
       "      <td>0.0</td>\n",
       "      <td>bool</td>\n",
       "    </tr>\n",
       "    <tr>\n",
       "      <th>PROPERTY_TYPE</th>\n",
       "      <td>0</td>\n",
       "      <td>0.0</td>\n",
       "      <td>str</td>\n",
       "    </tr>\n",
       "    <tr>\n",
       "      <th>CRAWL_SOURCE</th>\n",
       "      <td>0</td>\n",
       "      <td>0.0</td>\n",
       "      <td>str</td>\n",
       "    </tr>\n",
       "    <tr>\n",
       "      <th>Days_Between</th>\n",
       "      <td>0</td>\n",
       "      <td>0.0</td>\n",
       "      <td>int64</td>\n",
       "    </tr>\n",
       "  </tbody>\n",
       "</table>\n",
       "</div>"
      ],
      "text/plain": [
       "                        Missing Values  % of Total Values     Type\n",
       "SURFACE                              7                0.3  float64\n",
       "DESCRIPTION                          4                0.2      str\n",
       "ROOM_COUNT                           4                0.2  float64\n",
       "NEW_BUILD                            3                0.1      str\n",
       "PRICE                                1                0.0  float64\n",
       "EXCLUSIVE_MANDATE                    0                0.0     bool\n",
       "last_crawl_date_ym                   0                0.0      str\n",
       "pub_strt_date_ym                     0                0.0      str\n",
       "LAST_CRAWL_DATE                      0                0.0      str\n",
       "PUBLICATION_START_DATE               0                0.0      str\n",
       "DEALER_TYPE                          0                0.0      str\n",
       "DEALER_NAME                          0                0.0      str\n",
       "Unnamed: 0.1                         0                0.0    int64\n",
       "PRICE_EVENTS                         0                0.0      str\n",
       "Unnamed: 0                           0                0.0    int64\n",
       "MARKETING_TYPE                       0                0.0      str\n",
       "PARKING                              0                0.0     bool\n",
       "PROPERTY_TYPE                        0                0.0      str\n",
       "CRAWL_SOURCE                         0                0.0      str\n",
       "Days_Between                         0                0.0    int64"
      ]
     },
     "execution_count": 61,
     "metadata": {},
     "output_type": "execute_result"
    }
   ],
   "source": [
    "missing_values_table(data)"
   ]
  },
  {
   "cell_type": "markdown",
   "metadata": {},
   "source": [
    "#### Pour cette nouvelle base, qui ne comporte pratiquement pas de valeurs manquantes (0.3% pour la plus grande), j'ai décidé de les supprimer pour cette phase de modélisation."
   ]
  },
  {
   "cell_type": "code",
   "execution_count": 62,
   "metadata": {},
   "outputs": [
    {
     "data": {
      "text/html": [
       "<div>\n",
       "<style scoped>\n",
       "    .dataframe tbody tr th:only-of-type {\n",
       "        vertical-align: middle;\n",
       "    }\n",
       "\n",
       "    .dataframe tbody tr th {\n",
       "        vertical-align: top;\n",
       "    }\n",
       "\n",
       "    .dataframe thead th {\n",
       "        text-align: right;\n",
       "    }\n",
       "</style>\n",
       "<table border=\"1\" class=\"dataframe\">\n",
       "  <thead>\n",
       "    <tr style=\"text-align: right;\">\n",
       "      <th></th>\n",
       "      <th>Unnamed: 0.1</th>\n",
       "      <th>Unnamed: 0</th>\n",
       "      <th>CRAWL_SOURCE</th>\n",
       "      <th>PROPERTY_TYPE</th>\n",
       "      <th>NEW_BUILD</th>\n",
       "      <th>DESCRIPTION</th>\n",
       "      <th>SURFACE</th>\n",
       "      <th>ROOM_COUNT</th>\n",
       "      <th>PARKING</th>\n",
       "      <th>MARKETING_TYPE</th>\n",
       "      <th>PRICE</th>\n",
       "      <th>PRICE_EVENTS</th>\n",
       "      <th>EXCLUSIVE_MANDATE</th>\n",
       "      <th>DEALER_NAME</th>\n",
       "      <th>DEALER_TYPE</th>\n",
       "      <th>PUBLICATION_START_DATE</th>\n",
       "      <th>LAST_CRAWL_DATE</th>\n",
       "      <th>pub_strt_date_ym</th>\n",
       "      <th>last_crawl_date_ym</th>\n",
       "      <th>Days_Between</th>\n",
       "    </tr>\n",
       "  </thead>\n",
       "  <tbody>\n",
       "    <tr>\n",
       "      <th>0</th>\n",
       "      <td>0</td>\n",
       "      <td>0</td>\n",
       "      <td>A_VENDRE_A_LOUER</td>\n",
       "      <td>APARTMENT</td>\n",
       "      <td>False</td>\n",
       "      <td>Au rez de chaussée d'un bel immeuble récent,ap...</td>\n",
       "      <td>72.0</td>\n",
       "      <td>3.0</td>\n",
       "      <td>True</td>\n",
       "      <td>RENT</td>\n",
       "      <td>1979.0</td>\n",
       "      <td>[{\"price\":1979,\"date\":\"2017-03-22\"}]</td>\n",
       "      <td>False</td>\n",
       "      <td>Lamirand Et Associes</td>\n",
       "      <td>AGENCY</td>\n",
       "      <td>2017-03-22 04:07:56.095</td>\n",
       "      <td>2017-04-21 18:52:35.733</td>\n",
       "      <td>2017-03</td>\n",
       "      <td>2017-04</td>\n",
       "      <td>30</td>\n",
       "    </tr>\n",
       "    <tr>\n",
       "      <th>1</th>\n",
       "      <td>1</td>\n",
       "      <td>1</td>\n",
       "      <td>BIEN_ICI</td>\n",
       "      <td>APARTMENT</td>\n",
       "      <td>False</td>\n",
       "      <td>Je vous propose un appartement dans la rue Col...</td>\n",
       "      <td>48.0</td>\n",
       "      <td>2.0</td>\n",
       "      <td>False</td>\n",
       "      <td>SALE</td>\n",
       "      <td>429000.0</td>\n",
       "      <td>[{\"price\":452000.0,\"date\":\"2018-09-18\"},{\"pric...</td>\n",
       "      <td>False</td>\n",
       "      <td>Proprietes Privees</td>\n",
       "      <td>MANDATARY</td>\n",
       "      <td>2018-09-18 11:04:44.461</td>\n",
       "      <td>2019-06-06 10:08:10.890</td>\n",
       "      <td>2018-09</td>\n",
       "      <td>2019-06</td>\n",
       "      <td>260</td>\n",
       "    </tr>\n",
       "  </tbody>\n",
       "</table>\n",
       "</div>"
      ],
      "text/plain": [
       "   Unnamed: 0.1  Unnamed: 0      CRAWL_SOURCE PROPERTY_TYPE NEW_BUILD  \\\n",
       "0             0           0  A_VENDRE_A_LOUER     APARTMENT     False   \n",
       "1             1           1          BIEN_ICI     APARTMENT     False   \n",
       "\n",
       "                                         DESCRIPTION  SURFACE  ROOM_COUNT  \\\n",
       "0  Au rez de chaussée d'un bel immeuble récent,ap...     72.0         3.0   \n",
       "1  Je vous propose un appartement dans la rue Col...     48.0         2.0   \n",
       "\n",
       "   PARKING MARKETING_TYPE     PRICE  \\\n",
       "0     True           RENT    1979.0   \n",
       "1    False           SALE  429000.0   \n",
       "\n",
       "                                        PRICE_EVENTS  EXCLUSIVE_MANDATE  \\\n",
       "0               [{\"price\":1979,\"date\":\"2017-03-22\"}]              False   \n",
       "1  [{\"price\":452000.0,\"date\":\"2018-09-18\"},{\"pric...              False   \n",
       "\n",
       "            DEALER_NAME DEALER_TYPE   PUBLICATION_START_DATE  \\\n",
       "0  Lamirand Et Associes      AGENCY  2017-03-22 04:07:56.095   \n",
       "1    Proprietes Privees   MANDATARY  2018-09-18 11:04:44.461   \n",
       "\n",
       "           LAST_CRAWL_DATE pub_strt_date_ym last_crawl_date_ym  Days_Between  \n",
       "0  2017-04-21 18:52:35.733          2017-03            2017-04            30  \n",
       "1  2019-06-06 10:08:10.890          2018-09            2019-06           260  "
      ]
     },
     "execution_count": 62,
     "metadata": {},
     "output_type": "execute_result"
    }
   ],
   "source": [
    "data.head(2)"
   ]
  },
  {
   "cell_type": "code",
   "execution_count": 63,
   "metadata": {},
   "outputs": [],
   "source": [
    "# Colonnes à exploiter ultérieurement\n",
    "USELESS_COL = [\n",
    "    \"CRAWL_SOURCE\",  \"DEALER_NAME\",\n",
    "    'pub_strt_date_ym', 'last_crawl_date_ym',\n",
    "    'Unnamed: 0.1', 'Unnamed: 0',\n",
    "    \"PRICE_EVENTS\"\n",
    "]\n",
    "data_useful = data.drop(labels=USELESS_COL, axis=1)"
   ]
  },
  {
   "cell_type": "code",
   "execution_count": 64,
   "metadata": {},
   "outputs": [
    {
     "data": {
      "text/html": [
       "<div>\n",
       "<style scoped>\n",
       "    .dataframe tbody tr th:only-of-type {\n",
       "        vertical-align: middle;\n",
       "    }\n",
       "\n",
       "    .dataframe tbody tr th {\n",
       "        vertical-align: top;\n",
       "    }\n",
       "\n",
       "    .dataframe thead th {\n",
       "        text-align: right;\n",
       "    }\n",
       "</style>\n",
       "<table border=\"1\" class=\"dataframe\">\n",
       "  <thead>\n",
       "    <tr style=\"text-align: right;\">\n",
       "      <th></th>\n",
       "      <th>PROPERTY_TYPE</th>\n",
       "      <th>NEW_BUILD</th>\n",
       "      <th>DESCRIPTION</th>\n",
       "      <th>SURFACE</th>\n",
       "      <th>ROOM_COUNT</th>\n",
       "      <th>PARKING</th>\n",
       "      <th>MARKETING_TYPE</th>\n",
       "      <th>PRICE</th>\n",
       "      <th>EXCLUSIVE_MANDATE</th>\n",
       "      <th>DEALER_TYPE</th>\n",
       "      <th>PUBLICATION_START_DATE</th>\n",
       "      <th>LAST_CRAWL_DATE</th>\n",
       "      <th>Days_Between</th>\n",
       "    </tr>\n",
       "  </thead>\n",
       "  <tbody>\n",
       "    <tr>\n",
       "      <th>0</th>\n",
       "      <td>APARTMENT</td>\n",
       "      <td>False</td>\n",
       "      <td>Au rez de chaussée d'un bel immeuble récent,ap...</td>\n",
       "      <td>72.0</td>\n",
       "      <td>3.0</td>\n",
       "      <td>True</td>\n",
       "      <td>RENT</td>\n",
       "      <td>1979.0</td>\n",
       "      <td>False</td>\n",
       "      <td>AGENCY</td>\n",
       "      <td>2017-03-22 04:07:56.095</td>\n",
       "      <td>2017-04-21 18:52:35.733</td>\n",
       "      <td>30</td>\n",
       "    </tr>\n",
       "    <tr>\n",
       "      <th>1</th>\n",
       "      <td>APARTMENT</td>\n",
       "      <td>False</td>\n",
       "      <td>Je vous propose un appartement dans la rue Col...</td>\n",
       "      <td>48.0</td>\n",
       "      <td>2.0</td>\n",
       "      <td>False</td>\n",
       "      <td>SALE</td>\n",
       "      <td>429000.0</td>\n",
       "      <td>False</td>\n",
       "      <td>MANDATARY</td>\n",
       "      <td>2018-09-18 11:04:44.461</td>\n",
       "      <td>2019-06-06 10:08:10.890</td>\n",
       "      <td>260</td>\n",
       "    </tr>\n",
       "    <tr>\n",
       "      <th>2</th>\n",
       "      <td>APARTMENT</td>\n",
       "      <td>False</td>\n",
       "      <td>Dans un cadre arboré, calme et fleuri, un pent...</td>\n",
       "      <td>267.0</td>\n",
       "      <td>6.0</td>\n",
       "      <td>False</td>\n",
       "      <td>SALE</td>\n",
       "      <td>4970000.0</td>\n",
       "      <td>False</td>\n",
       "      <td>AGENCY</td>\n",
       "      <td>2019-02-19 16:49:03.547</td>\n",
       "      <td>2019-06-13 08:22:14.314</td>\n",
       "      <td>113</td>\n",
       "    </tr>\n",
       "    <tr>\n",
       "      <th>3</th>\n",
       "      <td>PREMISES</td>\n",
       "      <td>False</td>\n",
       "      <td>\"Le meilleur coworking flexible de la ville, 5...</td>\n",
       "      <td>50.0</td>\n",
       "      <td>0.0</td>\n",
       "      <td>False</td>\n",
       "      <td>RENT</td>\n",
       "      <td>89.0</td>\n",
       "      <td>False</td>\n",
       "      <td>AGENCY</td>\n",
       "      <td>2018-07-06 15:18:59.805</td>\n",
       "      <td>2019-06-18 10:40:07.405</td>\n",
       "      <td>346</td>\n",
       "    </tr>\n",
       "    <tr>\n",
       "      <th>4</th>\n",
       "      <td>HOUSE</td>\n",
       "      <td>False</td>\n",
       "      <td>Levallois - Parc de la Planchette A toute prox...</td>\n",
       "      <td>330.0</td>\n",
       "      <td>8.0</td>\n",
       "      <td>False</td>\n",
       "      <td>SALE</td>\n",
       "      <td>2790000.0</td>\n",
       "      <td>False</td>\n",
       "      <td>AGENCY</td>\n",
       "      <td>2019-04-08 17:12:20.123</td>\n",
       "      <td>2019-06-14 15:02:18.155</td>\n",
       "      <td>66</td>\n",
       "    </tr>\n",
       "  </tbody>\n",
       "</table>\n",
       "</div>"
      ],
      "text/plain": [
       "  PROPERTY_TYPE NEW_BUILD                                        DESCRIPTION  \\\n",
       "0     APARTMENT     False  Au rez de chaussée d'un bel immeuble récent,ap...   \n",
       "1     APARTMENT     False  Je vous propose un appartement dans la rue Col...   \n",
       "2     APARTMENT     False  Dans un cadre arboré, calme et fleuri, un pent...   \n",
       "3      PREMISES     False  \"Le meilleur coworking flexible de la ville, 5...   \n",
       "4         HOUSE     False  Levallois - Parc de la Planchette A toute prox...   \n",
       "\n",
       "   SURFACE  ROOM_COUNT  PARKING MARKETING_TYPE      PRICE  EXCLUSIVE_MANDATE  \\\n",
       "0     72.0         3.0     True           RENT     1979.0              False   \n",
       "1     48.0         2.0    False           SALE   429000.0              False   \n",
       "2    267.0         6.0    False           SALE  4970000.0              False   \n",
       "3     50.0         0.0    False           RENT       89.0              False   \n",
       "4    330.0         8.0    False           SALE  2790000.0              False   \n",
       "\n",
       "  DEALER_TYPE   PUBLICATION_START_DATE          LAST_CRAWL_DATE  Days_Between  \n",
       "0      AGENCY  2017-03-22 04:07:56.095  2017-04-21 18:52:35.733            30  \n",
       "1   MANDATARY  2018-09-18 11:04:44.461  2019-06-06 10:08:10.890           260  \n",
       "2      AGENCY  2019-02-19 16:49:03.547  2019-06-13 08:22:14.314           113  \n",
       "3      AGENCY  2018-07-06 15:18:59.805  2019-06-18 10:40:07.405           346  \n",
       "4      AGENCY  2019-04-08 17:12:20.123  2019-06-14 15:02:18.155            66  "
      ]
     },
     "execution_count": 64,
     "metadata": {},
     "output_type": "execute_result"
    }
   ],
   "source": [
    "data_useful.head()"
   ]
  },
  {
   "cell_type": "markdown",
   "metadata": {},
   "source": [
    "## K-means"
   ]
  },
  {
   "cell_type": "markdown",
   "metadata": {},
   "source": [
    "#### Tout d'abors je vais commencer par réduire la taille du problème, en essayant de construire nos premières Clusters avec le modèle de K-means."
   ]
  },
  {
   "cell_type": "markdown",
   "metadata": {},
   "source": [
    "<mark> **Préparation de la base** </mark>"
   ]
  },
  {
   "cell_type": "code",
   "execution_count": 65,
   "metadata": {},
   "outputs": [
    {
     "data": {
      "text/plain": [
       "Index(['PROPERTY_TYPE', 'NEW_BUILD', 'SURFACE', 'ROOM_COUNT', 'PARKING',\n",
       "       'MARKETING_TYPE', 'PRICE', 'EXCLUSIVE_MANDATE', 'DEALER_TYPE',\n",
       "       'PUBLICATION_START_DATE', 'LAST_CRAWL_DATE', 'Days_Between'],\n",
       "      dtype='object')"
      ]
     },
     "execution_count": 65,
     "metadata": {},
     "output_type": "execute_result"
    }
   ],
   "source": [
    "excluded_column = 'DESCRIPTION'\n",
    "\n",
    "# Sélectionner toutes les colonnes à l'exception de la colonne Description\n",
    "k_variables = data_useful.drop(columns=[excluded_column]).columns\n",
    "k_variables"
   ]
  },
  {
   "cell_type": "code",
   "execution_count": 66,
   "metadata": {},
   "outputs": [],
   "source": [
    "Kmeans_data = data_useful[k_variables]"
   ]
  },
  {
   "cell_type": "code",
   "execution_count": 67,
   "metadata": {},
   "outputs": [],
   "source": [
    "# to_ date pour les varibles date\n",
    "\n",
    "# Kmeans_data['PUBLICATION_START_DATE'] = pd.to_datetime(Kmeans_data['PUBLICATION_START_DATE'])\n",
    "# Kmeans_data['LAST_CRAWL_DATE'] = pd.to_datetime(Kmeans_data['LAST_CRAWL_DATE'])"
   ]
  },
  {
   "cell_type": "code",
   "execution_count": 68,
   "metadata": {},
   "outputs": [
    {
     "name": "stdout",
     "output_type": "stream",
     "text": [
      "<class 'pandas.core.frame.DataFrame'>\n",
      "RangeIndex: 2164 entries, 0 to 2163\n",
      "Data columns (total 12 columns):\n",
      " #   Column                  Non-Null Count  Dtype  \n",
      "---  ------                  --------------  -----  \n",
      " 0   PROPERTY_TYPE           2164 non-null   object \n",
      " 1   NEW_BUILD               2161 non-null   object \n",
      " 2   SURFACE                 2157 non-null   float64\n",
      " 3   ROOM_COUNT              2160 non-null   float64\n",
      " 4   PARKING                 2164 non-null   bool   \n",
      " 5   MARKETING_TYPE          2164 non-null   object \n",
      " 6   PRICE                   2163 non-null   float64\n",
      " 7   EXCLUSIVE_MANDATE       2164 non-null   bool   \n",
      " 8   DEALER_TYPE             2164 non-null   object \n",
      " 9   PUBLICATION_START_DATE  2164 non-null   object \n",
      " 10  LAST_CRAWL_DATE         2164 non-null   object \n",
      " 11  Days_Between            2164 non-null   int64  \n",
      "dtypes: bool(2), float64(3), int64(1), object(6)\n",
      "memory usage: 173.4+ KB\n"
     ]
    }
   ],
   "source": [
    "Kmeans_data.info()"
   ]
  },
  {
   "cell_type": "markdown",
   "metadata": {},
   "source": [
    "<mark> **Encoder nos variables catégorielles** </mark>"
   ]
  },
  {
   "cell_type": "code",
   "execution_count": 69,
   "metadata": {},
   "outputs": [
    {
     "name": "stderr",
     "output_type": "stream",
     "text": [
      "C:\\Users\\Amine\\AppData\\Local\\Temp\\ipykernel_12020\\2214458375.py:3: SettingWithCopyWarning: \n",
      "A value is trying to be set on a copy of a slice from a DataFrame.\n",
      "Try using .loc[row_indexer,col_indexer] = value instead\n",
      "\n",
      "See the caveats in the documentation: https://pandas.pydata.org/pandas-docs/stable/user_guide/indexing.html#returning-a-view-versus-a-copy\n",
      "  Kmeans_data[[\"PROPERTY_TYPE\"]] = enc.transform(Kmeans_data[[\"PROPERTY_TYPE\"]])\n"
     ]
    }
   ],
   "source": [
    "enc = OrdinalEncoder()\n",
    "enc.fit(Kmeans_data[[\"PROPERTY_TYPE\"]])\n",
    "Kmeans_data[[\"PROPERTY_TYPE\"]] = enc.transform(Kmeans_data[[\"PROPERTY_TYPE\"]])"
   ]
  },
  {
   "cell_type": "code",
   "execution_count": 70,
   "metadata": {},
   "outputs": [
    {
     "name": "stderr",
     "output_type": "stream",
     "text": [
      "C:\\Users\\Amine\\AppData\\Local\\Temp\\ipykernel_12020\\1286886479.py:1: SettingWithCopyWarning: \n",
      "A value is trying to be set on a copy of a slice from a DataFrame.\n",
      "Try using .loc[row_indexer,col_indexer] = value instead\n",
      "\n",
      "See the caveats in the documentation: https://pandas.pydata.org/pandas-docs/stable/user_guide/indexing.html#returning-a-view-versus-a-copy\n",
      "  Kmeans_data[\"EXCLUSIVE_MANDATE\"] = Kmeans_data[\"EXCLUSIVE_MANDATE\"].astype(int)\n",
      "C:\\Users\\Amine\\AppData\\Local\\Temp\\ipykernel_12020\\1286886479.py:2: SettingWithCopyWarning: \n",
      "A value is trying to be set on a copy of a slice from a DataFrame.\n",
      "Try using .loc[row_indexer,col_indexer] = value instead\n",
      "\n",
      "See the caveats in the documentation: https://pandas.pydata.org/pandas-docs/stable/user_guide/indexing.html#returning-a-view-versus-a-copy\n",
      "  Kmeans_data[\"PARKING\"] = Kmeans_data[\"PARKING\"].astype(int)\n",
      "C:\\Users\\Amine\\AppData\\Local\\Temp\\ipykernel_12020\\1286886479.py:3: SettingWithCopyWarning: \n",
      "A value is trying to be set on a copy of a slice from a DataFrame.\n",
      "Try using .loc[row_indexer,col_indexer] = value instead\n",
      "\n",
      "See the caveats in the documentation: https://pandas.pydata.org/pandas-docs/stable/user_guide/indexing.html#returning-a-view-versus-a-copy\n",
      "  Kmeans_data['NEW_BUILD'] = Kmeans_data['NEW_BUILD'].map({'True': 1, 'False': 0, '-1': -1})\n",
      "C:\\Users\\Amine\\AppData\\Local\\Temp\\ipykernel_12020\\1286886479.py:4: SettingWithCopyWarning: \n",
      "A value is trying to be set on a copy of a slice from a DataFrame.\n",
      "Try using .loc[row_indexer,col_indexer] = value instead\n",
      "\n",
      "See the caveats in the documentation: https://pandas.pydata.org/pandas-docs/stable/user_guide/indexing.html#returning-a-view-versus-a-copy\n",
      "  Kmeans_data['MARKETING_TYPE'] = Kmeans_data['MARKETING_TYPE'].map({'RENT': 1, 'SALE': 0})\n"
     ]
    }
   ],
   "source": [
    "Kmeans_data[\"EXCLUSIVE_MANDATE\"] = Kmeans_data[\"EXCLUSIVE_MANDATE\"].astype(int)\n",
    "Kmeans_data[\"PARKING\"] = Kmeans_data[\"PARKING\"].astype(int)\n",
    "Kmeans_data['NEW_BUILD'] = Kmeans_data['NEW_BUILD'].map({'True': 1, 'False': 0, '-1': -1})\n",
    "Kmeans_data['MARKETING_TYPE'] = Kmeans_data['MARKETING_TYPE'].map({'RENT': 1, 'SALE': 0})"
   ]
  },
  {
   "cell_type": "code",
   "execution_count": 71,
   "metadata": {},
   "outputs": [
    {
     "name": "stderr",
     "output_type": "stream",
     "text": [
      "C:\\Users\\Amine\\AppData\\Local\\Temp\\ipykernel_12020\\40140738.py:2: SettingWithCopyWarning: \n",
      "A value is trying to be set on a copy of a slice from a DataFrame.\n",
      "Try using .loc[row_indexer,col_indexer] = value instead\n",
      "\n",
      "See the caveats in the documentation: https://pandas.pydata.org/pandas-docs/stable/user_guide/indexing.html#returning-a-view-versus-a-copy\n",
      "  Kmeans_data[['DEALER_TYPE']] = enc.transform(Kmeans_data[[\"DEALER_TYPE\"]])\n"
     ]
    }
   ],
   "source": [
    "enc.fit(Kmeans_data[[\"DEALER_TYPE\"]])\n",
    "Kmeans_data[['DEALER_TYPE']] = enc.transform(Kmeans_data[[\"DEALER_TYPE\"]])"
   ]
  },
  {
   "cell_type": "code",
   "execution_count": 72,
   "metadata": {},
   "outputs": [
    {
     "name": "stdout",
     "output_type": "stream",
     "text": [
      "<class 'pandas.core.frame.DataFrame'>\n",
      "RangeIndex: 2164 entries, 0 to 2163\n",
      "Data columns (total 12 columns):\n",
      " #   Column                  Non-Null Count  Dtype  \n",
      "---  ------                  --------------  -----  \n",
      " 0   PROPERTY_TYPE           2164 non-null   float64\n",
      " 1   NEW_BUILD               2161 non-null   float64\n",
      " 2   SURFACE                 2157 non-null   float64\n",
      " 3   ROOM_COUNT              2160 non-null   float64\n",
      " 4   PARKING                 2164 non-null   int32  \n",
      " 5   MARKETING_TYPE          2164 non-null   int64  \n",
      " 6   PRICE                   2163 non-null   float64\n",
      " 7   EXCLUSIVE_MANDATE       2164 non-null   int32  \n",
      " 8   DEALER_TYPE             2164 non-null   float64\n",
      " 9   PUBLICATION_START_DATE  2164 non-null   object \n",
      " 10  LAST_CRAWL_DATE         2164 non-null   object \n",
      " 11  Days_Between            2164 non-null   int64  \n",
      "dtypes: float64(6), int32(2), int64(2), object(2)\n",
      "memory usage: 186.1+ KB\n"
     ]
    }
   ],
   "source": [
    "Kmeans_data.info()"
   ]
  },
  {
   "cell_type": "code",
   "execution_count": 73,
   "metadata": {},
   "outputs": [],
   "source": [
    "from datetime import datetime\n",
    "\n",
    "# Définir la fonction permettant de convertir une chaîne de date et d'heure en un horodatage\n",
    "def date_time_to_timestamp(date_time_str, reference_date_time_str):\n",
    "    reference_date_time_obj = datetime.strptime(reference_date_time_str, '%Y-%m-%d %H:%M:%S.%f')\n",
    "    date_time_obj = datetime.strptime(date_time_str, '%Y-%m-%d %H:%M:%S.%f')\n",
    "    time_difference = date_time_obj - reference_date_time_obj\n",
    "    return time_difference.total_seconds()\n",
    "\n",
    "\n",
    "# Définir la date et l'heure de référence sous forme de chaîne (en supposant qu'il s'agit de la date minimale de 'PUBLICATION_START_DATE')\n",
    "reference_date_time_str = '2015-01-01 00:00:50.00' \n",
    "\n",
    "# Appliquer la conversion de la date en horodatage à l'ensemble du DataFrame et créer une nouvelle colonne \"TIMESTAMP\".\n",
    "\n",
    "Kmeans_data['PUBLICATION_START_TIMESTAMP'] = Kmeans_data['PUBLICATION_START_DATE'].apply(\n",
    "    lambda date_time_str: date_time_to_timestamp(date_time_str, reference_date_time_str)\n",
    ")\n",
    "\n",
    "Kmeans_data['LAST_CRAWL_DATE_TIMESTAMP'] = Kmeans_data['LAST_CRAWL_DATE'].apply(\n",
    "    lambda date_time_str: date_time_to_timestamp(date_time_str, reference_date_time_str)\n",
    ")\n"
   ]
  },
  {
   "cell_type": "code",
   "execution_count": 74,
   "metadata": {},
   "outputs": [],
   "source": [
    "Kmeans_data = Kmeans_data.drop(columns= ['PUBLICATION_START_DATE', 'LAST_CRAWL_DATE']) # J'ai supp les variables date après avoir exploiter et changer en variables numériques"
   ]
  },
  {
   "cell_type": "code",
   "execution_count": 75,
   "metadata": {},
   "outputs": [
    {
     "name": "stdout",
     "output_type": "stream",
     "text": [
      "<class 'pandas.core.frame.DataFrame'>\n",
      "RangeIndex: 2164 entries, 0 to 2163\n",
      "Data columns (total 12 columns):\n",
      " #   Column                       Non-Null Count  Dtype  \n",
      "---  ------                       --------------  -----  \n",
      " 0   PROPERTY_TYPE                2164 non-null   float64\n",
      " 1   NEW_BUILD                    2161 non-null   float64\n",
      " 2   SURFACE                      2157 non-null   float64\n",
      " 3   ROOM_COUNT                   2160 non-null   float64\n",
      " 4   PARKING                      2164 non-null   int32  \n",
      " 5   MARKETING_TYPE               2164 non-null   int64  \n",
      " 6   PRICE                        2163 non-null   float64\n",
      " 7   EXCLUSIVE_MANDATE            2164 non-null   int32  \n",
      " 8   DEALER_TYPE                  2164 non-null   float64\n",
      " 9   Days_Between                 2164 non-null   int64  \n",
      " 10  PUBLICATION_START_TIMESTAMP  2164 non-null   float64\n",
      " 11  LAST_CRAWL_DATE_TIMESTAMP    2164 non-null   float64\n",
      "dtypes: float64(8), int32(2), int64(2)\n",
      "memory usage: 186.1 KB\n"
     ]
    }
   ],
   "source": [
    "Kmeans_data.info()"
   ]
  },
  {
   "cell_type": "code",
   "execution_count": 76,
   "metadata": {},
   "outputs": [],
   "source": [
    "# Fonction pour supprimer les lignes avec des valeurs manquantes en spécifiant le nom de la colonne \n",
    "\n",
    "def drop_rows_with_missing_values(data, columns_to_check):\n",
    "    \n",
    "    missing_values = data[columns_to_check].isnull().any(axis=1)\n",
    "\n",
    "    data_cleaned = data[~missing_values]\n",
    "\n",
    "    return data_cleaned\n",
    "\n"
   ]
  },
  {
   "cell_type": "code",
   "execution_count": 77,
   "metadata": {},
   "outputs": [],
   "source": [
    "Kmeans_data = drop_rows_with_missing_values(Kmeans_data, Kmeans_data.columns)"
   ]
  },
  {
   "cell_type": "code",
   "execution_count": 78,
   "metadata": {},
   "outputs": [
    {
     "data": {
      "text/plain": [
       "PROPERTY_TYPE                  0\n",
       "NEW_BUILD                      0\n",
       "SURFACE                        0\n",
       "ROOM_COUNT                     0\n",
       "PARKING                        0\n",
       "MARKETING_TYPE                 0\n",
       "PRICE                          0\n",
       "EXCLUSIVE_MANDATE              0\n",
       "DEALER_TYPE                    0\n",
       "Days_Between                   0\n",
       "PUBLICATION_START_TIMESTAMP    0\n",
       "LAST_CRAWL_DATE_TIMESTAMP      0\n",
       "dtype: int64"
      ]
     },
     "execution_count": 78,
     "metadata": {},
     "output_type": "execute_result"
    }
   ],
   "source": [
    "Kmeans_data.isna().sum()"
   ]
  },
  {
   "cell_type": "markdown",
   "metadata": {},
   "source": [
    "#### Elbow Graph "
   ]
  },
  {
   "cell_type": "markdown",
   "metadata": {},
   "source": [
    "#### Afin de d'identifier le k optimale pour notre K-means, j'ai utilisé le graph Elbow"
   ]
  },
  {
   "cell_type": "code",
   "execution_count": 79,
   "metadata": {},
   "outputs": [
    {
     "data": {
      "image/png": "[encoded data removed]",
      "text/plain": [
       "<Figure size 800x600 with 1 Axes>"
      ]
     },
     "metadata": {},
     "output_type": "display_data"
    }
   ],
   "source": [
    "import matplotlib.pyplot as plt\n",
    "from sklearn.cluster import KMeans\n",
    "\n",
    "wcss = []\n",
    "\n",
    "\n",
    "k_range = range(2, 20)  \n",
    "\n",
    "for k in k_range:\n",
    "    kmeans = KMeans(n_clusters=k, init='k-means++', max_iter=100, n_init=1, random_state=0)\n",
    "    kmeans.fit(Kmeans_data)  \n",
    "    wcss.append(kmeans.inertia_)\n",
    "\n",
    "# Plot the Elbow curve\n",
    "plt.figure(figsize=(8, 6))\n",
    "plt.plot(k_range, wcss, marker='o', linestyle='-', color='b')\n",
    "plt.title('Elbow Method for Optimal k')\n",
    "plt.xlabel('Number of Clusters (k)')\n",
    "plt.ylabel('Within-Cluster Sum of Squares (WCSS)')\n",
    "plt.grid(True)\n",
    "plt.show()"
   ]
  },
  {
   "cell_type": "markdown",
   "metadata": {},
   "source": [
    "#### On observe un k moyen de 7"
   ]
  },
  {
   "cell_type": "markdown",
   "metadata": {},
   "source": [
    "### Entrainement du modèle k-means"
   ]
  },
  {
   "cell_type": "code",
   "execution_count": 80,
   "metadata": {},
   "outputs": [
    {
     "data": {
      "text/html": [
       "<style>#sk-container-id-2 {color: black;background-color: white;}#sk-container-id-2 pre{padding: 0;}#sk-container-id-2 div.sk-toggleable {background-color: white;}#sk-container-id-2 label.sk-toggleable__label {cursor: pointer;display: block;width: 100%;margin-bottom: 0;padding: 0.3em;box-sizing: border-box;text-align: center;}#sk-container-id-2 label.sk-toggleable__label-arrow:before {content: \"▸\";float: left;margin-right: 0.25em;color: #696969;}#sk-container-id-2 label.sk-toggleable__label-arrow:hover:before {color: black;}#sk-container-id-2 div.sk-estimator:hover label.sk-toggleable__label-arrow:before {color: black;}#sk-container-id-2 div.sk-toggleable__content {max-height: 0;max-width: 0;overflow: hidden;text-align: left;background-color: #f0f8ff;}#sk-container-id-2 div.sk-toggleable__content pre {margin: 0.2em;color: black;border-radius: 0.25em;background-color: #f0f8ff;}#sk-container-id-2 input.sk-toggleable__control:checked~div.sk-toggleable__content {max-height: 200px;max-width: 100%;overflow: auto;}#sk-container-id-2 input.sk-toggleable__control:checked~label.sk-toggleable__label-arrow:before {content: \"▾\";}#sk-container-id-2 div.sk-estimator input.sk-toggleable__control:checked~label.sk-toggleable__label {background-color: #d4ebff;}#sk-container-id-2 div.sk-label input.sk-toggleable__control:checked~label.sk-toggleable__label {background-color: #d4ebff;}#sk-container-id-2 input.sk-hidden--visually {border: 0;clip: rect(1px 1px 1px 1px);clip: rect(1px, 1px, 1px, 1px);height: 1px;margin: -1px;overflow: hidden;padding: 0;position: absolute;width: 1px;}#sk-container-id-2 div.sk-estimator {font-family: monospace;background-color: #f0f8ff;border: 1px dotted black;border-radius: 0.25em;box-sizing: border-box;margin-bottom: 0.5em;}#sk-container-id-2 div.sk-estimator:hover {background-color: #d4ebff;}#sk-container-id-2 div.sk-parallel-item::after {content: \"\";width: 100%;border-bottom: 1px solid gray;flex-grow: 1;}#sk-container-id-2 div.sk-label:hover label.sk-toggleable__label {background-color: #d4ebff;}#sk-container-id-2 div.sk-serial::before {content: \"\";position: absolute;border-left: 1px solid gray;box-sizing: border-box;top: 0;bottom: 0;left: 50%;z-index: 0;}#sk-container-id-2 div.sk-serial {display: flex;flex-direction: column;align-items: center;background-color: white;padding-right: 0.2em;padding-left: 0.2em;position: relative;}#sk-container-id-2 div.sk-item {position: relative;z-index: 1;}#sk-container-id-2 div.sk-parallel {display: flex;align-items: stretch;justify-content: center;background-color: white;position: relative;}#sk-container-id-2 div.sk-item::before, #sk-container-id-2 div.sk-parallel-item::before {content: \"\";position: absolute;border-left: 1px solid gray;box-sizing: border-box;top: 0;bottom: 0;left: 50%;z-index: -1;}#sk-container-id-2 div.sk-parallel-item {display: flex;flex-direction: column;z-index: 1;position: relative;background-color: white;}#sk-container-id-2 div.sk-parallel-item:first-child::after {align-self: flex-end;width: 50%;}#sk-container-id-2 div.sk-parallel-item:last-child::after {align-self: flex-start;width: 50%;}#sk-container-id-2 div.sk-parallel-item:only-child::after {width: 0;}#sk-container-id-2 div.sk-dashed-wrapped {border: 1px dashed gray;margin: 0 0.4em 0.5em 0.4em;box-sizing: border-box;padding-bottom: 0.4em;background-color: white;}#sk-container-id-2 div.sk-label label {font-family: monospace;font-weight: bold;display: inline-block;line-height: 1.2em;}#sk-container-id-2 div.sk-label-container {text-align: center;}#sk-container-id-2 div.sk-container {/* jupyter's `normalize.less` sets `[hidden] { display: none; }` but bootstrap.min.css set `[hidden] { display: none !important; }` so we also need the `!important` here to be able to override the default hidden behavior on the sphinx rendered scikit-learn.org. See: https://github.com/scikit-learn/scikit-learn/issues/21755 */display: inline-block !important;position: relative;}#sk-container-id-2 div.sk-text-repr-fallback {display: none;}</style><div id=\"sk-container-id-2\" class=\"sk-top-container\"><div class=\"sk-text-repr-fallback\"><pre>KMeans(max_iter=100, n_clusters=7, n_init=1, random_state=0)</pre><b>In a Jupyter environment, please rerun this cell to show the HTML representation or trust the notebook. <br />On GitHub, the HTML representation is unable to render, please try loading this page with nbviewer.org.</b></div><div class=\"sk-container\" hidden><div class=\"sk-item\"><div class=\"sk-estimator sk-toggleable\"><input class=\"sk-toggleable__control sk-hidden--visually\" id=\"sk-estimator-id-2\" type=\"checkbox\" checked><label for=\"sk-estimator-id-2\" class=\"sk-toggleable__label sk-toggleable__label-arrow\">KMeans</label><div class=\"sk-toggleable__content\"><pre>KMeans(max_iter=100, n_clusters=7, n_init=1, random_state=0)</pre></div></div></div></div></div>"
      ],
      "text/plain": [
       "KMeans(max_iter=100, n_clusters=7, n_init=1, random_state=0)"
      ]
     },
     "execution_count": 80,
     "metadata": {},
     "output_type": "execute_result"
    }
   ],
   "source": [
    "k=7\n",
    "kmeans = KMeans(n_clusters=k, init='k-means++', max_iter=100, n_init=1, random_state=0)\n",
    "kmeans.fit(Kmeans_data)  "
   ]
  },
  {
   "cell_type": "code",
   "execution_count": 81,
   "metadata": {},
   "outputs": [],
   "source": [
    "cluster_labels = kmeans.predict(Kmeans_data)\n",
    "Kmeans_data['kmeans_cluster'] = cluster_labels"
   ]
  },
  {
   "cell_type": "markdown",
   "metadata": {},
   "source": [
    "#### Affectation des valeurs de la colonne \"**kmeans_cluster**\" du DataFrame \"**data_useful**\""
   ]
  },
  {
   "cell_type": "code",
   "execution_count": 82,
   "metadata": {},
   "outputs": [],
   "source": [
    "data_useful.loc[Kmeans_data.index, \"kmeans_cluster\"] = Kmeans_data['kmeans_cluster']"
   ]
  },
  {
   "cell_type": "code",
   "execution_count": 83,
   "metadata": {},
   "outputs": [
    {
     "data": {
      "text/plain": [
       "0.0    1325\n",
       "4.0     551\n",
       "2.0     137\n",
       "3.0      51\n",
       "5.0      40\n",
       "1.0      36\n",
       "6.0      13\n",
       "Name: kmeans_cluster, dtype: int64"
      ]
     },
     "execution_count": 83,
     "metadata": {},
     "output_type": "execute_result"
    }
   ],
   "source": [
    "data_useful['kmeans_cluster'].value_counts()"
   ]
  },
  {
   "cell_type": "markdown",
   "metadata": {},
   "source": [
    "----------------------------------------------------------------------------------------------------------------------"
   ]
  },
  {
   "cell_type": "markdown",
   "metadata": {},
   "source": [
    "## Exploitation de la variable **'DESCRIPTION'**"
   ]
  },
  {
   "cell_type": "code",
   "execution_count": 84,
   "metadata": {},
   "outputs": [
    {
     "name": "stderr",
     "output_type": "stream",
     "text": [
      "[nltk_data] Downloading package stopwords to\n",
      "[nltk_data]     C:\\Users\\Amine\\AppData\\Roaming\\nltk_data...\n",
      "[nltk_data]   Package stopwords is already up-to-date!\n",
      "[nltk_data] Downloading package wordnet to\n",
      "[nltk_data]     C:\\Users\\Amine\\AppData\\Roaming\\nltk_data...\n",
      "[nltk_data]   Package wordnet is already up-to-date!\n",
      "[nltk_data] Downloading package punkt to\n",
      "[nltk_data]     C:\\Users\\Amine\\AppData\\Roaming\\nltk_data...\n",
      "[nltk_data]   Package punkt is already up-to-date!\n"
     ]
    },
    {
     "data": {
      "text/plain": [
       "True"
      ]
     },
     "execution_count": 84,
     "metadata": {},
     "output_type": "execute_result"
    }
   ],
   "source": [
    "from nltk.corpus import stopwords\n",
    "from nltk.tokenize import word_tokenize\n",
    "from nltk.stem import WordNetLemmatizer\n",
    "import string\n",
    "from sklearn.feature_extraction.text import TfidfVectorizer\n",
    "\n",
    "import matplotlib.pyplot as plt\n",
    "import seaborn as sns\n",
    "import numpy as np\n",
    "from sklearn.metrics.pairwise import cosine_similarity\n",
    "\n",
    "\n",
    "\n",
    "# download nltk corpus (first time only)\n",
    "import nltk\n",
    "\n",
    "nltk.download('stopwords')\n",
    "nltk.download('wordnet')\n",
    "nltk.download('punkt')"
   ]
  },
  {
   "cell_type": "code",
   "execution_count": 85,
   "metadata": {},
   "outputs": [
    {
     "data": {
      "text/html": [
       "<div>\n",
       "<style scoped>\n",
       "    .dataframe tbody tr th:only-of-type {\n",
       "        vertical-align: middle;\n",
       "    }\n",
       "\n",
       "    .dataframe tbody tr th {\n",
       "        vertical-align: top;\n",
       "    }\n",
       "\n",
       "    .dataframe thead th {\n",
       "        text-align: right;\n",
       "    }\n",
       "</style>\n",
       "<table border=\"1\" class=\"dataframe\">\n",
       "  <thead>\n",
       "    <tr style=\"text-align: right;\">\n",
       "      <th></th>\n",
       "      <th>PROPERTY_TYPE</th>\n",
       "      <th>NEW_BUILD</th>\n",
       "      <th>DESCRIPTION</th>\n",
       "      <th>SURFACE</th>\n",
       "      <th>ROOM_COUNT</th>\n",
       "      <th>PARKING</th>\n",
       "      <th>MARKETING_TYPE</th>\n",
       "      <th>PRICE</th>\n",
       "      <th>EXCLUSIVE_MANDATE</th>\n",
       "      <th>DEALER_TYPE</th>\n",
       "      <th>PUBLICATION_START_DATE</th>\n",
       "      <th>LAST_CRAWL_DATE</th>\n",
       "      <th>Days_Between</th>\n",
       "      <th>kmeans_cluster</th>\n",
       "    </tr>\n",
       "  </thead>\n",
       "  <tbody>\n",
       "    <tr>\n",
       "      <th>0</th>\n",
       "      <td>APARTMENT</td>\n",
       "      <td>False</td>\n",
       "      <td>Au rez de chaussée d'un bel immeuble récent,ap...</td>\n",
       "      <td>72.0</td>\n",
       "      <td>3.0</td>\n",
       "      <td>True</td>\n",
       "      <td>RENT</td>\n",
       "      <td>1979.0</td>\n",
       "      <td>False</td>\n",
       "      <td>AGENCY</td>\n",
       "      <td>2017-03-22 04:07:56.095</td>\n",
       "      <td>2017-04-21 18:52:35.733</td>\n",
       "      <td>30</td>\n",
       "      <td>1.0</td>\n",
       "    </tr>\n",
       "    <tr>\n",
       "      <th>1</th>\n",
       "      <td>APARTMENT</td>\n",
       "      <td>False</td>\n",
       "      <td>Je vous propose un appartement dans la rue Col...</td>\n",
       "      <td>48.0</td>\n",
       "      <td>2.0</td>\n",
       "      <td>False</td>\n",
       "      <td>SALE</td>\n",
       "      <td>429000.0</td>\n",
       "      <td>False</td>\n",
       "      <td>MANDATARY</td>\n",
       "      <td>2018-09-18 11:04:44.461</td>\n",
       "      <td>2019-06-06 10:08:10.890</td>\n",
       "      <td>260</td>\n",
       "      <td>2.0</td>\n",
       "    </tr>\n",
       "    <tr>\n",
       "      <th>2</th>\n",
       "      <td>APARTMENT</td>\n",
       "      <td>False</td>\n",
       "      <td>Dans un cadre arboré, calme et fleuri, un pent...</td>\n",
       "      <td>267.0</td>\n",
       "      <td>6.0</td>\n",
       "      <td>False</td>\n",
       "      <td>SALE</td>\n",
       "      <td>4970000.0</td>\n",
       "      <td>False</td>\n",
       "      <td>AGENCY</td>\n",
       "      <td>2019-02-19 16:49:03.547</td>\n",
       "      <td>2019-06-13 08:22:14.314</td>\n",
       "      <td>113</td>\n",
       "      <td>4.0</td>\n",
       "    </tr>\n",
       "  </tbody>\n",
       "</table>\n",
       "</div>"
      ],
      "text/plain": [
       "  PROPERTY_TYPE NEW_BUILD                                        DESCRIPTION  \\\n",
       "0     APARTMENT     False  Au rez de chaussée d'un bel immeuble récent,ap...   \n",
       "1     APARTMENT     False  Je vous propose un appartement dans la rue Col...   \n",
       "2     APARTMENT     False  Dans un cadre arboré, calme et fleuri, un pent...   \n",
       "\n",
       "   SURFACE  ROOM_COUNT  PARKING MARKETING_TYPE      PRICE  EXCLUSIVE_MANDATE  \\\n",
       "0     72.0         3.0     True           RENT     1979.0              False   \n",
       "1     48.0         2.0    False           SALE   429000.0              False   \n",
       "2    267.0         6.0    False           SALE  4970000.0              False   \n",
       "\n",
       "  DEALER_TYPE   PUBLICATION_START_DATE          LAST_CRAWL_DATE  Days_Between  \\\n",
       "0      AGENCY  2017-03-22 04:07:56.095  2017-04-21 18:52:35.733            30   \n",
       "1   MANDATARY  2018-09-18 11:04:44.461  2019-06-06 10:08:10.890           260   \n",
       "2      AGENCY  2019-02-19 16:49:03.547  2019-06-13 08:22:14.314           113   \n",
       "\n",
       "   kmeans_cluster  \n",
       "0             1.0  \n",
       "1             2.0  \n",
       "2             4.0  "
      ]
     },
     "execution_count": 85,
     "metadata": {},
     "output_type": "execute_result"
    }
   ],
   "source": [
    "data_useful.head(3)"
   ]
  },
  {
   "cell_type": "code",
   "execution_count": 86,
   "metadata": {},
   "outputs": [],
   "source": [
    "data_useful['DESCRIPTION'] = data_useful['DESCRIPTION'].fillna('')\n",
    "data_useful['DESCRIPTION'] = data_useful['DESCRIPTION'].apply(preprocess_text_nltk) # prend quelques secondes \n",
    "\n",
    "# TF-IDF\n",
    "tfidf_vectorizer = TfidfVectorizer()\n",
    "tfidf_matrix = tfidf_vectorizer.fit_transform(data_useful['DESCRIPTION'])\n",
    "text_similarity = cosine_similarity(tfidf_matrix)"
   ]
  },
  {
   "cell_type": "code",
   "execution_count": 87,
   "metadata": {},
   "outputs": [],
   "source": [
    "similarity_threshold = 0.8 # J'ai fixé un seuil de similitude de .8, mais ce seuil peut être ajusté.\n",
    "\n",
    "# identifier les paires dupliquées\n",
    "duplicate_pairs = []\n",
    "for i in range(len(data_useful)):\n",
    "    for j in range(i+1, len(data_useful)):\n",
    "        if text_similarity[i][j] > similarity_threshold:\n",
    "            duplicate_pairs.append((i, j))"
   ]
  },
  {
   "cell_type": "code",
   "execution_count": 88,
   "metadata": {},
   "outputs": [],
   "source": [
    "text_IDs = {}\n",
    "\n",
    "duplicate_df_list = []\n",
    "\n",
    "id_counter = 1\n",
    "\n",
    "# Traiter les paires dupliquées\n",
    "for idx, (i, j) in enumerate(duplicate_pairs):\n",
    "    set_id_i = text_IDs.get(i, None)\n",
    "    set_id_j = text_IDs.get(j, None)\n",
    "\n",
    "    # Si les deux documents ont déjà des identifiants, conserver le plus petit.\n",
    "    if set_id_i is not None and set_id_j is not None:\n",
    "        min_id = min(set_id_i, set_id_j)\n",
    "        text_IDs[i] = min_id\n",
    "        text_IDs[j] = min_id\n",
    "    else:\n",
    "        # Si l'un d'entre eux a un identifiant, utilisez le même identifiant.\n",
    "        if set_id_i is not None:\n",
    "            text_IDs[j] = set_id_i\n",
    "        elif set_id_j is not None:\n",
    "            text_IDs[i] = set_id_j\n",
    "        else:\n",
    "            # Aucun n'a d'identifiant, attribuer un nouvel identifiant unique\n",
    "            text_IDs[i] = id_counter\n",
    "            text_IDs[j] = id_counter\n",
    "            id_counter += 1"
   ]
  },
  {
   "cell_type": "code",
   "execution_count": 89,
   "metadata": {},
   "outputs": [
    {
     "data": {
      "text/html": [
       "<div>\n",
       "<style scoped>\n",
       "    .dataframe tbody tr th:only-of-type {\n",
       "        vertical-align: middle;\n",
       "    }\n",
       "\n",
       "    .dataframe tbody tr th {\n",
       "        vertical-align: top;\n",
       "    }\n",
       "\n",
       "    .dataframe thead th {\n",
       "        text-align: right;\n",
       "    }\n",
       "</style>\n",
       "<table border=\"1\" class=\"dataframe\">\n",
       "  <thead>\n",
       "    <tr style=\"text-align: right;\">\n",
       "      <th></th>\n",
       "      <th>PROPERTY_TYPE</th>\n",
       "      <th>NEW_BUILD</th>\n",
       "      <th>DESCRIPTION</th>\n",
       "      <th>SURFACE</th>\n",
       "      <th>ROOM_COUNT</th>\n",
       "      <th>PARKING</th>\n",
       "      <th>MARKETING_TYPE</th>\n",
       "      <th>PRICE</th>\n",
       "      <th>EXCLUSIVE_MANDATE</th>\n",
       "      <th>DEALER_TYPE</th>\n",
       "      <th>PUBLICATION_START_DATE</th>\n",
       "      <th>LAST_CRAWL_DATE</th>\n",
       "      <th>Days_Between</th>\n",
       "      <th>kmeans_cluster</th>\n",
       "      <th>text_ID</th>\n",
       "    </tr>\n",
       "  </thead>\n",
       "  <tbody>\n",
       "    <tr>\n",
       "      <th>0</th>\n",
       "      <td>APARTMENT</td>\n",
       "      <td>False</td>\n",
       "      <td>rez chaussée dun bel immeuble récent  appartem...</td>\n",
       "      <td>72.00</td>\n",
       "      <td>3.0</td>\n",
       "      <td>True</td>\n",
       "      <td>RENT</td>\n",
       "      <td>1979.0</td>\n",
       "      <td>False</td>\n",
       "      <td>AGENCY</td>\n",
       "      <td>2017-03-22 04:07:56.095</td>\n",
       "      <td>2017-04-21 18:52:35.733</td>\n",
       "      <td>30</td>\n",
       "      <td>1.0</td>\n",
       "      <td>376</td>\n",
       "    </tr>\n",
       "    <tr>\n",
       "      <th>1</th>\n",
       "      <td>APARTMENT</td>\n",
       "      <td>False</td>\n",
       "      <td>propose appartement rue collange immeuble stan...</td>\n",
       "      <td>48.00</td>\n",
       "      <td>2.0</td>\n",
       "      <td>False</td>\n",
       "      <td>SALE</td>\n",
       "      <td>429000.0</td>\n",
       "      <td>False</td>\n",
       "      <td>MANDATARY</td>\n",
       "      <td>2018-09-18 11:04:44.461</td>\n",
       "      <td>2019-06-06 10:08:10.890</td>\n",
       "      <td>260</td>\n",
       "      <td>2.0</td>\n",
       "      <td>377</td>\n",
       "    </tr>\n",
       "    <tr>\n",
       "      <th>2</th>\n",
       "      <td>APARTMENT</td>\n",
       "      <td>False</td>\n",
       "      <td>cadre arboré  calme fleuri  penthouse 267 m² t...</td>\n",
       "      <td>267.00</td>\n",
       "      <td>6.0</td>\n",
       "      <td>False</td>\n",
       "      <td>SALE</td>\n",
       "      <td>4970000.0</td>\n",
       "      <td>False</td>\n",
       "      <td>AGENCY</td>\n",
       "      <td>2019-02-19 16:49:03.547</td>\n",
       "      <td>2019-06-13 08:22:14.314</td>\n",
       "      <td>113</td>\n",
       "      <td>4.0</td>\n",
       "      <td>1</td>\n",
       "    </tr>\n",
       "    <tr>\n",
       "      <th>3</th>\n",
       "      <td>PREMISES</td>\n",
       "      <td>False</td>\n",
       "      <td>meilleur coworking flexible ville  50 m² salo...</td>\n",
       "      <td>50.00</td>\n",
       "      <td>0.0</td>\n",
       "      <td>False</td>\n",
       "      <td>RENT</td>\n",
       "      <td>89.0</td>\n",
       "      <td>False</td>\n",
       "      <td>AGENCY</td>\n",
       "      <td>2018-07-06 15:18:59.805</td>\n",
       "      <td>2019-06-18 10:40:07.405</td>\n",
       "      <td>346</td>\n",
       "      <td>2.0</td>\n",
       "      <td>2</td>\n",
       "    </tr>\n",
       "    <tr>\n",
       "      <th>4</th>\n",
       "      <td>HOUSE</td>\n",
       "      <td>False</td>\n",
       "      <td>levallois  parc planchette a toute proximité p...</td>\n",
       "      <td>330.00</td>\n",
       "      <td>8.0</td>\n",
       "      <td>False</td>\n",
       "      <td>SALE</td>\n",
       "      <td>2790000.0</td>\n",
       "      <td>False</td>\n",
       "      <td>AGENCY</td>\n",
       "      <td>2019-04-08 17:12:20.123</td>\n",
       "      <td>2019-06-14 15:02:18.155</td>\n",
       "      <td>66</td>\n",
       "      <td>4.0</td>\n",
       "      <td>3</td>\n",
       "    </tr>\n",
       "    <tr>\n",
       "      <th>...</th>\n",
       "      <td>...</td>\n",
       "      <td>...</td>\n",
       "      <td>...</td>\n",
       "      <td>...</td>\n",
       "      <td>...</td>\n",
       "      <td>...</td>\n",
       "      <td>...</td>\n",
       "      <td>...</td>\n",
       "      <td>...</td>\n",
       "      <td>...</td>\n",
       "      <td>...</td>\n",
       "      <td>...</td>\n",
       "      <td>...</td>\n",
       "      <td>...</td>\n",
       "      <td>...</td>\n",
       "    </tr>\n",
       "    <tr>\n",
       "      <th>2159</th>\n",
       "      <td>APARTMENT</td>\n",
       "      <td>False</td>\n",
       "      <td>levalloisperret  bel appartement idéalement si...</td>\n",
       "      <td>50.00</td>\n",
       "      <td>2.0</td>\n",
       "      <td>False</td>\n",
       "      <td>SALE</td>\n",
       "      <td>465000.0</td>\n",
       "      <td>False</td>\n",
       "      <td>AGENCY</td>\n",
       "      <td>2019-05-29 03:19:57.728</td>\n",
       "      <td>2019-08-27 10:42:10.913</td>\n",
       "      <td>90</td>\n",
       "      <td>0.0</td>\n",
       "      <td>160</td>\n",
       "    </tr>\n",
       "    <tr>\n",
       "      <th>2160</th>\n",
       "      <td>APARTMENT</td>\n",
       "      <td>False</td>\n",
       "      <td>300 mètres métro pont levallois bécon  1er éta...</td>\n",
       "      <td>31.00</td>\n",
       "      <td>2.0</td>\n",
       "      <td>False</td>\n",
       "      <td>RENT</td>\n",
       "      <td>1010.0</td>\n",
       "      <td>False</td>\n",
       "      <td>AGENCY</td>\n",
       "      <td>2019-08-27 01:41:33.163</td>\n",
       "      <td>2019-08-27 01:41:33.163</td>\n",
       "      <td>0</td>\n",
       "      <td>0.0</td>\n",
       "      <td>375</td>\n",
       "    </tr>\n",
       "    <tr>\n",
       "      <th>2161</th>\n",
       "      <td>APARTMENT</td>\n",
       "      <td>False</td>\n",
       "      <td>levallois  rue barbes  immeuble récent 1er éta...</td>\n",
       "      <td>67.00</td>\n",
       "      <td>3.0</td>\n",
       "      <td>False</td>\n",
       "      <td>SALE</td>\n",
       "      <td>719000.0</td>\n",
       "      <td>False</td>\n",
       "      <td>AGENCY</td>\n",
       "      <td>2019-08-27 00:08:01.676</td>\n",
       "      <td>2019-08-27 00:08:01.676</td>\n",
       "      <td>0</td>\n",
       "      <td>0.0</td>\n",
       "      <td>1211</td>\n",
       "    </tr>\n",
       "    <tr>\n",
       "      <th>2162</th>\n",
       "      <td>PARKING</td>\n",
       "      <td>-1</td>\n",
       "      <td>levalloisperret  rue paul vaillant couturier  ...</td>\n",
       "      <td>12.74</td>\n",
       "      <td>1.0</td>\n",
       "      <td>False</td>\n",
       "      <td>RENT</td>\n",
       "      <td>95.0</td>\n",
       "      <td>True</td>\n",
       "      <td>AGENCY</td>\n",
       "      <td>2019-07-06 10:07:45.114</td>\n",
       "      <td>2019-08-27 11:53:04.317</td>\n",
       "      <td>52</td>\n",
       "      <td>0.0</td>\n",
       "      <td>76</td>\n",
       "    </tr>\n",
       "    <tr>\n",
       "      <th>2163</th>\n",
       "      <td>APARTMENT</td>\n",
       "      <td>False</td>\n",
       "      <td>2 pièces 40 m² composé dun séjour terrasse 18 ...</td>\n",
       "      <td>40.00</td>\n",
       "      <td>2.0</td>\n",
       "      <td>False</td>\n",
       "      <td>SALE</td>\n",
       "      <td>438000.0</td>\n",
       "      <td>False</td>\n",
       "      <td>AGENCY</td>\n",
       "      <td>2019-07-06 09:25:08.353</td>\n",
       "      <td>2019-08-27 14:02:48.480</td>\n",
       "      <td>52</td>\n",
       "      <td>0.0</td>\n",
       "      <td>254</td>\n",
       "    </tr>\n",
       "  </tbody>\n",
       "</table>\n",
       "<p>2164 rows × 15 columns</p>\n",
       "</div>"
      ],
      "text/plain": [
       "     PROPERTY_TYPE NEW_BUILD  \\\n",
       "0        APARTMENT     False   \n",
       "1        APARTMENT     False   \n",
       "2        APARTMENT     False   \n",
       "3         PREMISES     False   \n",
       "4            HOUSE     False   \n",
       "...            ...       ...   \n",
       "2159     APARTMENT     False   \n",
       "2160     APARTMENT     False   \n",
       "2161     APARTMENT     False   \n",
       "2162       PARKING        -1   \n",
       "2163     APARTMENT     False   \n",
       "\n",
       "                                            DESCRIPTION  SURFACE  ROOM_COUNT  \\\n",
       "0     rez chaussée dun bel immeuble récent  appartem...    72.00         3.0   \n",
       "1     propose appartement rue collange immeuble stan...    48.00         2.0   \n",
       "2     cadre arboré  calme fleuri  penthouse 267 m² t...   267.00         6.0   \n",
       "3      meilleur coworking flexible ville  50 m² salo...    50.00         0.0   \n",
       "4     levallois  parc planchette a toute proximité p...   330.00         8.0   \n",
       "...                                                 ...      ...         ...   \n",
       "2159  levalloisperret  bel appartement idéalement si...    50.00         2.0   \n",
       "2160  300 mètres métro pont levallois bécon  1er éta...    31.00         2.0   \n",
       "2161  levallois  rue barbes  immeuble récent 1er éta...    67.00         3.0   \n",
       "2162  levalloisperret  rue paul vaillant couturier  ...    12.74         1.0   \n",
       "2163  2 pièces 40 m² composé dun séjour terrasse 18 ...    40.00         2.0   \n",
       "\n",
       "      PARKING MARKETING_TYPE      PRICE  EXCLUSIVE_MANDATE DEALER_TYPE  \\\n",
       "0        True           RENT     1979.0              False      AGENCY   \n",
       "1       False           SALE   429000.0              False   MANDATARY   \n",
       "2       False           SALE  4970000.0              False      AGENCY   \n",
       "3       False           RENT       89.0              False      AGENCY   \n",
       "4       False           SALE  2790000.0              False      AGENCY   \n",
       "...       ...            ...        ...                ...         ...   \n",
       "2159    False           SALE   465000.0              False      AGENCY   \n",
       "2160    False           RENT     1010.0              False      AGENCY   \n",
       "2161    False           SALE   719000.0              False      AGENCY   \n",
       "2162    False           RENT       95.0               True      AGENCY   \n",
       "2163    False           SALE   438000.0              False      AGENCY   \n",
       "\n",
       "       PUBLICATION_START_DATE          LAST_CRAWL_DATE  Days_Between  \\\n",
       "0     2017-03-22 04:07:56.095  2017-04-21 18:52:35.733            30   \n",
       "1     2018-09-18 11:04:44.461  2019-06-06 10:08:10.890           260   \n",
       "2     2019-02-19 16:49:03.547  2019-06-13 08:22:14.314           113   \n",
       "3     2018-07-06 15:18:59.805  2019-06-18 10:40:07.405           346   \n",
       "4     2019-04-08 17:12:20.123  2019-06-14 15:02:18.155            66   \n",
       "...                       ...                      ...           ...   \n",
       "2159  2019-05-29 03:19:57.728  2019-08-27 10:42:10.913            90   \n",
       "2160  2019-08-27 01:41:33.163  2019-08-27 01:41:33.163             0   \n",
       "2161  2019-08-27 00:08:01.676  2019-08-27 00:08:01.676             0   \n",
       "2162  2019-07-06 10:07:45.114  2019-08-27 11:53:04.317            52   \n",
       "2163  2019-07-06 09:25:08.353  2019-08-27 14:02:48.480            52   \n",
       "\n",
       "      kmeans_cluster  text_ID  \n",
       "0                1.0      376  \n",
       "1                2.0      377  \n",
       "2                4.0        1  \n",
       "3                2.0        2  \n",
       "4                4.0        3  \n",
       "...              ...      ...  \n",
       "2159             0.0      160  \n",
       "2160             0.0      375  \n",
       "2161             0.0     1211  \n",
       "2162             0.0       76  \n",
       "2163             0.0      254  \n",
       "\n",
       "[2164 rows x 15 columns]"
      ]
     },
     "execution_count": 89,
     "metadata": {},
     "output_type": "execute_result"
    }
   ],
   "source": [
    "# Attribuer des identifiants uniques aux annonces qui ne font pas partie d'un ensemble de doublons.\n",
    "for i in range(len(data_useful)):\n",
    "    if i not in text_IDs:\n",
    "        text_IDs[i] = id_counter\n",
    "        id_counter += 1\n",
    "\n",
    "data_useful['text_ID'] = [text_IDs[i] for i in range(len(data_useful))]\n",
    "\n",
    "data_useful"
   ]
  },
  {
   "cell_type": "code",
   "execution_count": 90,
   "metadata": {},
   "outputs": [
    {
     "data": {
      "application/vnd.plotly.v1+json": {
       "config": {
        "plotlyServerURL": "https://plot.ly"
       },
       "data": [
        {
         "alignmentgroup": "True",
         "hovertemplate": "text_ID=%{x}<br>Count=%{y}<extra></extra>",
         "legendgroup": "",
         "marker": {
          "color": "#636efa",
          "pattern": {
           "shape": ""
          }
         },
         "name": "",
         "offsetgroup": "",
         "orientation": "v",
         "showlegend": false,
         "textposition": "auto",
         "type": "bar",
         "x": [
          111,
          190,
          40,
          231,
          121,
          226,
          158,
          3,
          50,
          126,
          144,
          78,
          66,
          134,
          62,
          116,
          61,
          30,
          246,
          37,
          67,
          202,
          41,
          86,
          104,
          103,
          56,
          211,
          48,
          19,
          26,
          92,
          70,
          17,
          180,
          77,
          160,
          290,
          9,
          262,
          115,
          34,
          241,
          230,
          95,
          204,
          203,
          161,
          218,
          76,
          5,
          208,
          201,
          177,
          242,
          84,
          181,
          135,
          188,
          94,
          131,
          141,
          223,
          179,
          90,
          125,
          124,
          251,
          229,
          236,
          250,
          299,
          145,
          88,
          228,
          309,
          280,
          305,
          227,
          307,
          225,
          83,
          277,
          275,
          220,
          80,
          146,
          91,
          186,
          289,
          291,
          167,
          368,
          169,
          171,
          163,
          159,
          156,
          293,
          152,
          143,
          366,
          184,
          187,
          301,
          132,
          129,
          123,
          196,
          199,
          118,
          114,
          112,
          109,
          105,
          100,
          99,
          98,
          97,
          74,
          288,
          321,
          6,
          43,
          29,
          324,
          237,
          20,
          329,
          21,
          327,
          59,
          58,
          263,
          22,
          23,
          45,
          260,
          328,
          238,
          323,
          240,
          53,
          319,
          259,
          18,
          15,
          71,
          33,
          314,
          245,
          233,
          8,
          68,
          330,
          356,
          4,
          256,
          197,
          113,
          296,
          345,
          272,
          12,
          119,
          154,
          117,
          249,
          155,
          375,
          200,
          157,
          11,
          32,
          85,
          285,
          183,
          178,
          270,
          14,
          257,
          339,
          284,
          271,
          140,
          16,
          149,
          182,
          185,
          252,
          137,
          254,
          294,
          253,
          36,
          193,
          127,
          194,
          153,
          25,
          27,
          24,
          175,
          38,
          287,
          304,
          347,
          215,
          60,
          219,
          342,
          166,
          63,
          65,
          276,
          308,
          318,
          265,
          310,
          361,
          222,
          81,
          317,
          331,
          235,
          267,
          341,
          232,
          349,
          73,
          279,
          268,
          170,
          371,
          39,
          110,
          205,
          108,
          206,
          147,
          273,
          244,
          42,
          96,
          264,
          54,
          212,
          49,
          57,
          210,
          55,
          300,
          302,
          172,
          176,
          266,
          286,
          261,
          174,
          354,
          173,
          343,
          367,
          359,
          258,
          217,
          357,
          351,
          209,
          239,
          362,
          213,
          214,
          278,
          283,
          168,
          221,
          274,
          224,
          350,
          234,
          360,
          243,
          281,
          207,
          352,
          255,
          344,
          189,
          191,
          192,
          365,
          195,
          198,
          353,
          282,
          348,
          346,
          248,
          363,
          247,
          364,
          355,
          306,
          128,
          52,
          35,
          64,
          335,
          322,
          31,
          28,
          130,
          303,
          87,
          133,
          316,
          295,
          369,
          136,
          332,
          374,
          337,
          315,
          93,
          370,
          298,
          102,
          101,
          44,
          326,
          46,
          47,
          51,
          120,
          89,
          336,
          297,
          320,
          372,
          122,
          107,
          106,
          138,
          333,
          373,
          162,
          7,
          164,
          334,
          75,
          311,
          312,
          340,
          292,
          313,
          325,
          2,
          165,
          79,
          1,
          82,
          10,
          148,
          69,
          13,
          139,
          151,
          150,
          72,
          338,
          142,
          946,
          945,
          941,
          948,
          844,
          842,
          843,
          846,
          848,
          847,
          947,
          942,
          944,
          943,
          845,
          893,
          956,
          949,
          823,
          828,
          827,
          961,
          962,
          826,
          963,
          825,
          824,
          964,
          822,
          950,
          965,
          966,
          967,
          968,
          969,
          821,
          970,
          971,
          972,
          829,
          830,
          831,
          960,
          951,
          841,
          952,
          953,
          954,
          955,
          840,
          839,
          849,
          957,
          838,
          837,
          836,
          835,
          834,
          958,
          833,
          832,
          959,
          940,
          855,
          939,
          918,
          883,
          908,
          882,
          881,
          880,
          879,
          909,
          878,
          910,
          911,
          877,
          912,
          913,
          876,
          875,
          874,
          914,
          915,
          916,
          907,
          906,
          905,
          899,
          895,
          892,
          896,
          891,
          897,
          898,
          890,
          889,
          888,
          904,
          900,
          901,
          902,
          903,
          887,
          886,
          885,
          884,
          917,
          873,
          850,
          919,
          929,
          859,
          858,
          930,
          857,
          856,
          894,
          931,
          932,
          933,
          854,
          934,
          935,
          853,
          852,
          936,
          937,
          938,
          851,
          860,
          861,
          928,
          867,
          872,
          920,
          921,
          922,
          871,
          870,
          869,
          868,
          923,
          862,
          866,
          865,
          864,
          863,
          924,
          925,
          926,
          927,
          376,
          1043,
          973,
          1137,
          1125,
          1126,
          1127,
          1128,
          1129,
          1130,
          1131,
          1132,
          1133,
          1134,
          1135,
          1136,
          1138,
          1123,
          1139,
          1140,
          1141,
          1142,
          1143,
          1144,
          1145,
          1146,
          1147,
          1148,
          1149,
          1150,
          1124,
          1122,
          1152,
          1107,
          1095,
          1096,
          1097,
          1098,
          1099,
          1100,
          1101,
          1102,
          1103,
          1104,
          1105,
          1106,
          1108,
          1121,
          1109,
          1110,
          1111,
          1112,
          1113,
          1114,
          1115,
          1116,
          1117,
          1118,
          1119,
          1120,
          1151,
          1153,
          1093,
          1197,
          1185,
          1186,
          1187,
          1188,
          1189,
          1190,
          1191,
          1192,
          1193,
          1194,
          1195,
          1196,
          1198,
          1183,
          1199,
          1200,
          1201,
          1202,
          1203,
          1204,
          1205,
          1206,
          1207,
          1208,
          1209,
          1210,
          1184,
          1182,
          1154,
          1167,
          1155,
          1156,
          1157,
          1158,
          1159,
          1160,
          1161,
          1162,
          1163,
          1164,
          1165,
          1166,
          1168,
          1181,
          1169,
          1170,
          1171,
          1172,
          1173,
          1174,
          1175,
          1176,
          1177,
          1178,
          1179,
          1180,
          1094,
          1092,
          974,
          1017,
          1005,
          1006,
          1007,
          1008,
          1009,
          1010,
          1011,
          1012,
          1013,
          1014,
          1015,
          1016,
          1018,
          1003,
          1019,
          1020,
          1021,
          1022,
          1023,
          1024,
          1025,
          1026,
          1027,
          1028,
          1029,
          1030,
          1004,
          1002,
          1032,
          987,
          975,
          976,
          977,
          978,
          979,
          980,
          981,
          982,
          983,
          984,
          985,
          986,
          988,
          1001,
          989,
          990,
          991,
          992,
          993,
          994,
          995,
          996,
          997,
          998,
          999,
          1000,
          1031,
          1033,
          1091,
          1077,
          1065,
          1066,
          1067,
          1068,
          1069,
          1070,
          1071,
          1072,
          1073,
          1074,
          1075,
          1076,
          1078,
          1063,
          1079,
          1080,
          1081,
          1082,
          1083,
          1084,
          1085,
          1086,
          1087,
          1088,
          1089,
          1090,
          1064,
          1062,
          1034,
          1047,
          1035,
          1036,
          1037,
          1038,
          1039,
          1040,
          1041,
          1042,
          819,
          1044,
          1045,
          1046,
          1048,
          1061,
          1049,
          1050,
          1051,
          1052,
          1053,
          1054,
          1055,
          1056,
          1057,
          1058,
          1059,
          1060,
          820,
          700,
          818,
          528,
          517,
          518,
          519,
          520,
          521,
          522,
          523,
          524,
          525,
          526,
          527,
          529,
          515,
          530,
          531,
          532,
          533,
          534,
          535,
          536,
          537,
          538,
          539,
          540,
          516,
          514,
          487,
          500,
          489,
          490,
          491,
          492,
          493,
          494,
          495,
          496,
          497,
          498,
          499,
          501,
          513,
          502,
          503,
          504,
          505,
          506,
          507,
          508,
          509,
          510,
          511,
          512,
          541,
          542,
          543,
          583,
          572,
          573,
          574,
          575,
          576,
          577,
          578,
          579,
          580,
          581,
          582,
          584,
          544,
          585,
          586,
          587,
          588,
          589,
          590,
          591,
          592,
          593,
          594,
          595,
          571,
          570,
          569,
          568,
          545,
          546,
          547,
          548,
          549,
          550,
          551,
          552,
          553,
          554,
          555,
          556,
          557,
          558,
          559,
          560,
          561,
          562,
          563,
          564,
          565,
          566,
          567,
          488,
          486,
          597,
          417,
          406,
          407,
          408,
          409,
          410,
          411,
          412,
          413,
          414,
          415,
          416,
          418,
          404,
          419,
          420,
          421,
          422,
          423,
          424,
          425,
          426,
          427,
          428,
          429,
          405,
          403,
          485,
          389,
          378,
          379,
          380,
          381,
          382,
          383,
          384,
          385,
          386,
          387,
          388,
          390,
          402,
          391,
          392,
          393,
          394,
          395,
          396,
          397,
          398,
          399,
          400,
          401,
          430,
          431,
          432,
          472,
          461,
          462,
          463,
          464,
          465,
          466,
          467,
          468,
          469,
          470,
          471,
          473,
          433,
          474,
          475,
          476,
          477,
          478,
          479,
          480,
          481,
          482,
          483,
          484,
          460,
          459,
          458,
          457,
          434,
          435,
          436,
          437,
          438,
          439,
          440,
          441,
          442,
          443,
          444,
          445,
          446,
          447,
          448,
          449,
          450,
          451,
          452,
          453,
          454,
          455,
          456,
          596,
          598,
          817,
          749,
          738,
          739,
          740,
          741,
          742,
          743,
          744,
          745,
          746,
          747,
          748,
          750,
          736,
          751,
          752,
          753,
          754,
          755,
          756,
          757,
          758,
          759,
          760,
          761,
          737,
          735,
          709,
          721,
          711,
          712,
          713,
          714,
          269,
          715,
          716,
          717,
          718,
          719,
          720,
          722,
          734,
          723,
          724,
          725,
          726,
          727,
          728,
          729,
          730,
          731,
          732,
          733,
          762,
          763,
          764,
          804,
          793,
          794,
          795,
          796,
          797,
          798,
          799,
          800,
          801,
          802,
          803,
          805,
          765,
          806,
          807,
          808,
          809,
          810,
          811,
          812,
          813,
          814,
          815,
          816,
          792,
          791,
          790,
          789,
          766,
          767,
          768,
          769,
          770,
          771,
          772,
          773,
          774,
          775,
          776,
          777,
          778,
          779,
          780,
          781,
          782,
          783,
          784,
          785,
          786,
          787,
          788,
          710,
          708,
          599,
          639,
          628,
          629,
          630,
          631,
          632,
          633,
          634,
          635,
          636,
          637,
          638,
          640,
          626,
          641,
          642,
          643,
          644,
          645,
          646,
          647,
          648,
          649,
          650,
          651,
          627,
          625,
          707,
          611,
          600,
          601,
          602,
          603,
          604,
          605,
          606,
          607,
          608,
          609,
          610,
          612,
          624,
          613,
          614,
          615,
          616,
          617,
          618,
          619,
          620,
          621,
          622,
          623,
          652,
          653,
          654,
          694,
          683,
          684,
          685,
          686,
          687,
          688,
          689,
          690,
          691,
          692,
          693,
          695,
          655,
          696,
          697,
          698,
          699,
          377,
          701,
          702,
          703,
          704,
          705,
          706,
          682,
          681,
          680,
          679,
          656,
          657,
          658,
          659,
          660,
          661,
          662,
          663,
          664,
          665,
          666,
          667,
          668,
          669,
          670,
          671,
          672,
          673,
          674,
          675,
          676,
          677,
          678,
          1211
         ],
         "xaxis": "x",
         "y": [
          43,
          11,
          9,
          8,
          8,
          8,
          8,
          8,
          8,
          7,
          7,
          7,
          6,
          6,
          6,
          6,
          6,
          6,
          6,
          6,
          6,
          6,
          6,
          6,
          6,
          6,
          6,
          6,
          6,
          6,
          6,
          6,
          6,
          6,
          6,
          6,
          6,
          6,
          6,
          5,
          5,
          5,
          5,
          5,
          5,
          5,
          5,
          5,
          5,
          5,
          5,
          5,
          5,
          5,
          5,
          5,
          5,
          5,
          5,
          5,
          5,
          5,
          5,
          5,
          5,
          5,
          5,
          5,
          5,
          5,
          5,
          5,
          5,
          4,
          4,
          4,
          4,
          4,
          4,
          4,
          4,
          4,
          4,
          4,
          4,
          4,
          4,
          4,
          4,
          4,
          4,
          4,
          4,
          4,
          4,
          4,
          4,
          4,
          4,
          4,
          4,
          4,
          4,
          4,
          4,
          4,
          4,
          4,
          4,
          4,
          4,
          4,
          4,
          4,
          4,
          4,
          4,
          4,
          4,
          4,
          4,
          4,
          4,
          4,
          4,
          4,
          4,
          4,
          4,
          4,
          4,
          4,
          4,
          4,
          4,
          4,
          4,
          4,
          4,
          4,
          4,
          4,
          4,
          4,
          4,
          4,
          4,
          4,
          4,
          4,
          4,
          4,
          4,
          4,
          4,
          4,
          4,
          4,
          3,
          3,
          3,
          3,
          3,
          3,
          3,
          3,
          3,
          3,
          3,
          3,
          3,
          3,
          3,
          3,
          3,
          3,
          3,
          3,
          3,
          3,
          3,
          3,
          3,
          3,
          3,
          3,
          3,
          3,
          3,
          3,
          3,
          3,
          3,
          3,
          3,
          3,
          3,
          3,
          3,
          3,
          3,
          3,
          3,
          3,
          3,
          3,
          3,
          3,
          3,
          3,
          3,
          3,
          3,
          3,
          3,
          3,
          3,
          3,
          3,
          3,
          3,
          3,
          3,
          3,
          3,
          3,
          3,
          3,
          3,
          3,
          3,
          3,
          3,
          3,
          3,
          3,
          3,
          3,
          3,
          3,
          3,
          3,
          3,
          3,
          3,
          3,
          3,
          3,
          3,
          3,
          3,
          3,
          3,
          2,
          2,
          2,
          2,
          2,
          2,
          2,
          2,
          2,
          2,
          2,
          2,
          2,
          2,
          2,
          2,
          2,
          2,
          2,
          2,
          2,
          2,
          2,
          2,
          2,
          2,
          2,
          2,
          2,
          2,
          2,
          2,
          2,
          2,
          2,
          2,
          2,
          2,
          2,
          2,
          2,
          2,
          2,
          2,
          2,
          2,
          2,
          2,
          2,
          2,
          2,
          2,
          2,
          2,
          2,
          2,
          2,
          2,
          2,
          2,
          2,
          2,
          2,
          2,
          2,
          2,
          2,
          2,
          2,
          2,
          2,
          2,
          2,
          2,
          2,
          2,
          2,
          2,
          2,
          2,
          2,
          2,
          2,
          2,
          2,
          2,
          2,
          2,
          2,
          2,
          2,
          2,
          2,
          2,
          2,
          2,
          2,
          2,
          2,
          2,
          2,
          2,
          2,
          2,
          2,
          2,
          2,
          2,
          2,
          2,
          2,
          2,
          2,
          2,
          2,
          2,
          2,
          2,
          2,
          1,
          1,
          1,
          1,
          1,
          1,
          1,
          1,
          1,
          1,
          1,
          1,
          1,
          1,
          1,
          1,
          1,
          1,
          1,
          1,
          1,
          1,
          1,
          1,
          1,
          1,
          1,
          1,
          1,
          1,
          1,
          1,
          1,
          1,
          1,
          1,
          1,
          1,
          1,
          1,
          1,
          1,
          1,
          1,
          1,
          1,
          1,
          1,
          1,
          1,
          1,
          1,
          1,
          1,
          1,
          1,
          1,
          1,
          1,
          1,
          1,
          1,
          1,
          1,
          1,
          1,
          1,
          1,
          1,
          1,
          1,
          1,
          1,
          1,
          1,
          1,
          1,
          1,
          1,
          1,
          1,
          1,
          1,
          1,
          1,
          1,
          1,
          1,
          1,
          1,
          1,
          1,
          1,
          1,
          1,
          1,
          1,
          1,
          1,
          1,
          1,
          1,
          1,
          1,
          1,
          1,
          1,
          1,
          1,
          1,
          1,
          1,
          1,
          1,
          1,
          1,
          1,
          1,
          1,
          1,
          1,
          1,
          1,
          1,
          1,
          1,
          1,
          1,
          1,
          1,
          1,
          1,
          1,
          1,
          1,
          1,
          1,
          1,
          1,
          1,
          1,
          1,
          1,
          1,
          1,
          1,
          1,
          1,
          1,
          1,
          1,
          1,
          1,
          1,
          1,
          1,
          1,
          1,
          1,
          1,
          1,
          1,
          1,
          1,
          1,
          1,
          1,
          1,
          1,
          1,
          1,
          1,
          1,
          1,
          1,
          1,
          1,
          1,
          1,
          1,
          1,
          1,
          1,
          1,
          1,
          1,
          1,
          1,
          1,
          1,
          1,
          1,
          1,
          1,
          1,
          1,
          1,
          1,
          1,
          1,
          1,
          1,
          1,
          1,
          1,
          1,
          1,
          1,
          1,
          1,
          1,
          1,
          1,
          1,
          1,
          1,
          1,
          1,
          1,
          1,
          1,
          1,
          1,
          1,
          1,
          1,
          1,
          1,
          1,
          1,
          1,
          1,
          1,
          1,
          1,
          1,
          1,
          1,
          1,
          1,
          1,
          1,
          1,
          1,
          1,
          1,
          1,
          1,
          1,
          1,
          1,
          1,
          1,
          1,
          1,
          1,
          1,
          1,
          1,
          1,
          1,
          1,
          1,
          1,
          1,
          1,
          1,
          1,
          1,
          1,
          1,
          1,
          1,
          1,
          1,
          1,
          1,
          1,
          1,
          1,
          1,
          1,
          1,
          1,
          1,
          1,
          1,
          1,
          1,
          1,
          1,
          1,
          1,
          1,
          1,
          1,
          1,
          1,
          1,
          1,
          1,
          1,
          1,
          1,
          1,
          1,
          1,
          1,
          1,
          1,
          1,
          1,
          1,
          1,
          1,
          1,
          1,
          1,
          1,
          1,
          1,
          1,
          1,
          1,
          1,
          1,
          1,
          1,
          1,
          1,
          1,
          1,
          1,
          1,
          1,
          1,
          1,
          1,
          1,
          1,
          1,
          1,
          1,
          1,
          1,
          1,
          1,
          1,
          1,
          1,
          1,
          1,
          1,
          1,
          1,
          1,
          1,
          1,
          1,
          1,
          1,
          1,
          1,
          1,
          1,
          1,
          1,
          1,
          1,
          1,
          1,
          1,
          1,
          1,
          1,
          1,
          1,
          1,
          1,
          1,
          1,
          1,
          1,
          1,
          1,
          1,
          1,
          1,
          1,
          1,
          1,
          1,
          1,
          1,
          1,
          1,
          1,
          1,
          1,
          1,
          1,
          1,
          1,
          1,
          1,
          1,
          1,
          1,
          1,
          1,
          1,
          1,
          1,
          1,
          1,
          1,
          1,
          1,
          1,
          1,
          1,
          1,
          1,
          1,
          1,
          1,
          1,
          1,
          1,
          1,
          1,
          1,
          1,
          1,
          1,
          1,
          1,
          1,
          1,
          1,
          1,
          1,
          1,
          1,
          1,
          1,
          1,
          1,
          1,
          1,
          1,
          1,
          1,
          1,
          1,
          1,
          1,
          1,
          1,
          1,
          1,
          1,
          1,
          1,
          1,
          1,
          1,
          1,
          1,
          1,
          1,
          1,
          1,
          1,
          1,
          1,
          1,
          1,
          1,
          1,
          1,
          1,
          1,
          1,
          1,
          1,
          1,
          1,
          1,
          1,
          1,
          1,
          1,
          1,
          1,
          1,
          1,
          1,
          1,
          1,
          1,
          1,
          1,
          1,
          1,
          1,
          1,
          1,
          1,
          1,
          1,
          1,
          1,
          1,
          1,
          1,
          1,
          1,
          1,
          1,
          1,
          1,
          1,
          1,
          1,
          1,
          1,
          1,
          1,
          1,
          1,
          1,
          1,
          1,
          1,
          1,
          1,
          1,
          1,
          1,
          1,
          1,
          1,
          1,
          1,
          1,
          1,
          1,
          1,
          1,
          1,
          1,
          1,
          1,
          1,
          1,
          1,
          1,
          1,
          1,
          1,
          1,
          1,
          1,
          1,
          1,
          1,
          1,
          1,
          1,
          1,
          1,
          1,
          1,
          1,
          1,
          1,
          1,
          1,
          1,
          1,
          1,
          1,
          1,
          1,
          1,
          1,
          1,
          1,
          1,
          1,
          1,
          1,
          1,
          1,
          1,
          1,
          1,
          1,
          1,
          1,
          1,
          1,
          1,
          1,
          1,
          1,
          1,
          1,
          1,
          1,
          1,
          1,
          1,
          1,
          1,
          1,
          1,
          1,
          1,
          1,
          1,
          1,
          1,
          1,
          1,
          1,
          1,
          1,
          1,
          1,
          1,
          1,
          1,
          1,
          1,
          1,
          1,
          1,
          1,
          1,
          1,
          1,
          1,
          1,
          1,
          1,
          1,
          1,
          1,
          1,
          1,
          1,
          1,
          1,
          1,
          1,
          1,
          1,
          1,
          1,
          1,
          1,
          1,
          1,
          1,
          1,
          1,
          1,
          1,
          1,
          1,
          1,
          1,
          1,
          1,
          1,
          1,
          1,
          1,
          1,
          1,
          1,
          1,
          1,
          1,
          1,
          1,
          1,
          1,
          1,
          1,
          1,
          1,
          1,
          1,
          1,
          1,
          1,
          1,
          1,
          1,
          1,
          1,
          1,
          1,
          1,
          1,
          1,
          1,
          1,
          1,
          1,
          1,
          1,
          1,
          1,
          1,
          1,
          1,
          1,
          1,
          1,
          1,
          1,
          1,
          1,
          1,
          1,
          1,
          1,
          1,
          1,
          1,
          1,
          1,
          1,
          1,
          1,
          1,
          1,
          1,
          1,
          1,
          1,
          1,
          1,
          1,
          1,
          1,
          1,
          1,
          1,
          1,
          1,
          1,
          1,
          1,
          1,
          1,
          1,
          1,
          1,
          1,
          1,
          1,
          1,
          1,
          1,
          1,
          1,
          1,
          1,
          1,
          1,
          1,
          1,
          1,
          1,
          1,
          1,
          1,
          1,
          1,
          1,
          1,
          1,
          1,
          1,
          1,
          1,
          1,
          1,
          1,
          1,
          1,
          1,
          1,
          1,
          1,
          1,
          1,
          1,
          1,
          1,
          1,
          1,
          1,
          1,
          1,
          1,
          1,
          1,
          1,
          1,
          1,
          1,
          1,
          1,
          1,
          1,
          1,
          1,
          1,
          1,
          1,
          1,
          1,
          1,
          1,
          1,
          1,
          1,
          1,
          1,
          1,
          1
         ],
         "yaxis": "y"
        }
       ],
       "layout": {
        "barmode": "relative",
        "legend": {
         "tracegroupgap": 0
        },
        "template": {
         "data": {
          "bar": [
           {
            "error_x": {
             "color": "#2a3f5f"
            },
            "error_y": {
             "color": "#2a3f5f"
            },
            "marker": {
             "line": {
              "color": "#E5ECF6",
              "width": 0.5
             },
             "pattern": {
              "fillmode": "overlay",
              "size": 10,
              "solidity": 0.2
             }
            },
            "type": "bar"
           }
          ],
          "barpolar": [
           {
            "marker": {
             "line": {
              "color": "#E5ECF6",
              "width": 0.5
             },
             "pattern": {
              "fillmode": "overlay",
              "size": 10,
              "solidity": 0.2
             }
            },
            "type": "barpolar"
           }
          ],
          "carpet": [
           {
            "aaxis": {
             "endlinecolor": "#2a3f5f",
             "gridcolor": "white",
             "linecolor": "white",
             "minorgridcolor": "white",
             "startlinecolor": "#2a3f5f"
            },
            "baxis": {
             "endlinecolor": "#2a3f5f",
             "gridcolor": "white",
             "linecolor": "white",
             "minorgridcolor": "white",
             "startlinecolor": "#2a3f5f"
            },
            "type": "carpet"
           }
          ],
          "choropleth": [
           {
            "colorbar": {
             "outlinewidth": 0,
             "ticks": ""
            },
            "type": "choropleth"
           }
          ],
          "contour": [
           {
            "colorbar": {
             "outlinewidth": 0,
             "ticks": ""
            },
            "colorscale": [
             [
              0,
              "#0d0887"
             ],
             [
              0.1111111111111111,
              "#46039f"
             ],
             [
              0.2222222222222222,
              "#7201a8"
             ],
             [
              0.3333333333333333,
              "#9c179e"
             ],
             [
              0.4444444444444444,
              "#bd3786"
             ],
             [
              0.5555555555555556,
              "#d8576b"
             ],
             [
              0.6666666666666666,
              "#ed7953"
             ],
             [
              0.7777777777777778,
              "#fb9f3a"
             ],
             [
              0.8888888888888888,
              "#fdca26"
             ],
             [
              1,
              "#f0f921"
             ]
            ],
            "type": "contour"
           }
          ],
          "contourcarpet": [
           {
            "colorbar": {
             "outlinewidth": 0,
             "ticks": ""
            },
            "type": "contourcarpet"
           }
          ],
          "heatmap": [
           {
            "colorbar": {
             "outlinewidth": 0,
             "ticks": ""
            },
            "colorscale": [
             [
              0,
              "#0d0887"
             ],
             [
              0.1111111111111111,
              "#46039f"
             ],
             [
              0.2222222222222222,
              "#7201a8"
             ],
             [
              0.3333333333333333,
              "#9c179e"
             ],
             [
              0.4444444444444444,
              "#bd3786"
             ],
             [
              0.5555555555555556,
              "#d8576b"
             ],
             [
              0.6666666666666666,
              "#ed7953"
             ],
             [
              0.7777777777777778,
              "#fb9f3a"
             ],
             [
              0.8888888888888888,
              "#fdca26"
             ],
             [
              1,
              "#f0f921"
             ]
            ],
            "type": "heatmap"
           }
          ],
          "heatmapgl": [
           {
            "colorbar": {
             "outlinewidth": 0,
             "ticks": ""
            },
            "colorscale": [
             [
              0,
              "#0d0887"
             ],
             [
              0.1111111111111111,
              "#46039f"
             ],
             [
              0.2222222222222222,
              "#7201a8"
             ],
             [
              0.3333333333333333,
              "#9c179e"
             ],
             [
              0.4444444444444444,
              "#bd3786"
             ],
             [
              0.5555555555555556,
              "#d8576b"
             ],
             [
              0.6666666666666666,
              "#ed7953"
             ],
             [
              0.7777777777777778,
              "#fb9f3a"
             ],
             [
              0.8888888888888888,
              "#fdca26"
             ],
             [
              1,
              "#f0f921"
             ]
            ],
            "type": "heatmapgl"
           }
          ],
          "histogram": [
           {
            "marker": {
             "pattern": {
              "fillmode": "overlay",
              "size": 10,
              "solidity": 0.2
             }
            },
            "type": "histogram"
           }
          ],
          "histogram2d": [
           {
            "colorbar": {
             "outlinewidth": 0,
             "ticks": ""
            },
            "colorscale": [
             [
              0,
              "#0d0887"
             ],
             [
              0.1111111111111111,
              "#46039f"
             ],
             [
              0.2222222222222222,
              "#7201a8"
             ],
             [
              0.3333333333333333,
              "#9c179e"
             ],
             [
              0.4444444444444444,
              "#bd3786"
             ],
             [
              0.5555555555555556,
              "#d8576b"
             ],
             [
              0.6666666666666666,
              "#ed7953"
             ],
             [
              0.7777777777777778,
              "#fb9f3a"
             ],
             [
              0.8888888888888888,
              "#fdca26"
             ],
             [
              1,
              "#f0f921"
             ]
            ],
            "type": "histogram2d"
           }
          ],
          "histogram2dcontour": [
           {
            "colorbar": {
             "outlinewidth": 0,
             "ticks": ""
            },
            "colorscale": [
             [
              0,
              "#0d0887"
             ],
             [
              0.1111111111111111,
              "#46039f"
             ],
             [
              0.2222222222222222,
              "#7201a8"
             ],
             [
              0.3333333333333333,
              "#9c179e"
             ],
             [
              0.4444444444444444,
              "#bd3786"
             ],
             [
              0.5555555555555556,
              "#d8576b"
             ],
             [
              0.6666666666666666,
              "#ed7953"
             ],
             [
              0.7777777777777778,
              "#fb9f3a"
             ],
             [
              0.8888888888888888,
              "#fdca26"
             ],
             [
              1,
              "#f0f921"
             ]
            ],
            "type": "histogram2dcontour"
           }
          ],
          "mesh3d": [
           {
            "colorbar": {
             "outlinewidth": 0,
             "ticks": ""
            },
            "type": "mesh3d"
           }
          ],
          "parcoords": [
           {
            "line": {
             "colorbar": {
              "outlinewidth": 0,
              "ticks": ""
             }
            },
            "type": "parcoords"
           }
          ],
          "pie": [
           {
            "automargin": true,
            "type": "pie"
           }
          ],
          "scatter": [
           {
            "fillpattern": {
             "fillmode": "overlay",
             "size": 10,
             "solidity": 0.2
            },
            "type": "scatter"
           }
          ],
          "scatter3d": [
           {
            "line": {
             "colorbar": {
              "outlinewidth": 0,
              "ticks": ""
             }
            },
            "marker": {
             "colorbar": {
              "outlinewidth": 0,
              "ticks": ""
             }
            },
            "type": "scatter3d"
           }
          ],
          "scattercarpet": [
           {
            "marker": {
             "colorbar": {
              "outlinewidth": 0,
              "ticks": ""
             }
            },
            "type": "scattercarpet"
           }
          ],
          "scattergeo": [
           {
            "marker": {
             "colorbar": {
              "outlinewidth": 0,
              "ticks": ""
             }
            },
            "type": "scattergeo"
           }
          ],
          "scattergl": [
           {
            "marker": {
             "colorbar": {
              "outlinewidth": 0,
              "ticks": ""
             }
            },
            "type": "scattergl"
           }
          ],
          "scattermapbox": [
           {
            "marker": {
             "colorbar": {
              "outlinewidth": 0,
              "ticks": ""
             }
            },
            "type": "scattermapbox"
           }
          ],
          "scatterpolar": [
           {
            "marker": {
             "colorbar": {
              "outlinewidth": 0,
              "ticks": ""
             }
            },
            "type": "scatterpolar"
           }
          ],
          "scatterpolargl": [
           {
            "marker": {
             "colorbar": {
              "outlinewidth": 0,
              "ticks": ""
             }
            },
            "type": "scatterpolargl"
           }
          ],
          "scatterternary": [
           {
            "marker": {
             "colorbar": {
              "outlinewidth": 0,
              "ticks": ""
             }
            },
            "type": "scatterternary"
           }
          ],
          "surface": [
           {
            "colorbar": {
             "outlinewidth": 0,
             "ticks": ""
            },
            "colorscale": [
             [
              0,
              "#0d0887"
             ],
             [
              0.1111111111111111,
              "#46039f"
             ],
             [
              0.2222222222222222,
              "#7201a8"
             ],
             [
              0.3333333333333333,
              "#9c179e"
             ],
             [
              0.4444444444444444,
              "#bd3786"
             ],
             [
              0.5555555555555556,
              "#d8576b"
             ],
             [
              0.6666666666666666,
              "#ed7953"
             ],
             [
              0.7777777777777778,
              "#fb9f3a"
             ],
             [
              0.8888888888888888,
              "#fdca26"
             ],
             [
              1,
              "#f0f921"
             ]
            ],
            "type": "surface"
           }
          ],
          "table": [
           {
            "cells": {
             "fill": {
              "color": "#EBF0F8"
             },
             "line": {
              "color": "white"
             }
            },
            "header": {
             "fill": {
              "color": "#C8D4E3"
             },
             "line": {
              "color": "white"
             }
            },
            "type": "table"
           }
          ]
         },
         "layout": {
          "annotationdefaults": {
           "arrowcolor": "#2a3f5f",
           "arrowhead": 0,
           "arrowwidth": 1
          },
          "autotypenumbers": "strict",
          "coloraxis": {
           "colorbar": {
            "outlinewidth": 0,
            "ticks": ""
           }
          },
          "colorscale": {
           "diverging": [
            [
             0,
             "#8e0152"
            ],
            [
             0.1,
             "#c51b7d"
            ],
            [
             0.2,
             "#de77ae"
            ],
            [
             0.3,
             "#f1b6da"
            ],
            [
             0.4,
             "#fde0ef"
            ],
            [
             0.5,
             "#f7f7f7"
            ],
            [
             0.6,
             "#e6f5d0"
            ],
            [
             0.7,
             "#b8e186"
            ],
            [
             0.8,
             "#7fbc41"
            ],
            [
             0.9,
             "#4d9221"
            ],
            [
             1,
             "#276419"
            ]
           ],
           "sequential": [
            [
             0,
             "#0d0887"
            ],
            [
             0.1111111111111111,
             "#46039f"
            ],
            [
             0.2222222222222222,
             "#7201a8"
            ],
            [
             0.3333333333333333,
             "#9c179e"
            ],
            [
             0.4444444444444444,
             "#bd3786"
            ],
            [
             0.5555555555555556,
             "#d8576b"
            ],
            [
             0.6666666666666666,
             "#ed7953"
            ],
            [
             0.7777777777777778,
             "#fb9f3a"
            ],
            [
             0.8888888888888888,
             "#fdca26"
            ],
            [
             1,
             "#f0f921"
            ]
           ],
           "sequentialminus": [
            [
             0,
             "#0d0887"
            ],
            [
             0.1111111111111111,
             "#46039f"
            ],
            [
             0.2222222222222222,
             "#7201a8"
            ],
            [
             0.3333333333333333,
             "#9c179e"
            ],
            [
             0.4444444444444444,
             "#bd3786"
            ],
            [
             0.5555555555555556,
             "#d8576b"
            ],
            [
             0.6666666666666666,
             "#ed7953"
            ],
            [
             0.7777777777777778,
             "#fb9f3a"
            ],
            [
             0.8888888888888888,
             "#fdca26"
            ],
            [
             1,
             "#f0f921"
            ]
           ]
          },
          "colorway": [
           "#636efa",
           "#EF553B",
           "#00cc96",
           "#ab63fa",
           "#FFA15A",
           "#19d3f3",
           "#FF6692",
           "#B6E880",
           "#FF97FF",
           "#FECB52"
          ],
          "font": {
           "color": "#2a3f5f"
          },
          "geo": {
           "bgcolor": "white",
           "lakecolor": "white",
           "landcolor": "#E5ECF6",
           "showlakes": true,
           "showland": true,
           "subunitcolor": "white"
          },
          "hoverlabel": {
           "align": "left"
          },
          "hovermode": "closest",
          "mapbox": {
           "style": "light"
          },
          "paper_bgcolor": "white",
          "plot_bgcolor": "#E5ECF6",
          "polar": {
           "angularaxis": {
            "gridcolor": "white",
            "linecolor": "white",
            "ticks": ""
           },
           "bgcolor": "#E5ECF6",
           "radialaxis": {
            "gridcolor": "white",
            "linecolor": "white",
            "ticks": ""
           }
          },
          "scene": {
           "xaxis": {
            "backgroundcolor": "#E5ECF6",
            "gridcolor": "white",
            "gridwidth": 2,
            "linecolor": "white",
            "showbackground": true,
            "ticks": "",
            "zerolinecolor": "white"
           },
           "yaxis": {
            "backgroundcolor": "#E5ECF6",
            "gridcolor": "white",
            "gridwidth": 2,
            "linecolor": "white",
            "showbackground": true,
            "ticks": "",
            "zerolinecolor": "white"
           },
           "zaxis": {
            "backgroundcolor": "#E5ECF6",
            "gridcolor": "white",
            "gridwidth": 2,
            "linecolor": "white",
            "showbackground": true,
            "ticks": "",
            "zerolinecolor": "white"
           }
          },
          "shapedefaults": {
           "line": {
            "color": "#2a3f5f"
           }
          },
          "ternary": {
           "aaxis": {
            "gridcolor": "white",
            "linecolor": "white",
            "ticks": ""
           },
           "baxis": {
            "gridcolor": "white",
            "linecolor": "white",
            "ticks": ""
           },
           "bgcolor": "#E5ECF6",
           "caxis": {
            "gridcolor": "white",
            "linecolor": "white",
            "ticks": ""
           }
          },
          "title": {
           "x": 0.05
          },
          "xaxis": {
           "automargin": true,
           "gridcolor": "white",
           "linecolor": "white",
           "ticks": "",
           "title": {
            "standoff": 15
           },
           "zerolinecolor": "white",
           "zerolinewidth": 2
          },
          "yaxis": {
           "automargin": true,
           "gridcolor": "white",
           "linecolor": "white",
           "ticks": "",
           "title": {
            "standoff": 15
           },
           "zerolinecolor": "white",
           "zerolinewidth": 2
          }
         }
        },
        "title": {
         "text": "Distribution of text IDs"
        },
        "xaxis": {
         "anchor": "y",
         "domain": [
          0,
          1
         ],
         "title": {
          "text": "text_ID"
         },
         "type": "category"
        },
        "yaxis": {
         "anchor": "x",
         "domain": [
          0,
          1
         ],
         "title": {
          "text": "Count"
         }
        }
       }
      }
     },
     "metadata": {},
     "output_type": "display_data"
    }
   ],
   "source": [
    "import plotly.express as px\n",
    "\n",
    "value_counts = data_useful[\"text_ID\"].value_counts().reset_index()\n",
    "value_counts.columns = ['text_ID', 'Count']\n",
    "\n",
    "fig = px.bar(value_counts, x='text_ID', y='Count', title='Distribution of text IDs')\n",
    "\n",
    "fig.update_layout(\n",
    "    xaxis_title='text_ID',\n",
    "    yaxis_title='Count',\n",
    "    xaxis=dict(type='category')\n",
    ")\n",
    "\n",
    "fig.show()"
   ]
  },
  {
   "cell_type": "markdown",
   "metadata": {},
   "source": [
    "#### Ce graphique nous permet de voir qu'il y a des doublons dans la base de données en effectuant une analyse de similarité entre les descriptions d'annonces, mais bien sur il y a des faux positives, mais cette approche nous a tout de même permis de faire un nouveau clustrage."
   ]
  },
  {
   "cell_type": "code",
   "execution_count": 91,
   "metadata": {},
   "outputs": [
    {
     "data": {
      "text/html": [
       "<div>\n",
       "<style scoped>\n",
       "    .dataframe tbody tr th:only-of-type {\n",
       "        vertical-align: middle;\n",
       "    }\n",
       "\n",
       "    .dataframe tbody tr th {\n",
       "        vertical-align: top;\n",
       "    }\n",
       "\n",
       "    .dataframe thead th {\n",
       "        text-align: right;\n",
       "    }\n",
       "</style>\n",
       "<table border=\"1\" class=\"dataframe\">\n",
       "  <thead>\n",
       "    <tr style=\"text-align: right;\">\n",
       "      <th></th>\n",
       "      <th>Class</th>\n",
       "      <th>Count</th>\n",
       "    </tr>\n",
       "  </thead>\n",
       "  <tbody>\n",
       "    <tr>\n",
       "      <th>0</th>\n",
       "      <td>111</td>\n",
       "      <td>43</td>\n",
       "    </tr>\n",
       "    <tr>\n",
       "      <th>1</th>\n",
       "      <td>190</td>\n",
       "      <td>11</td>\n",
       "    </tr>\n",
       "    <tr>\n",
       "      <th>2</th>\n",
       "      <td>40</td>\n",
       "      <td>9</td>\n",
       "    </tr>\n",
       "    <tr>\n",
       "      <th>3</th>\n",
       "      <td>231</td>\n",
       "      <td>8</td>\n",
       "    </tr>\n",
       "    <tr>\n",
       "      <th>4</th>\n",
       "      <td>121</td>\n",
       "      <td>8</td>\n",
       "    </tr>\n",
       "    <tr>\n",
       "      <th>...</th>\n",
       "      <td>...</td>\n",
       "      <td>...</td>\n",
       "    </tr>\n",
       "    <tr>\n",
       "      <th>1204</th>\n",
       "      <td>675</td>\n",
       "      <td>1</td>\n",
       "    </tr>\n",
       "    <tr>\n",
       "      <th>1205</th>\n",
       "      <td>676</td>\n",
       "      <td>1</td>\n",
       "    </tr>\n",
       "    <tr>\n",
       "      <th>1206</th>\n",
       "      <td>677</td>\n",
       "      <td>1</td>\n",
       "    </tr>\n",
       "    <tr>\n",
       "      <th>1207</th>\n",
       "      <td>678</td>\n",
       "      <td>1</td>\n",
       "    </tr>\n",
       "    <tr>\n",
       "      <th>1208</th>\n",
       "      <td>1211</td>\n",
       "      <td>1</td>\n",
       "    </tr>\n",
       "  </tbody>\n",
       "</table>\n",
       "<p>1209 rows × 2 columns</p>\n",
       "</div>"
      ],
      "text/plain": [
       "      Class  Count\n",
       "0       111     43\n",
       "1       190     11\n",
       "2        40      9\n",
       "3       231      8\n",
       "4       121      8\n",
       "...     ...    ...\n",
       "1204    675      1\n",
       "1205    676      1\n",
       "1206    677      1\n",
       "1207    678      1\n",
       "1208   1211      1\n",
       "\n",
       "[1209 rows x 2 columns]"
      ]
     },
     "execution_count": 91,
     "metadata": {},
     "output_type": "execute_result"
    }
   ],
   "source": [
    "f_df = data_useful[\"text_ID\"].value_counts().reset_index()\n",
    "f_df.columns = ['Class', 'Count']\n",
    "f_df"
   ]
  },
  {
   "cell_type": "code",
   "execution_count": 92,
   "metadata": {},
   "outputs": [
    {
     "data": {
      "application/vnd.plotly.v1+json": {
       "config": {
        "plotlyServerURL": "https://plot.ly"
       },
       "data": [
        {
         "domain": {
          "x": [
           0,
           1
          ],
          "y": [
           0,
           1
          ]
         },
         "hovertemplate": "Value=%{label}<br>Percentage=%{value}<extra></extra>",
         "labels": [
          1,
          2,
          3,
          4,
          5,
          6,
          8,
          7,
          43,
          11,
          9
         ],
         "legendgroup": "",
         "name": "",
         "showlegend": true,
         "type": "pie",
         "values": [
          69.23076923076923,
          9.842845326716294,
          7.857733664185278,
          7.030603804797353,
          2.8122415219189416,
          2.2332506203473943,
          0.49627791563275436,
          0.24813895781637718,
          0.0827129859387924,
          0.0827129859387924,
          0.0827129859387924
         ]
        }
       ],
       "layout": {
        "legend": {
         "tracegroupgap": 0
        },
        "template": {
         "data": {
          "bar": [
           {
            "error_x": {
             "color": "#2a3f5f"
            },
            "error_y": {
             "color": "#2a3f5f"
            },
            "marker": {
             "line": {
              "color": "#E5ECF6",
              "width": 0.5
             },
             "pattern": {
              "fillmode": "overlay",
              "size": 10,
              "solidity": 0.2
             }
            },
            "type": "bar"
           }
          ],
          "barpolar": [
           {
            "marker": {
             "line": {
              "color": "#E5ECF6",
              "width": 0.5
             },
             "pattern": {
              "fillmode": "overlay",
              "size": 10,
              "solidity": 0.2
             }
            },
            "type": "barpolar"
           }
          ],
          "carpet": [
           {
            "aaxis": {
             "endlinecolor": "#2a3f5f",
             "gridcolor": "white",
             "linecolor": "white",
             "minorgridcolor": "white",
             "startlinecolor": "#2a3f5f"
            },
            "baxis": {
             "endlinecolor": "#2a3f5f",
             "gridcolor": "white",
             "linecolor": "white",
             "minorgridcolor": "white",
             "startlinecolor": "#2a3f5f"
            },
            "type": "carpet"
           }
          ],
          "choropleth": [
           {
            "colorbar": {
             "outlinewidth": 0,
             "ticks": ""
            },
            "type": "choropleth"
           }
          ],
          "contour": [
           {
            "colorbar": {
             "outlinewidth": 0,
             "ticks": ""
            },
            "colorscale": [
             [
              0,
              "#0d0887"
             ],
             [
              0.1111111111111111,
              "#46039f"
             ],
             [
              0.2222222222222222,
              "#7201a8"
             ],
             [
              0.3333333333333333,
              "#9c179e"
             ],
             [
              0.4444444444444444,
              "#bd3786"
             ],
             [
              0.5555555555555556,
              "#d8576b"
             ],
             [
              0.6666666666666666,
              "#ed7953"
             ],
             [
              0.7777777777777778,
              "#fb9f3a"
             ],
             [
              0.8888888888888888,
              "#fdca26"
             ],
             [
              1,
              "#f0f921"
             ]
            ],
            "type": "contour"
           }
          ],
          "contourcarpet": [
           {
            "colorbar": {
             "outlinewidth": 0,
             "ticks": ""
            },
            "type": "contourcarpet"
           }
          ],
          "heatmap": [
           {
            "colorbar": {
             "outlinewidth": 0,
             "ticks": ""
            },
            "colorscale": [
             [
              0,
              "#0d0887"
             ],
             [
              0.1111111111111111,
              "#46039f"
             ],
             [
              0.2222222222222222,
              "#7201a8"
             ],
             [
              0.3333333333333333,
              "#9c179e"
             ],
             [
              0.4444444444444444,
              "#bd3786"
             ],
             [
              0.5555555555555556,
              "#d8576b"
             ],
             [
              0.6666666666666666,
              "#ed7953"
             ],
             [
              0.7777777777777778,
              "#fb9f3a"
             ],
             [
              0.8888888888888888,
              "#fdca26"
             ],
             [
              1,
              "#f0f921"
             ]
            ],
            "type": "heatmap"
           }
          ],
          "heatmapgl": [
           {
            "colorbar": {
             "outlinewidth": 0,
             "ticks": ""
            },
            "colorscale": [
             [
              0,
              "#0d0887"
             ],
             [
              0.1111111111111111,
              "#46039f"
             ],
             [
              0.2222222222222222,
              "#7201a8"
             ],
             [
              0.3333333333333333,
              "#9c179e"
             ],
             [
              0.4444444444444444,
              "#bd3786"
             ],
             [
              0.5555555555555556,
              "#d8576b"
             ],
             [
              0.6666666666666666,
              "#ed7953"
             ],
             [
              0.7777777777777778,
              "#fb9f3a"
             ],
             [
              0.8888888888888888,
              "#fdca26"
             ],
             [
              1,
              "#f0f921"
             ]
            ],
            "type": "heatmapgl"
           }
          ],
          "histogram": [
           {
            "marker": {
             "pattern": {
              "fillmode": "overlay",
              "size": 10,
              "solidity": 0.2
             }
            },
            "type": "histogram"
           }
          ],
          "histogram2d": [
           {
            "colorbar": {
             "outlinewidth": 0,
             "ticks": ""
            },
            "colorscale": [
             [
              0,
              "#0d0887"
             ],
             [
              0.1111111111111111,
              "#46039f"
             ],
             [
              0.2222222222222222,
              "#7201a8"
             ],
             [
              0.3333333333333333,
              "#9c179e"
             ],
             [
              0.4444444444444444,
              "#bd3786"
             ],
             [
              0.5555555555555556,
              "#d8576b"
             ],
             [
              0.6666666666666666,
              "#ed7953"
             ],
             [
              0.7777777777777778,
              "#fb9f3a"
             ],
             [
              0.8888888888888888,
              "#fdca26"
             ],
             [
              1,
              "#f0f921"
             ]
            ],
            "type": "histogram2d"
           }
          ],
          "histogram2dcontour": [
           {
            "colorbar": {
             "outlinewidth": 0,
             "ticks": ""
            },
            "colorscale": [
             [
              0,
              "#0d0887"
             ],
             [
              0.1111111111111111,
              "#46039f"
             ],
             [
              0.2222222222222222,
              "#7201a8"
             ],
             [
              0.3333333333333333,
              "#9c179e"
             ],
             [
              0.4444444444444444,
              "#bd3786"
             ],
             [
              0.5555555555555556,
              "#d8576b"
             ],
             [
              0.6666666666666666,
              "#ed7953"
             ],
             [
              0.7777777777777778,
              "#fb9f3a"
             ],
             [
              0.8888888888888888,
              "#fdca26"
             ],
             [
              1,
              "#f0f921"
             ]
            ],
            "type": "histogram2dcontour"
           }
          ],
          "mesh3d": [
           {
            "colorbar": {
             "outlinewidth": 0,
             "ticks": ""
            },
            "type": "mesh3d"
           }
          ],
          "parcoords": [
           {
            "line": {
             "colorbar": {
              "outlinewidth": 0,
              "ticks": ""
             }
            },
            "type": "parcoords"
           }
          ],
          "pie": [
           {
            "automargin": true,
            "type": "pie"
           }
          ],
          "scatter": [
           {
            "fillpattern": {
             "fillmode": "overlay",
             "size": 10,
             "solidity": 0.2
            },
            "type": "scatter"
           }
          ],
          "scatter3d": [
           {
            "line": {
             "colorbar": {
              "outlinewidth": 0,
              "ticks": ""
             }
            },
            "marker": {
             "colorbar": {
              "outlinewidth": 0,
              "ticks": ""
             }
            },
            "type": "scatter3d"
           }
          ],
          "scattercarpet": [
           {
            "marker": {
             "colorbar": {
              "outlinewidth": 0,
              "ticks": ""
             }
            },
            "type": "scattercarpet"
           }
          ],
          "scattergeo": [
           {
            "marker": {
             "colorbar": {
              "outlinewidth": 0,
              "ticks": ""
             }
            },
            "type": "scattergeo"
           }
          ],
          "scattergl": [
           {
            "marker": {
             "colorbar": {
              "outlinewidth": 0,
              "ticks": ""
             }
            },
            "type": "scattergl"
           }
          ],
          "scattermapbox": [
           {
            "marker": {
             "colorbar": {
              "outlinewidth": 0,
              "ticks": ""
             }
            },
            "type": "scattermapbox"
           }
          ],
          "scatterpolar": [
           {
            "marker": {
             "colorbar": {
              "outlinewidth": 0,
              "ticks": ""
             }
            },
            "type": "scatterpolar"
           }
          ],
          "scatterpolargl": [
           {
            "marker": {
             "colorbar": {
              "outlinewidth": 0,
              "ticks": ""
             }
            },
            "type": "scatterpolargl"
           }
          ],
          "scatterternary": [
           {
            "marker": {
             "colorbar": {
              "outlinewidth": 0,
              "ticks": ""
             }
            },
            "type": "scatterternary"
           }
          ],
          "surface": [
           {
            "colorbar": {
             "outlinewidth": 0,
             "ticks": ""
            },
            "colorscale": [
             [
              0,
              "#0d0887"
             ],
             [
              0.1111111111111111,
              "#46039f"
             ],
             [
              0.2222222222222222,
              "#7201a8"
             ],
             [
              0.3333333333333333,
              "#9c179e"
             ],
             [
              0.4444444444444444,
              "#bd3786"
             ],
             [
              0.5555555555555556,
              "#d8576b"
             ],
             [
              0.6666666666666666,
              "#ed7953"
             ],
             [
              0.7777777777777778,
              "#fb9f3a"
             ],
             [
              0.8888888888888888,
              "#fdca26"
             ],
             [
              1,
              "#f0f921"
             ]
            ],
            "type": "surface"
           }
          ],
          "table": [
           {
            "cells": {
             "fill": {
              "color": "#EBF0F8"
             },
             "line": {
              "color": "white"
             }
            },
            "header": {
             "fill": {
              "color": "#C8D4E3"
             },
             "line": {
              "color": "white"
             }
            },
            "type": "table"
           }
          ]
         },
         "layout": {
          "annotationdefaults": {
           "arrowcolor": "#2a3f5f",
           "arrowhead": 0,
           "arrowwidth": 1
          },
          "autotypenumbers": "strict",
          "coloraxis": {
           "colorbar": {
            "outlinewidth": 0,
            "ticks": ""
           }
          },
          "colorscale": {
           "diverging": [
            [
             0,
             "#8e0152"
            ],
            [
             0.1,
             "#c51b7d"
            ],
            [
             0.2,
             "#de77ae"
            ],
            [
             0.3,
             "#f1b6da"
            ],
            [
             0.4,
             "#fde0ef"
            ],
            [
             0.5,
             "#f7f7f7"
            ],
            [
             0.6,
             "#e6f5d0"
            ],
            [
             0.7,
             "#b8e186"
            ],
            [
             0.8,
             "#7fbc41"
            ],
            [
             0.9,
             "#4d9221"
            ],
            [
             1,
             "#276419"
            ]
           ],
           "sequential": [
            [
             0,
             "#0d0887"
            ],
            [
             0.1111111111111111,
             "#46039f"
            ],
            [
             0.2222222222222222,
             "#7201a8"
            ],
            [
             0.3333333333333333,
             "#9c179e"
            ],
            [
             0.4444444444444444,
             "#bd3786"
            ],
            [
             0.5555555555555556,
             "#d8576b"
            ],
            [
             0.6666666666666666,
             "#ed7953"
            ],
            [
             0.7777777777777778,
             "#fb9f3a"
            ],
            [
             0.8888888888888888,
             "#fdca26"
            ],
            [
             1,
             "#f0f921"
            ]
           ],
           "sequentialminus": [
            [
             0,
             "#0d0887"
            ],
            [
             0.1111111111111111,
             "#46039f"
            ],
            [
             0.2222222222222222,
             "#7201a8"
            ],
            [
             0.3333333333333333,
             "#9c179e"
            ],
            [
             0.4444444444444444,
             "#bd3786"
            ],
            [
             0.5555555555555556,
             "#d8576b"
            ],
            [
             0.6666666666666666,
             "#ed7953"
            ],
            [
             0.7777777777777778,
             "#fb9f3a"
            ],
            [
             0.8888888888888888,
             "#fdca26"
            ],
            [
             1,
             "#f0f921"
            ]
           ]
          },
          "colorway": [
           "#636efa",
           "#EF553B",
           "#00cc96",
           "#ab63fa",
           "#FFA15A",
           "#19d3f3",
           "#FF6692",
           "#B6E880",
           "#FF97FF",
           "#FECB52"
          ],
          "font": {
           "color": "#2a3f5f"
          },
          "geo": {
           "bgcolor": "white",
           "lakecolor": "white",
           "landcolor": "#E5ECF6",
           "showlakes": true,
           "showland": true,
           "subunitcolor": "white"
          },
          "hoverlabel": {
           "align": "left"
          },
          "hovermode": "closest",
          "mapbox": {
           "style": "light"
          },
          "paper_bgcolor": "white",
          "plot_bgcolor": "#E5ECF6",
          "polar": {
           "angularaxis": {
            "gridcolor": "white",
            "linecolor": "white",
            "ticks": ""
           },
           "bgcolor": "#E5ECF6",
           "radialaxis": {
            "gridcolor": "white",
            "linecolor": "white",
            "ticks": ""
           }
          },
          "scene": {
           "xaxis": {
            "backgroundcolor": "#E5ECF6",
            "gridcolor": "white",
            "gridwidth": 2,
            "linecolor": "white",
            "showbackground": true,
            "ticks": "",
            "zerolinecolor": "white"
           },
           "yaxis": {
            "backgroundcolor": "#E5ECF6",
            "gridcolor": "white",
            "gridwidth": 2,
            "linecolor": "white",
            "showbackground": true,
            "ticks": "",
            "zerolinecolor": "white"
           },
           "zaxis": {
            "backgroundcolor": "#E5ECF6",
            "gridcolor": "white",
            "gridwidth": 2,
            "linecolor": "white",
            "showbackground": true,
            "ticks": "",
            "zerolinecolor": "white"
           }
          },
          "shapedefaults": {
           "line": {
            "color": "#2a3f5f"
           }
          },
          "ternary": {
           "aaxis": {
            "gridcolor": "white",
            "linecolor": "white",
            "ticks": ""
           },
           "baxis": {
            "gridcolor": "white",
            "linecolor": "white",
            "ticks": ""
           },
           "bgcolor": "#E5ECF6",
           "caxis": {
            "gridcolor": "white",
            "linecolor": "white",
            "ticks": ""
           }
          },
          "title": {
           "x": 0.05
          },
          "xaxis": {
           "automargin": true,
           "gridcolor": "white",
           "linecolor": "white",
           "ticks": "",
           "title": {
            "standoff": 15
           },
           "zerolinecolor": "white",
           "zerolinewidth": 2
          },
          "yaxis": {
           "automargin": true,
           "gridcolor": "white",
           "linecolor": "white",
           "ticks": "",
           "title": {
            "standoff": 15
           },
           "zerolinecolor": "white",
           "zerolinewidth": 2
          }
         }
        },
        "title": {
         "text": "Pie Chart of Value Percentages"
        }
       }
      }
     },
     "metadata": {},
     "output_type": "display_data"
    }
   ],
   "source": [
    "import plotly.express as px\n",
    "\n",
    "value_counts = pd.Series(f_df[\"Count\"].values).value_counts().reset_index()\n",
    "value_counts.columns = ['Value', 'Count']\n",
    "value_counts['Percentage'] = (value_counts['Count'] / value_counts['Count'].sum()) * 100\n",
    "\n",
    "fig = px.pie(value_counts, names='Value', values='Percentage', title='Pie Chart of Value Percentages')\n",
    "fig.show()"
   ]
  },
  {
   "cell_type": "markdown",
   "metadata": {},
   "source": [
    "#### On observe le pourcentage des classes en fonction des doublons."
   ]
  },
  {
   "cell_type": "markdown",
   "metadata": {},
   "source": [
    "#### Example pour le cas de l'indice 20"
   ]
  },
  {
   "cell_type": "code",
   "execution_count": 93,
   "metadata": {},
   "outputs": [
    {
     "data": {
      "text/html": [
       "<div>\n",
       "<style scoped>\n",
       "    .dataframe tbody tr th:only-of-type {\n",
       "        vertical-align: middle;\n",
       "    }\n",
       "\n",
       "    .dataframe tbody tr th {\n",
       "        vertical-align: top;\n",
       "    }\n",
       "\n",
       "    .dataframe thead th {\n",
       "        text-align: right;\n",
       "    }\n",
       "</style>\n",
       "<table border=\"1\" class=\"dataframe\">\n",
       "  <thead>\n",
       "    <tr style=\"text-align: right;\">\n",
       "      <th></th>\n",
       "      <th>PROPERTY_TYPE</th>\n",
       "      <th>NEW_BUILD</th>\n",
       "      <th>DESCRIPTION</th>\n",
       "      <th>SURFACE</th>\n",
       "      <th>ROOM_COUNT</th>\n",
       "      <th>PARKING</th>\n",
       "      <th>MARKETING_TYPE</th>\n",
       "      <th>PRICE</th>\n",
       "      <th>EXCLUSIVE_MANDATE</th>\n",
       "      <th>DEALER_TYPE</th>\n",
       "      <th>PUBLICATION_START_DATE</th>\n",
       "      <th>LAST_CRAWL_DATE</th>\n",
       "      <th>Days_Between</th>\n",
       "      <th>kmeans_cluster</th>\n",
       "      <th>text_ID</th>\n",
       "    </tr>\n",
       "  </thead>\n",
       "  <tbody>\n",
       "    <tr>\n",
       "      <th>37</th>\n",
       "      <td>APARTMENT</td>\n",
       "      <td>True</td>\n",
       "      <td>bnp paribas immobilier  120 danton levalloispe...</td>\n",
       "      <td>47.0</td>\n",
       "      <td>2.0</td>\n",
       "      <td>False</td>\n",
       "      <td>SALE</td>\n",
       "      <td>475000.0</td>\n",
       "      <td>False</td>\n",
       "      <td>AGENCY</td>\n",
       "      <td>2019-07-30 08:25:27.695</td>\n",
       "      <td>2019-08-12 18:40:10.865</td>\n",
       "      <td>13</td>\n",
       "      <td>0.0</td>\n",
       "      <td>20</td>\n",
       "    </tr>\n",
       "    <tr>\n",
       "      <th>1940</th>\n",
       "      <td>APARTMENT</td>\n",
       "      <td>True</td>\n",
       "      <td>bnp paribas immobilier  120 danton levalloispe...</td>\n",
       "      <td>58.0</td>\n",
       "      <td>3.0</td>\n",
       "      <td>False</td>\n",
       "      <td>SALE</td>\n",
       "      <td>669000.0</td>\n",
       "      <td>False</td>\n",
       "      <td>AGENCY</td>\n",
       "      <td>2019-07-31 12:10:30.313</td>\n",
       "      <td>2019-08-12 18:40:16.038</td>\n",
       "      <td>12</td>\n",
       "      <td>0.0</td>\n",
       "      <td>20</td>\n",
       "    </tr>\n",
       "    <tr>\n",
       "      <th>1944</th>\n",
       "      <td>APARTMENT</td>\n",
       "      <td>True</td>\n",
       "      <td>bnp paribas immobilier  120 danton levalloispe...</td>\n",
       "      <td>110.0</td>\n",
       "      <td>5.0</td>\n",
       "      <td>False</td>\n",
       "      <td>SALE</td>\n",
       "      <td>1293000.0</td>\n",
       "      <td>False</td>\n",
       "      <td>AGENCY</td>\n",
       "      <td>2019-08-12 18:40:34.483</td>\n",
       "      <td>2019-08-12 18:40:34.483</td>\n",
       "      <td>0</td>\n",
       "      <td>0.0</td>\n",
       "      <td>20</td>\n",
       "    </tr>\n",
       "    <tr>\n",
       "      <th>1945</th>\n",
       "      <td>APARTMENT</td>\n",
       "      <td>True</td>\n",
       "      <td>bnp paribas immobilier  120 danton levalloispe...</td>\n",
       "      <td>85.0</td>\n",
       "      <td>4.0</td>\n",
       "      <td>False</td>\n",
       "      <td>SALE</td>\n",
       "      <td>955000.0</td>\n",
       "      <td>False</td>\n",
       "      <td>AGENCY</td>\n",
       "      <td>2019-08-01 15:48:09.478</td>\n",
       "      <td>2019-08-12 18:39:47.910</td>\n",
       "      <td>11</td>\n",
       "      <td>0.0</td>\n",
       "      <td>20</td>\n",
       "    </tr>\n",
       "  </tbody>\n",
       "</table>\n",
       "</div>"
      ],
      "text/plain": [
       "     PROPERTY_TYPE NEW_BUILD  \\\n",
       "37       APARTMENT      True   \n",
       "1940     APARTMENT      True   \n",
       "1944     APARTMENT      True   \n",
       "1945     APARTMENT      True   \n",
       "\n",
       "                                            DESCRIPTION  SURFACE  ROOM_COUNT  \\\n",
       "37    bnp paribas immobilier  120 danton levalloispe...     47.0         2.0   \n",
       "1940  bnp paribas immobilier  120 danton levalloispe...     58.0         3.0   \n",
       "1944  bnp paribas immobilier  120 danton levalloispe...    110.0         5.0   \n",
       "1945  bnp paribas immobilier  120 danton levalloispe...     85.0         4.0   \n",
       "\n",
       "      PARKING MARKETING_TYPE      PRICE  EXCLUSIVE_MANDATE DEALER_TYPE  \\\n",
       "37      False           SALE   475000.0              False      AGENCY   \n",
       "1940    False           SALE   669000.0              False      AGENCY   \n",
       "1944    False           SALE  1293000.0              False      AGENCY   \n",
       "1945    False           SALE   955000.0              False      AGENCY   \n",
       "\n",
       "       PUBLICATION_START_DATE          LAST_CRAWL_DATE  Days_Between  \\\n",
       "37    2019-07-30 08:25:27.695  2019-08-12 18:40:10.865            13   \n",
       "1940  2019-07-31 12:10:30.313  2019-08-12 18:40:16.038            12   \n",
       "1944  2019-08-12 18:40:34.483  2019-08-12 18:40:34.483             0   \n",
       "1945  2019-08-01 15:48:09.478  2019-08-12 18:39:47.910            11   \n",
       "\n",
       "      kmeans_cluster  text_ID  \n",
       "37               0.0       20  \n",
       "1940             0.0       20  \n",
       "1944             0.0       20  \n",
       "1945             0.0       20  "
      ]
     },
     "execution_count": 93,
     "metadata": {},
     "output_type": "execute_result"
    }
   ],
   "source": [
    "data_useful[data_useful[\"text_ID\"] == 20]"
   ]
  },
  {
   "cell_type": "markdown",
   "metadata": {},
   "source": [
    "--------------------------------------------------------------------------------------------------------------------------------"
   ]
  },
  {
   "cell_type": "markdown",
   "metadata": {},
   "source": [
    "### Similarity Matrix "
   ]
  },
  {
   "cell_type": "code",
   "execution_count": 94,
   "metadata": {},
   "outputs": [
    {
     "data": {
      "text/html": [
       "<div>\n",
       "<style scoped>\n",
       "    .dataframe tbody tr th:only-of-type {\n",
       "        vertical-align: middle;\n",
       "    }\n",
       "\n",
       "    .dataframe tbody tr th {\n",
       "        vertical-align: top;\n",
       "    }\n",
       "\n",
       "    .dataframe thead th {\n",
       "        text-align: right;\n",
       "    }\n",
       "</style>\n",
       "<table border=\"1\" class=\"dataframe\">\n",
       "  <thead>\n",
       "    <tr style=\"text-align: right;\">\n",
       "      <th></th>\n",
       "      <th>PROPERTY_TYPE</th>\n",
       "      <th>NEW_BUILD</th>\n",
       "      <th>DESCRIPTION</th>\n",
       "      <th>SURFACE</th>\n",
       "      <th>ROOM_COUNT</th>\n",
       "      <th>PARKING</th>\n",
       "      <th>MARKETING_TYPE</th>\n",
       "      <th>PRICE</th>\n",
       "      <th>EXCLUSIVE_MANDATE</th>\n",
       "      <th>DEALER_TYPE</th>\n",
       "      <th>PUBLICATION_START_DATE</th>\n",
       "      <th>LAST_CRAWL_DATE</th>\n",
       "      <th>Days_Between</th>\n",
       "      <th>kmeans_cluster</th>\n",
       "      <th>text_ID</th>\n",
       "    </tr>\n",
       "  </thead>\n",
       "  <tbody>\n",
       "    <tr>\n",
       "      <th>0</th>\n",
       "      <td>APARTMENT</td>\n",
       "      <td>False</td>\n",
       "      <td>rez chaussée dun bel immeuble récent  appartem...</td>\n",
       "      <td>72.0</td>\n",
       "      <td>3.0</td>\n",
       "      <td>True</td>\n",
       "      <td>RENT</td>\n",
       "      <td>1979.0</td>\n",
       "      <td>False</td>\n",
       "      <td>AGENCY</td>\n",
       "      <td>2017-03-22 04:07:56.095</td>\n",
       "      <td>2017-04-21 18:52:35.733</td>\n",
       "      <td>30</td>\n",
       "      <td>1.0</td>\n",
       "      <td>376</td>\n",
       "    </tr>\n",
       "    <tr>\n",
       "      <th>1</th>\n",
       "      <td>APARTMENT</td>\n",
       "      <td>False</td>\n",
       "      <td>propose appartement rue collange immeuble stan...</td>\n",
       "      <td>48.0</td>\n",
       "      <td>2.0</td>\n",
       "      <td>False</td>\n",
       "      <td>SALE</td>\n",
       "      <td>429000.0</td>\n",
       "      <td>False</td>\n",
       "      <td>MANDATARY</td>\n",
       "      <td>2018-09-18 11:04:44.461</td>\n",
       "      <td>2019-06-06 10:08:10.890</td>\n",
       "      <td>260</td>\n",
       "      <td>2.0</td>\n",
       "      <td>377</td>\n",
       "    </tr>\n",
       "    <tr>\n",
       "      <th>2</th>\n",
       "      <td>APARTMENT</td>\n",
       "      <td>False</td>\n",
       "      <td>cadre arboré  calme fleuri  penthouse 267 m² t...</td>\n",
       "      <td>267.0</td>\n",
       "      <td>6.0</td>\n",
       "      <td>False</td>\n",
       "      <td>SALE</td>\n",
       "      <td>4970000.0</td>\n",
       "      <td>False</td>\n",
       "      <td>AGENCY</td>\n",
       "      <td>2019-02-19 16:49:03.547</td>\n",
       "      <td>2019-06-13 08:22:14.314</td>\n",
       "      <td>113</td>\n",
       "      <td>4.0</td>\n",
       "      <td>1</td>\n",
       "    </tr>\n",
       "  </tbody>\n",
       "</table>\n",
       "</div>"
      ],
      "text/plain": [
       "  PROPERTY_TYPE NEW_BUILD                                        DESCRIPTION  \\\n",
       "0     APARTMENT     False  rez chaussée dun bel immeuble récent  appartem...   \n",
       "1     APARTMENT     False  propose appartement rue collange immeuble stan...   \n",
       "2     APARTMENT     False  cadre arboré  calme fleuri  penthouse 267 m² t...   \n",
       "\n",
       "   SURFACE  ROOM_COUNT  PARKING MARKETING_TYPE      PRICE  EXCLUSIVE_MANDATE  \\\n",
       "0     72.0         3.0     True           RENT     1979.0              False   \n",
       "1     48.0         2.0    False           SALE   429000.0              False   \n",
       "2    267.0         6.0    False           SALE  4970000.0              False   \n",
       "\n",
       "  DEALER_TYPE   PUBLICATION_START_DATE          LAST_CRAWL_DATE  Days_Between  \\\n",
       "0      AGENCY  2017-03-22 04:07:56.095  2017-04-21 18:52:35.733            30   \n",
       "1   MANDATARY  2018-09-18 11:04:44.461  2019-06-06 10:08:10.890           260   \n",
       "2      AGENCY  2019-02-19 16:49:03.547  2019-06-13 08:22:14.314           113   \n",
       "\n",
       "   kmeans_cluster  text_ID  \n",
       "0             1.0      376  \n",
       "1             2.0      377  \n",
       "2             4.0        1  "
      ]
     },
     "execution_count": 94,
     "metadata": {},
     "output_type": "execute_result"
    }
   ],
   "source": [
    "data_useful.head(3)"
   ]
  },
  {
   "cell_type": "markdown",
   "metadata": {},
   "source": [
    "#### Nous avons maintenant deux autres variables **kmeans_cluster** et **text_ID** provenant des deux premiers clusters, qui seront également utilisées pour la dernière phase de l'approche."
   ]
  },
  {
   "cell_type": "code",
   "execution_count": 95,
   "metadata": {},
   "outputs": [],
   "source": [
    "data_numerical = data_useful.select_dtypes(include=np.number) # nos variables numériques\n",
    "data_categorical = data_useful.select_dtypes(exclude=np.number) # nos variables catégorielles"
   ]
  },
  {
   "cell_type": "code",
   "execution_count": 96,
   "metadata": {},
   "outputs": [],
   "source": [
    "# init transformers\n",
    "categorical_transformer = make_column_transformer(\n",
    "    (\n",
    "        OneHotEncoder(sparse=False),\n",
    "        data_categorical.columns\n",
    "    ),\n",
    "    remainder=\"drop\"\n",
    ")\n",
    "\n",
    "numerical_transformer = make_column_transformer(\n",
    "    (\n",
    "        SimpleImputer(strategy=\"constant\", fill_value=1e-2),\n",
    "        data_numerical.columns\n",
    "    ),\n",
    "    remainder=\"drop\"\n",
    ")"
   ]
  },
  {
   "cell_type": "code",
   "execution_count": 97,
   "metadata": {},
   "outputs": [
    {
     "name": "stderr",
     "output_type": "stream",
     "text": [
      "c:\\Users\\Amine\\anaconda3\\lib\\site-packages\\sklearn\\preprocessing\\_encoders.py:828: FutureWarning:\n",
      "\n",
      "`sparse` was renamed to `sparse_output` in version 1.2 and will be removed in 1.4. `sparse_output` is ignored unless you leave `sparse` to its default value.\n",
      "\n"
     ]
    }
   ],
   "source": [
    "# transformer les données\n",
    "data_categories_transformed = categorical_transformer.fit_transform(data_useful)\n",
    "data_numerical_transformed = numerical_transformer.fit_transform(data_useful)\n",
    "\n",
    "# trouver les poids si il y a des nan, cela pour garder le pipeline fonctionnel \n",
    "nna_numerical = data_numerical.notna().sum(axis=0)\n",
    "weights_numericals = nna_numerical / nna_numerical.sum()\n",
    "\n",
    "nna_categorical = data_categorical.notna().sum(axis=0)\n",
    "weights_categorical = nna_categorical / nna_categorical.sum()\n",
    "weights_categorical = np.repeat(\n",
    "    weights_categorical.values,\n",
    "    data_categorical.nunique(dropna=False).values\n",
    ")\n",
    "\n",
    "# calculer pairwise distance\n",
    "dist_categories = pairwise_distances(\n",
    "    X=data_categories_transformed,\n",
    "    metric=\"minkowski\",\n",
    "    p=1,\n",
    "    w=weights_categorical / 2\n",
    ")\n",
    "\n",
    "dist_numericals = pairwise_distances(\n",
    "    X=data_numerical_transformed,\n",
    "    metric=\"canberra\",\n",
    "    w=weights_numericals\n",
    ")\n",
    "\n",
    "dist =  dist_categories + dist_numericals\n",
    "dist /= 2\n",
    "\n",
    "similarity = 1 - dist"
   ]
  },
  {
   "cell_type": "code",
   "execution_count": 98,
   "metadata": {},
   "outputs": [],
   "source": [
    "# déduire  labels\n",
    "threshold = 0.8 # Ce seuil peut être ajusté pour obtenir de meilleures performances\n",
    "\n",
    "similarity_binary = np.where(similarity >= threshold, 1, 0)\n",
    "labels = np.argmax(similarity_binary, axis=1)\n",
    "\n",
    "data[\"LABEL\"] = labels"
   ]
  },
  {
   "cell_type": "code",
   "execution_count": 99,
   "metadata": {},
   "outputs": [
    {
     "data": {
      "text/plain": [
       "1124"
      ]
     },
     "execution_count": 99,
     "metadata": {},
     "output_type": "execute_result"
    }
   ],
   "source": [
    "len(data[\"LABEL\"].unique())"
   ]
  },
  {
   "cell_type": "code",
   "execution_count": 100,
   "metadata": {},
   "outputs": [
    {
     "data": {
      "text/plain": [
       "222     38\n",
       "323     22\n",
       "149     16\n",
       "409     14\n",
       "44      14\n",
       "        ..\n",
       "822      1\n",
       "823      1\n",
       "824      1\n",
       "829      1\n",
       "2162     1\n",
       "Name: LABEL, Length: 1124, dtype: int64"
      ]
     },
     "execution_count": 100,
     "metadata": {},
     "output_type": "execute_result"
    }
   ],
   "source": [
    "data[\"LABEL\"].value_counts()"
   ]
  },
  {
   "cell_type": "markdown",
   "metadata": {},
   "source": [
    "# Example"
   ]
  },
  {
   "cell_type": "markdown",
   "metadata": {},
   "source": [
    "## Nous allons prendre un exemple pour voir à quoi ressemble notre résultat."
   ]
  },
  {
   "cell_type": "code",
   "execution_count": 101,
   "metadata": {},
   "outputs": [
    {
     "name": "stdout",
     "output_type": "stream",
     "text": [
      "Une adresse de choix pour devenir propriétaire. La station de métro, le lycée et les commerces sont accessibles à pied dans un rayon de 500 m*. Vous apprécierez la qualité résidentielle de la commune et choisirez parmi une typologie variée d'appartements du studio au 5 pièces duplex. Les espaces intérieurs sont pour la plupart prolongés d'agréables extérieurs, balcons, terrasses ou jardins privatifs. Un coeur d'îlot paysagrer et des espaces communs végétalisés avec cheminements piétons desservent les différents halls d'entrée sécurisés. *Source: Google Maps.\n",
      "***********\n",
      "Une adresse de choix pour devenir propriétaire. La station de métro, le lycée et les commerces sont accessibles à pied dans un rayon de 500 m*. Vous apprécierez la qualité résidentielle de la commune et choisirez parmi une typologie variée d'appartements du studio au 5 pièces duplex. Les espaces intérieurs sont pour la plupart prolongés d'agréables extérieurs, balcons, terrasses ou jardins privatifs. Un coeur d'îlot paysagrer et des espaces communs végétalisés avec cheminements piétons desservent les différents halls d'entrée sécurisés. *Source: Google Maps.\n",
      "***********\n",
      "Une adresse de choix pour devenir propriétaire. La station de métro, le lycée et les commerces sont accessibles à pied dans un rayon de 500 m*. Vous apprécierez la qualité résidentielle de la commune et choisirez parmi une typologie variée d'appartements du studio au 5 pièces duplex. Les espaces intérieurs sont pour la plupart prolongés d'agréables extérieurs, balcons, terrasses ou jardins privatifs. Un coeur d'îlot paysagrer et des espaces communs végétalisés avec cheminements piétons desservent les différents halls d'entrée sécurisés. *Source: Google Maps.\n",
      "***********\n",
      "Une adresse de choix pour devenir propriétaire. La station de métro, le lycée et les commerces sont accessibles à pied dans un rayon de 500 m*. Vous apprécierez la qualité résidentielle de la commune et choisirez parmi une typologie variée d'appartements du studio au 5 pièces duplex. Les espaces intérieurs sont pour la plupart prolongés d'agréables extérieurs, balcons, terrasses ou jardins privatifs. Un coeur d'îlot paysagrer et des espaces communs végétalisés avec cheminements piétons desservent les différents halls d'entrée sécurisés. *Source: Google Maps.\n",
      "***********\n",
      "Une adresse de choix pour devenir propriétaire. La station de métro, le lycée et les commerces sont accessibles à pied dans un rayon de 500 m*. Vous apprécierez la qualité résidentielle de la commune et choisirez parmi une typologie variée d'appartements du studio au 5 pièces duplex. Les espaces intérieurs sont pour la plupart prolongés d'agréables extérieurs, balcons, terrasses ou jardins privatifs. Un coeur d'îlot paysagrer et des espaces communs végétalisés avec cheminements piétons desservent les différents halls d'entrée sécurisés. *Source: Google Maps.\n",
      "***********\n",
      "Une adresse de choix pour devenir propriétaire. La station de métro, le lycée et les commerces sont accessibles à pied dans un rayon de 500 m*. Vous apprécierez la qualité résidentielle de la commune et choisirez parmi une typologie variée d'appartements du studio au 5 pièces duplex. Les espaces intérieurs sont pour la plupart prolongés d'agréables extérieurs, balcons, terrasses ou jardins privatifs. Un coeur d'îlot paysagrer et des espaces communs végétalisés avec cheminements piétons desservent les différents halls d'entrée sécurisés. *Source: Google Maps.\n",
      "***********\n",
      "Une adresse de choix pour devenir propriétaire. La station de métro, le lycée et les commerces sont accessibles à pied dans un rayon de 500 m*. Vous apprécierez la qualité résidentielle de la commune et choisirez parmi une typologie variée d'appartements du studio au 5 pièces duplex. Les espaces intérieurs sont pour la plupart prolongés d'agréables extérieurs, balcons, terrasses ou jardins privatifs. Un coeur d'îlot paysagrer et des espaces communs végétalisés avec cheminements piétons desservent les différents halls d'entrée sécurisés. *Source: Google Maps.\n",
      "***********\n",
      "Une adresse de choix pour devenir propriétaire. La station de métro, le lycée et les commerces sont accessibles à pied dans un rayon de 500 m*. Vous apprécierez la qualité résidentielle de la commune et choisirez parmi une typologie variée d'appartements du studio au 5 pièces duplex. Les espaces intérieurs sont pour la plupart prolongés d'agréables extérieurs, balcons, terrasses ou jardins privatifs. Un coeur d'îlot paysagrer et des espaces communs végétalisés avec cheminements piétons desservent les différents halls d'entrée sécurisés. *Source: Google Maps.\n",
      "***********\n",
      "Une adresse de choix pour devenir propriétaire. La station de métro, le lycée et les commerces sont accessibles à pied dans un rayon de 500 m*. Vous apprécierez la qualité résidentielle de la commune et choisirez parmi une typologie variée d'appartements du studio au 5 pièces duplex. Les espaces intérieurs sont pour la plupart prolongés d'agréables extérieurs, balcons, terrasses ou jardins privatifs. Un coeur d'îlot paysagrer et des espaces communs végétalisés avec cheminements piétons desservent les différents halls d'entrée sécurisés. *Source: Google Maps.\n",
      "***********\n",
      "Une adresse de choix pour devenir propriétaire. La station de métro, le lycée et les commerces sont accessibles à pied dans un rayon de 500 m*. Vous apprécierez la qualité résidentielle de la commune et choisirez parmi une typologie variée d'appartements du studio au 5 pièces duplex. Les espaces intérieurs sont pour la plupart prolongés d'agréables extérieurs, balcons, terrasses ou jardins privatifs. Un coeur d'îlot paysagrer et des espaces communs végétalisés avec cheminements piétons desservent les différents halls d'entrée sécurisés. *Source: Google Maps.\n",
      "***********\n",
      "Une adresse de choix pour devenir propriétaire. La station de métro, le lycée et les commerces sont accessibles à pied dans un rayon de 500 m*. Vous apprécierez la qualité résidentielle de la commune et choisirez parmi une typologie variée d'appartements du studio au 5 pièces duplex. Les espaces intérieurs sont pour la plupart prolongés d'agréables extérieurs, balcons, terrasses ou jardins privatifs. Un coeur d'îlot paysagrer et des espaces communs végétalisés avec cheminements piétons desservent les différents halls d'entrée sécurisés. *Source: Google Maps.\n",
      "***********\n",
      "Une adresse de choix pour devenir propriétaire. La station de métro, le lycée et les commerces sont accessibles à pied dans un rayon de 500 m*. Vous apprécierez la qualité résidentielle de la commune et choisirez parmi une typologie variée d'appartements du studio au 5 pièces duplex. Les espaces intérieurs sont pour la plupart prolongés d'agréables extérieurs, balcons, terrasses ou jardins privatifs. Un coeur d'îlot paysagrer et des espaces communs végétalisés avec cheminements piétons desservent les différents halls d'entrée sécurisés. *Source: Google Maps.\n",
      "***********\n",
      "Une adresse de choix pour devenir propriétaire. La station de métro, le lycée et les commerces sont accessibles à pied dans un rayon de 500 m*. Vous apprécierez la qualité résidentielle de la commune et choisirez parmi une typologie variée d'appartements du studio au 5 pièces duplex. Les espaces intérieurs sont pour la plupart prolongés d'agréables extérieurs, balcons, terrasses ou jardins privatifs. Un coeur d'îlot paysagrer et des espaces communs végétalisés avec cheminements piétons desservent les différents halls d'entrée sécurisés. *Source: Google Maps.\n",
      "***********\n",
      "Une adresse de choix pour devenir propriétaire. La station de métro, le lycée et les commerces sont accessibles à pied dans un rayon de 500 m*. Vous apprécierez la qualité résidentielle de la commune et choisirez parmi une typologie variée d'appartements du studio au 5 pièces duplex. Les espaces intérieurs sont pour la plupart prolongés d'agréables extérieurs, balcons, terrasses ou jardins privatifs. Un coeur d'îlot paysagrer et des espaces communs végétalisés avec cheminements piétons desservent les différents halls d'entrée sécurisés. *Source: Google Maps.\n",
      "***********\n",
      "Une adresse de choix pour devenir propriétaire. La station de métro, le lycée et les commerces sont accessibles à pied dans un rayon de 500 m*. Vous apprécierez la qualité résidentielle de la commune et choisirez parmi une typologie variée d'appartements du studio au 5 pièces duplex. Les espaces intérieurs sont pour la plupart prolongés d'agréables extérieurs, balcons, terrasses ou jardins privatifs. Un coeur d'îlot paysagrer et des espaces communs végétalisés avec cheminements piétons desservent les différents halls d'entrée sécurisés. *Source: Google Maps.\n",
      "***********\n",
      "Une nouvelle adresse au coeur du quartier résidentiel le plus prisé de Levallois-Perret. La résidence 120 DANTON, à l'architecture raffinée et élégante de style Art Déco, propose des appartements d'exception du STUDIO AU 5 PIÈCES DUPLEX, bien exposés et traversants pour la plupart, bénéficiant d'une grande clarté, de jardins privatifs, de vastes terrasses ou balcons. Crèches, commerces, établissements scolaires, équipements sportifs et culturels, et lieux de promenade (Parc de la Planchette, quais de Levallois) sont à quelques pas de cette nouvelle adresse parfaitement desservie par la ligne 3 du métro (stations Pont de Levallois et Anatole France à 6 minutes à pied*). Lignes Transilien depuis les gares de Bécon-les-Bruyères et Clichy-Levallois. Le périphérique est immédiatement accessible via la Porte de Champerret et les quais de Seine sont proches, à environ 700 mètres* de la résidence. Co-promotion BNP Paribas Immobilier et Emerige. * Sources: Google Maps, Vianavigo. Démarrage des travaux. Prix TTC indiqués hors parking.\n",
      "***********\n",
      "Une adresse de choix pour devenir propriétaire. La station de métro, le lycée et les commerces sont accessibles à pied dans un rayon de 500 m*. Vous apprécierez la qualité résidentielle de la commune et choisirez parmi une typologie variée d'appartements du studio au 5 pièces duplex. Les espaces intérieurs sont pour la plupart prolongés d'agréables extérieurs, balcons, terrasses ou jardins privatifs. Un coeur d'îlot paysagrer et des espaces communs végétalisés avec cheminements piétons desservent les différents halls d'entrée sécurisés. *Source: Google Maps.\n",
      "***********\n",
      "Une adresse de choix pour devenir propriétaire. La station de métro, le lycée et les commerces sont accessibles à pied dans un rayon de 500 m*. Vous apprécierez la qualité résidentielle de la commune et choisirez parmi une typologie variée d'appartements du studio au 5 pièces duplex. Les espaces intérieurs sont pour la plupart prolongés d'agréables extérieurs, balcons, terrasses ou jardins privatifs. Un coeur d'îlot paysagrer et des espaces communs végétalisés avec cheminements piétons desservent les différents halls d'entrée sécurisés. *Source: Google Maps.\n",
      "***********\n",
      "Une adresse de choix pour devenir propriétaire. La station de métro, le lycée et les commerces sont accessibles à pied dans un rayon de 500 m*. Vous apprécierez la qualité résidentielle de la commune et choisirez parmi une typologie variée d'appartements du studio au 5 pièces duplex. Les espaces intérieurs sont pour la plupart prolongés d'agréables extérieurs, balcons, terrasses ou jardins privatifs. Un coeur d'îlot paysagrer et des espaces communs végétalisés avec cheminements piétons desservent les différents halls d'entrée sécurisés. *Source: Google Maps.\n",
      "***********\n",
      "Une adresse de choix pour devenir propriétaire. La station de métro, le lycée et les commerces sont accessibles à pied dans un rayon de 500 m*. Vous apprécierez la qualité résidentielle de la commune et choisirez parmi une typologie variée d'appartements du studio au 5 pièces duplex. Les espaces intérieurs sont pour la plupart prolongés d'agréables extérieurs, balcons, terrasses ou jardins privatifs. Un coeur d'îlot paysagrer et des espaces communs végétalisés avec cheminements piétons desservent les différents halls d'entrée sécurisés. *Source: Google Maps.\n",
      "***********\n",
      "Une adresse de choix pour devenir propriétaire. La station de métro, le lycée et les commerces sont accessibles à pied dans un rayon de 500 m*. Vous apprécierez la qualité résidentielle de la commune et choisirez parmi une typologie variée d'appartements du studio au 5 pièces duplex. Les espaces intérieurs sont pour la plupart prolongés d'agréables extérieurs, balcons, terrasses ou jardins privatifs. Un coeur d'îlot paysagrer et des espaces communs végétalisés avec cheminements piétons desservent les différents halls d'entrée sécurisés. *Source: Google Maps.\n",
      "***********\n",
      "Une adresse de choix pour devenir propriétaire. La station de métro, le lycée et les commerces sont accessibles à pied dans un rayon de 500 m*. Vous apprécierez la qualité résidentielle de la commune et choisirez parmi une typologie variée d'appartements du studio au 5 pièces duplex. Les espaces intérieurs sont pour la plupart prolongés d'agréables extérieurs, balcons, terrasses ou jardins privatifs. Un coeur d'îlot paysagrer et des espaces communs végétalisés avec cheminements piétons desservent les différents halls d'entrée sécurisés. *Source: Google Maps.\n",
      "***********\n",
      "Une adresse de choix pour devenir propriétaire. La station de métro, le lycée et les commerces sont accessibles à pied dans un rayon de 500 m*. Vous apprécierez la qualité résidentielle de la commune et choisirez parmi une typologie variée d'appartements du studio au 5 pièces duplex. Les espaces intérieurs sont pour la plupart prolongés d'agréables extérieurs, balcons, terrasses ou jardins privatifs. Un coeur d'îlot paysagrer et des espaces communs végétalisés avec cheminements piétons desservent les différents halls d'entrée sécurisés. *Source: Google Maps.\n",
      "***********\n",
      "Une adresse de choix pour devenir propriétaire. La station de métro, le lycée et les commerces sont accessibles à pied dans un rayon de 500 m*. Vous apprécierez la qualité résidentielle de la commune et choisirez parmi une typologie variée d'appartements du studio au 5 pièces duplex. Les espaces intérieurs sont pour la plupart prolongés d'agréables extérieurs, balcons, terrasses ou jardins privatifs. Un coeur d'îlot paysagrer et des espaces communs végétalisés avec cheminements piétons desservent les différents halls d'entrée sécurisés. *Source: Google Maps.\n",
      "***********\n",
      "Une adresse de choix pour devenir propriétaire. La station de métro, le lycée et les commerces sont accessibles à pied dans un rayon de 500 m*. Vous apprécierez la qualité résidentielle de la commune et choisirez parmi une typologie variée d'appartements du studio au 5 pièces duplex. Les espaces intérieurs sont pour la plupart prolongés d'agréables extérieurs, balcons, terrasses ou jardins privatifs. Un coeur d'îlot paysagrer et des espaces communs végétalisés avec cheminements piétons desservent les différents halls d'entrée sécurisés. *Source: Google Maps.\n",
      "***********\n",
      "Une adresse de choix pour devenir propriétaire. La station de métro, le lycée et les commerces sont accessibles à pied dans un rayon de 500 m*. Vous apprécierez la qualité résidentielle de la commune et choisirez parmi une typologie variée d'appartements du studio au 5 pièces duplex. Les espaces intérieurs sont pour la plupart prolongés d'agréables extérieurs, balcons, terrasses ou jardins privatifs. Un coeur d'îlot paysagrer et des espaces communs végétalisés avec cheminements piétons desservent les différents halls d'entrée sécurisés. *Source: Google Maps.\n",
      "***********\n",
      "Une adresse de choix pour devenir propriétaire. La station de métro, le lycée et les commerces sont accessibles à pied dans un rayon de 500 m*. Vous apprécierez la qualité résidentielle de la commune et choisirez parmi une typologie variée d'appartements du studio au 5 pièces duplex. Les espaces intérieurs sont pour la plupart prolongés d'agréables extérieurs, balcons, terrasses ou jardins privatifs. Un coeur d'îlot paysagrer et des espaces communs végétalisés avec cheminements piétons desservent les différents halls d'entrée sécurisés. *Source: Google Maps.\n",
      "***********\n",
      "Une adresse de choix pour devenir propriétaire. La station de métro, le lycée et les commerces sont accessibles à pied dans un rayon de 500 m*. Vous apprécierez la qualité résidentielle de la commune et choisirez parmi une typologie variée d'appartements du studio au 5 pièces duplex. Les espaces intérieurs sont pour la plupart prolongés d'agréables extérieurs, balcons, terrasses ou jardins privatifs. Un coeur d'îlot paysagrer et des espaces communs végétalisés avec cheminements piétons desservent les différents halls d'entrée sécurisés. *Source: Google Maps.\n",
      "***********\n",
      "Une adresse de choix pour devenir propriétaire. La station de métro, le lycée et les commerces sont accessibles à pied dans un rayon de 500 m*. Vous apprécierez la qualité résidentielle de la commune et choisirez parmi une typologie variée d'appartements du studio au 5 pièces duplex. Les espaces intérieurs sont pour la plupart prolongés d'agréables extérieurs, balcons, terrasses ou jardins privatifs. Un coeur d'îlot paysagrer et des espaces communs végétalisés avec cheminements piétons desservent les différents halls d'entrée sécurisés. *Source: Google Maps.\n",
      "***********\n",
      "Une adresse de choix pour devenir propriétaire. La station de métro, le lycée et les commerces sont accessibles à pied dans un rayon de 500 m*. Vous apprécierez la qualité résidentielle de la commune et choisirez parmi une typologie variée d'appartements du studio au 5 pièces duplex. Les espaces intérieurs sont pour la plupart prolongés d'agréables extérieurs, balcons, terrasses ou jardins privatifs. Un coeur d'îlot paysagrer et des espaces communs végétalisés avec cheminements piétons desservent les différents halls d'entrée sécurisés. *Source: Google Maps.\n",
      "***********\n",
      "Une adresse de choix pour devenir propriétaire. La station de métro, le lycée et les commerces sont accessibles à pied dans un rayon de 500 m*. Vous apprécierez la qualité résidentielle de la commune et choisirez parmi une typologie variée d'appartements du studio au 5 pièces duplex. Les espaces intérieurs sont pour la plupart prolongés d'agréables extérieurs, balcons, terrasses ou jardins privatifs. Un coeur d'îlot paysagrer et des espaces communs végétalisés avec cheminements piétons desservent les différents halls d'entrée sécurisés. *Source: Google Maps.\n",
      "***********\n",
      "Une adresse de choix pour devenir propriétaire. La station de métro, le lycée et les commerces sont accessibles à pied dans un rayon de 500 m*. Vous apprécierez la qualité résidentielle de la commune et choisirez parmi une typologie variée d'appartements du studio au 5 pièces duplex. Les espaces intérieurs sont pour la plupart prolongés d'agréables extérieurs, balcons, terrasses ou jardins privatifs. Un coeur d'îlot paysagrer et des espaces communs végétalisés avec cheminements piétons desservent les différents halls d'entrée sécurisés. *Source: Google Maps.\n",
      "***********\n",
      "Une adresse de choix pour devenir propriétaire. La station de métro, le lycée et les commerces sont accessibles à pied dans un rayon de 500 m*. Vous apprécierez la qualité résidentielle de la commune et choisirez parmi une typologie variée d'appartements du studio au 5 pièces duplex. Les espaces intérieurs sont pour la plupart prolongés d'agréables extérieurs, balcons, terrasses ou jardins privatifs. Un coeur d'îlot paysagrer et des espaces communs végétalisés avec cheminements piétons desservent les différents halls d'entrée sécurisés. *Source: Google Maps.\n",
      "***********\n",
      "Une adresse de choix pour devenir propriétaire. La station de métro, le lycée et les commerces sont accessibles à pied dans un rayon de 500 m*. Vous apprécierez la qualité résidentielle de la commune et choisirez parmi une typologie variée d'appartements du studio au 5 pièces duplex. Les espaces intérieurs sont pour la plupart prolongés d'agréables extérieurs, balcons, terrasses ou jardins privatifs. Un coeur d'îlot paysagrer et des espaces communs végétalisés avec cheminements piétons desservent les différents halls d'entrée sécurisés. *Source: Google Maps.\n",
      "***********\n",
      "Une adresse de choix pour devenir propriétaire. La station de métro, le lycée et les commerces sont accessibles à pied dans un rayon de 500 m*. Vous apprécierez la qualité résidentielle de la commune et choisirez parmi une typologie variée d'appartements du studio au 5 pièces duplex. Les espaces intérieurs sont pour la plupart prolongés d'agréables extérieurs, balcons, terrasses ou jardins privatifs. Un coeur d'îlot paysagrer et des espaces communs végétalisés avec cheminements piétons desservent les différents halls d'entrée sécurisés. *Source: Google Maps.\n",
      "***********\n",
      "Une adresse de choix pour devenir propriétaire. La station de métro, le lycée et les commerces sont accessibles à pied dans un rayon de 500 m*. Vous apprécierez la qualité résidentielle de la commune et choisirez parmi une typologie variée d'appartements du studio au 5 pièces duplex. Les espaces intérieurs sont pour la plupart prolongés d'agréables extérieurs, balcons, terrasses ou jardins privatifs. Un coeur d'îlot paysagrer et des espaces communs végétalisés avec cheminements piétons desservent les différents halls d'entrée sécurisés. *Source: Google Maps.\n",
      "***********\n",
      "Une adresse de choix pour devenir propriétaire. La station de métro, le lycée et les commerces sont accessibles à pied dans un rayon de 500 m*. Vous apprécierez la qualité résidentielle de la commune et choisirez parmi une typologie variée d'appartements du studio au 5 pièces duplex. Les espaces intérieurs sont pour la plupart prolongés d'agréables extérieurs, balcons, terrasses ou jardins privatifs. Un coeur d'îlot paysagrer et des espaces communs végétalisés avec cheminements piétons desservent les différents halls d'entrée sécurisés. *Source: Google Maps.\n",
      "***********\n",
      "Une adresse de choix pour devenir propriétaire. La station de métro, le lycée et les commerces sont accessibles à pied dans un rayon de 500 m*. Vous apprécierez la qualité résidentielle de la commune et choisirez parmi une typologie variée d'appartements du studio au 5 pièces duplex. Les espaces intérieurs sont pour la plupart prolongés d'agréables extérieurs, balcons, terrasses ou jardins privatifs. Un coeur d'îlot paysagrer et des espaces communs végétalisés avec cheminements piétons desservent les différents halls d'entrée sécurisés. *Source: Google Maps.\n",
      "***********\n"
     ]
    }
   ],
   "source": [
    "queried_data = data.query(\"LABEL == 222\")\n",
    "\n",
    "for i in range(len(queried_data)):\n",
    "   print(queried_data[\"DESCRIPTION\"].iloc[i])\n",
    "   print(\"***********\")"
   ]
  },
  {
   "cell_type": "markdown",
   "metadata": {},
   "source": [
    "------------------------------------------------------------------------------------------------------------------------------------------------------------------------------------------------------------------------------"
   ]
  },
  {
   "cell_type": "markdown",
   "metadata": {},
   "source": [
    "---------------------------------------------------------------------------------------------------------------------------------------------------------------------------------------------------------------------------------------------------------------"
   ]
  },
  {
   "cell_type": "markdown",
   "metadata": {},
   "source": [
    "# Approche Matrice de similarité \n",
    "##### **(le 3 point évoqué au début dans la partie objectif)**\n",
    "\n",
    "\n",
    "Pour identifier les échantillons similaires, nous procédons en deux phases :\n",
    "1. définir un concept de similarité : Étant donné deux échantillons, évaluer dans quelle mesure ils peuvent être considérés comme similaires.\n",
    "2. regrouper les échantillons similaires : Regrouper les mêmes échantillons au sein d'une même Cluster\n",
    "\n",
    "\n",
    "### Définition d'une mesure de similarité\n",
    "\n",
    "Chaque échantillon est décrit par des caractéristiques (SURFACE, TYPE D'APPARTEMENT, ...) et peut donc être traité comme un vecteur. Cependant, il n'est pas évident de définir une similarité entre ces vecteurs, car l'exploration des données a révélé des défis majeurs à relever, notamment les caractéristiques suivantes :\n",
    "- catégorique et numérique\n",
    "- hétérogènes donc non additionnables (PRIX, SURFACE)\n",
    "- constituées de valeurs manquantes (j'ai essayé de les gérer)\n",
    "- légèrement différentes, même pour des \"échantillons similaires\"\n",
    "\n",
    "Nous relevons ces défis en comparant tout d'abord chaque caractéristique individuellement.\n",
    "Nous abordons l'hétérogénéité en choisissant des fonctions de distance et en les normalisant pour qu'elles soient comprises entre 0 et 1 pour l'invariance d'échelle. En particulier, nous utilisons\n",
    "- Pour les caractéristiques catégorielles : la *distance de Manhattan* normalisée par le nombre total de caractéristiques catégorielles.\n",
    "- Pour les données numériques : la *distance de Canberra*, synonyme de distance relative.\n",
    "\n",
    "\n",
    "Enfin, nous tenons compte des valeurs manquantes en pondérant les différences entre les caractéristiques. Nous considérons que les caractéristiques comportant peu de NA sont plus fiables et leur accordons donc plus de poids.\n",
    "\n",
    "En résumé, à partir de deux échantillons $\\mathrm{sample}_1$, $\\mathrm{sample}_2$, nous mesurons leur similarité comme suit\n",
    "$$\n",
    "\t\\mathrm{Similarity}(\\mathrm{sample}_1, \\mathrm{sample}_2) = 1 - \\sum_j \\mathrm{weight}_j \\times \\mathrm{distance}(\\mathrm{feature}_{j,1}, \\mathrm{feature}_{j,2})\n",
    "$$\n",
    "\n",
    "\n",
    "### Agrégation d'échantillons similaires\n",
    "En appliquant la méthode ci-dessus à toutes les paires d'échantillons, nous obtenons une matrice de similarité par paire.\n",
    "Chaque ligne de la matrice représente la similarité d'un échantillon par rapport à tous les autres échantillons.\n",
    "\n",
    "Comme l'a montré l'exploration des données, étant donné qu'il existe de légères différences entre les échantillons même s'ils sont \"similaires\", nous choisissons un seuil au-delà duquel nous pouvons considérer que deux échantillons sont identiques.\n",
    "\n",
    "Sur la base de ce seuil, nous pouvons assigner chaque échantillon à une grappe comprenant ses échantillons similaires."
   ]
  },
  {
   "cell_type": "markdown",
   "metadata": {},
   "source": [
    "------------------------------------------------------------------------------------------------------------------------------------------------------------------------------------------------------------------------------"
   ]
  },
  {
   "cell_type": "markdown",
   "metadata": {},
   "source": [
    "# Perspectives\n",
    "\n",
    "La résolution d'un problème de record linkage revêt une importance cruciale dans le secteur de l'immobilier. Elle permet d'assurer la qualité des données en regroupant les enregistrements similaires ou identiques, éliminant ainsi les doublons et améliorant la précision des informations. Cette démarche s'avère essentielle pour optimiser la recherche et l'analyse immobilières, garantissant des décisions éclairées et des opérations plus efficaces.\n",
    "\n",
    "En ce qui concerne ma démarche pour résoudre ce problème de record linkage, elle est déjà prometteuse, mais il reste des miss-classification. Cependant, il reste des possibilités d'amélioration, notamment en ce qui concerne l'exploitation de la variable **'DESCRIPTION'**. L'extraction des données manquantes à partir de cette variable représente un avantage considérable. Nous pourrons explorer l'utilisation de modèles de traitement du langage naturel tels que ceux d'OpenAI, en ayant recours à leur API pour extraire des informations à partir du texte. On pourra également envisager de finetuner des modèles open source tels que LLAMA et HuggingFace, ce qui constituerait un ajout précieux à mon approche. L'objectif principal est de maximiser le remplissage des valeurs manquantes.\n",
    "\n",
    "Par ailleurs, l'exploitation des images est une piste intéressante. Entraîner des modèles de traitement d'images ou finetuner des transformers spécifiquement conçus pour cette tâche peut apporter une grande précision. \n",
    "\n",
    "L'intégration de ces approches complémentaires nous permettra d'obtenir des résultats encore plus fiables et complets dans ce type de projet de record linkage pour les annonces immobilières."
   ]
  }
 ],
 "metadata": {
  "kernelspec": {
   "display_name": "base",
   "language": "python",
   "name": "python3"
  },
  "language_info": {
   "codemirror_mode": {
    "name": "ipython",
    "version": 3
   },
   "file_extension": ".py",
   "mimetype": "text/x-python",
   "name": "python",
   "nbconvert_exporter": "python",
   "pygments_lexer": "ipython3",
   "version": "3.9.13"
  }
 },
 "nbformat": 4,
 "nbformat_minor": 2
}
